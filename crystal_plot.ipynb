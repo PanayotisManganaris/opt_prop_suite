{
 "cells": [
  {
   "cell_type": "markdown",
   "metadata": {},
   "source": [
    "# crystal viewer"
   ]
  },
  {
   "cell_type": "code",
   "execution_count": 17,
   "metadata": {
    "scrolled": true
   },
   "outputs": [],
   "source": [
    "%matplotlib widget\n",
    "  \n",
    "# importing required libraries\n",
    "from mpl_toolkits.mplot3d import Axes3D\n",
    "import matplotlib.pyplot as plt\n",
    "\n",
    "#data tools\n",
    "import pandas as pd\n",
    "from pymatgen.ext.matproj import MPRester\n",
    "#from pymatgen.vis import structure_chemview as viz\n",
    "\n",
    "#simtool loading and interface\n",
    "from simtool import findInstalledSimToolNotebooks,searchForSimTool\n",
    "from simtool import getSimToolInputs,getSimToolOutputs,Run\n",
    "\n",
    "#user interface utilities \n",
    "import os, stat\n",
    "import ipywidgets as widgets\n",
    "from IPython.display import display\n",
    "from IPython.display import clear_output\n",
    "import numpy as np"
   ]
  },
  {
   "cell_type": "code",
   "execution_count": 3,
   "metadata": {
    "scrolled": true
   },
   "outputs": [
    {
     "data": {
      "application/vnd.jupyter.widget-view+json": {
       "model_id": "667ed9a142ec4acf9ba976ea2c080259",
       "version_major": 2,
       "version_minor": 0
      },
      "text/plain": [
       "HBox(children=(FloatProgress(value=0.0, max=18494.0), HTML(value='')))"
      ]
     },
     "metadata": {},
     "output_type": "display_data"
    }
   ],
   "source": [
    "with open(os.path.expanduser(\"~/.mpkey.txt\"), \"r+\") as file:\n",
    "    apikey = file.readline()\n",
    "rester = MPRester(apikey)\n",
    "sc_dicts = rester.query({ \"crystal_system\": \"cubic\"},\n",
    "                        [\"task_id\",\"pretty_formula\",\"formula\",\"elements\",\"e_above_hull\", \"spacegroup.number\", \"band_gap\", \"crystal_system\"])\n",
    "sc_df = pd.DataFrame(sc_dicts)"
   ]
  },
  {
   "cell_type": "code",
   "execution_count": null,
   "metadata": {},
   "outputs": [],
   "source": []
  },
  {
   "cell_type": "code",
   "execution_count": 143,
   "metadata": {
    "scrolled": false
   },
   "outputs": [
    {
     "name": "stdout",
     "output_type": "stream",
     "text": [
      "mp-2133\n",
      "Zn2 O2\n",
      "1.0\n",
      "1.592050 -2.757511 0.000000\n",
      "1.592050 2.757511 0.000000\n",
      "0.000000 0.000000 5.155100\n",
      "Zn O\n",
      "2 2\n",
      "direct\n",
      "0.666667 0.333333 0.500000 Zn\n",
      "0.333333 0.666667 0.000000 Zn\n",
      "0.666667 0.333333 0.880310 O\n",
      "0.333333 0.666667 0.380310 O\n",
      "\n",
      "{'Zn': 'b', 'O': 'g'}\n"
     ]
    },
    {
     "data": {
      "application/vnd.jupyter.widget-view+json": {
       "model_id": "88401afa6c6b465e90afaa6abdeddde4",
       "version_major": 2,
       "version_minor": 0
      },
      "text/plain": [
       "FigureCanvasNbAgg()"
      ]
     },
     "metadata": {},
     "output_type": "display_data"
    }
   ],
   "source": [
    "# import POSCAR file\n",
    "\n",
    "mpid = \"mp-2133\"\n",
    "struct = rester.get_structure_by_material_id(mpid, final = False, conventional_unit_cell=True)\n",
    "POSCAR_str = struct.to(fmt = \"poscar\")\n",
    "\n",
    "print(mpid)\n",
    "\n",
    "lines = POSCAR_str.split('\\n')\n",
    "print(POSCAR_str)\n",
    "\n",
    "# get the lattice information\n",
    "\n",
    "lattice = lines[1]\n",
    "cell_vectors = np.array([lines[2].split() , lines[3].split() , lines[4].split()]).astype(float)\n",
    "\n",
    "# get the list of sites\n",
    "\n",
    "sites = []\n",
    "for line in lines[8:]:\n",
    "    if not line:\n",
    "        break\n",
    "    sites.append([line.split()[0],line.split()[1],line.split()[2]])\n",
    "\n",
    "# convert from fractional to xyz\n",
    "\n",
    "sites = np.array(sites).astype(float)\n",
    "xyz = np.matmul(sites,cell_vectors).transpose()\n",
    "\n",
    "# get the coordinates of the box\n",
    "\n",
    "corners = np.array([[0,1,1,0,0,0,0,1,1,0,0,1,1,1,1,0,0],[0,0,1,1,0,0,0,0,1,1,0,0,0,1,1,1,1],[0,0,0,0,0,1,1,1,1,1,1,1,0,0,1,1,0]]).T\n",
    "cell = np.matmul(corners,cell_vectors).transpose()\n",
    "\n",
    "# get a color dictionary\n",
    "\n",
    "elements = lines[5].split()\n",
    "atoms = lines[6].split()\n",
    "hues = ['b','g','r','y']\n",
    "colors = []\n",
    "for i, atom in enumerate(atoms):\n",
    "    colors.extend([elements[i]]*int(atoms[i]))\n",
    "\n",
    "zip_iterator = zip(elements,hues)\n",
    "color_dict = dict(zip_iterator)\n",
    "print(color_dict)\n",
    "\n",
    "# creating figure\n",
    "\n",
    "plt.close('all')\n",
    "\n",
    "fig = plt.figure()\n",
    "ax = Axes3D(fig)\n",
    "  \n",
    "plot = ax.scatter(xyz[0],xyz[1],xyz[2], color=[color_dict[i] for i in colors], s = 256)\n",
    "plot = ax.plot(cell[0],cell[1],cell[2],color='black')\n",
    "  \n",
    "ax.set_title(\"POSCAR\")\n",
    "ax.axis('off')\n",
    "  \n",
    "# displaying the plot\n",
    "plt.show()"
   ]
  },
  {
   "cell_type": "code",
   "execution_count": null,
   "metadata": {},
   "outputs": [],
   "source": []
  }
 ],
 "metadata": {
  "kernelspec": {
   "display_name": "Python 3",
   "language": "python",
   "name": "python3"
  },
  "language_info": {
   "codemirror_mode": {
    "name": "ipython",
    "version": 3
   },
   "file_extension": ".py",
   "mimetype": "text/x-python",
   "name": "python",
   "nbconvert_exporter": "python",
   "pygments_lexer": "ipython3",
   "version": "3.7.7"
  }
 },
 "nbformat": 4,
 "nbformat_minor": 2
}
