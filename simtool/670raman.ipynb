{
 "cells": [
  {
   "cell_type": "markdown",
   "metadata": {},
   "source": [
    "# 670raman"
   ]
  },
  {
   "cell_type": "code",
   "execution_count": null,
   "metadata": {
    "tags": [
     "DESCRIPTION"
    ]
   },
   "outputs": [],
   "source": [
    "DESCRIPTION = \"\"\"\n",
    "Panos Manganaris, Kat Nykiel\n",
    "Simtool for the automated generation of Raman and IR Spectra from QE vc-relax>scf>ph>dynmat pipeline\n",
    "\"\"\""
   ]
  },
  {
   "cell_type": "code",
   "execution_count": null,
   "metadata": {},
   "outputs": [],
   "source": [
    "def copyAndSaveFileAsOutput(outputVariableName,inputPath):\n",
    "    \"\"\" saves an ouput variable as a file at inputpath \"\"\"\n",
    "    if inputPath:\n",
    "        if inputPath.startswith('file://'):\n",
    "            resultFile = os.path.basename(inputPath[7:])\n",
    "            if resultFile != inputPath[7:]:\n",
    "                shutil.copy2(inputPath[7:],resultFile)\n",
    "        else:\n",
    "            resultFile = os.path.basename(inputPath)\n",
    "            if resultFile != inputPath:\n",
    "                shutil.copy2(inputPath,resultFile)\n",
    "        db.save(outputVariableName,file=resultFile)"
   ]
  },
  {
   "cell_type": "code",
   "execution_count": null,
   "metadata": {},
   "outputs": [],
   "source": [
    "def copyAndSaveFileAsBogusOutput(outputVariableName,inputPath):\n",
    "    \"\"\" saves an output variable as a placeholder file if file does not exist \"\"\"\n",
    "    if inputPath:\n",
    "        if inputPath.startswith('file://'):\n",
    "            resultFile = os.path.basename(inputPath[7:])\n",
    "            if resultFile != inputPath[7:]:\n",
    "                shutil.copy2(inputPath[7:],resultFile)\n",
    "        else:\n",
    "            resultFile = os.path.basename(inputPath)\n",
    "            if resultFile != inputPath:\n",
    "                shutil.copy2(inputPath,resultFile)\n",
    "        try:\n",
    "            db.save(outputVariableName,file=resultFile + \"_bogus\")\n",
    "        except FileNotFoundError as e:\n",
    "            print(\"%s\" % (e.args[0]))"
   ]
  },
  {
   "cell_type": "code",
   "execution_count": null,
   "metadata": {},
   "outputs": [],
   "source": [
    "%load_ext yamlmagic"
   ]
  },
  {
   "cell_type": "code",
   "execution_count": null,
   "metadata": {
    "tags": [
     "INPUTS"
    ]
   },
   "outputs": [],
   "source": [
    "%%yaml INPUTS\n",
    "# Notebook Monitoring\n",
    "loglevel:\n",
    "    type: Choice\n",
    "    description: python logging module level setting\n",
    "    options: [\"DEBUG\", \"INFO\", \"WARNING\", \"ERROR\", \"CRITICAL\"]\n",
    "    value: \"WARNING\"\n",
    "\n",
    "# submit resource requests and queue preferences\n",
    "numnodes:\n",
    "    type: Number\n",
    "    discription: Number of processors for mpi execution\n",
    "    value: 1\n",
    "    min: 1\n",
    "    max: 8\n",
    "        \n",
    "walltime:\n",
    "    type: Text\n",
    "    description: Maximum time to wait for reduced job load on cluster in HH:MM:SS time format\n",
    "    value: \"01:00:00\"\n",
    "\n",
    "# User-defined Chemistry\n",
    "compound:\n",
    "    type: Text\n",
    "    description: Chemical Formula of Semiconductor\n",
    "    value: \"ZnO\"\n",
    "        \n",
    "spacegroup_international:\n",
    "    type: Integer\n",
    "    description: Internationally recognized integer code for crystal structure spacegroup designation\n",
    "    value: 186\n",
    "    min: 1\n",
    "    max: 230\n",
    "# wurtzite ZnO Default\n",
    "\n",
    "spacegroup_hermann_maugin:\n",
    "    type: Choice\n",
    "    description: Currently Not Implemented -- Hermann-Maugin spacegroup designation\n",
    "    options: ['P4_2bc', 'R32', 'P6_3cm', 'P4_132', 'R-3c', 'I4_1/acd', 'I422', 'P2_12_12', 'Ibam', 'P6_122', 'P-62m', 'P-4m2', 'F23',\n",
    " 'P6_4', 'P3_2', 'P2_1', 'P2/m', 'I23', 'P4_2nm', 'Pban', 'P4/mnc', 'P-42c', 'Pn-3n', 'I4/mcm', 'I-43d', 'I4_122', 'Fmm2',\n",
    " 'I222', 'P23', 'Ima2', 'P6_3/mmc', 'I-42d', 'Imma', 'P4_322', 'P4/nmm', 'Pmc2_1', 'P6_3/mcm', 'Cmmm', 'P4_2/ncm', 'Pmmm',\n",
    " 'Pmma', 'P2', 'Ibca', 'R-3', 'C222', 'P3_121', 'I4_1/amd', 'P4_3', 'R3m', 'P-42_1c', 'P4', 'P6/mcc', 'Ccce', 'P4_2mc',\n",
    " 'Pnc2', 'P4_32_12', 'Cc', 'P-62c', 'I2_12_12_1', 'Ccc2', 'P4_2', 'C2/m', 'P4_122', 'P4_2/mcm', 'P4_2/m', 'Pa-3', 'P4nc',\n",
    " 'P31c', 'P2_12_12_1', 'I432', 'F-43c','P4_1', 'R-3m', 'P6_3/m', 'I-4m2', 'P6_522', 'Imm2', 'Pnnn', 'P4/mmm', 'P-4n2', 'P3m1',\n",
    " 'Cccm', 'Pccm', 'Cmcm', 'P-31m', 'Pn-3m', 'Cmce', 'Aea2', 'Aem2', 'Ia-3d', 'P-1', 'Fd-3m', 'P-42m', 'Pna2_1', 'Pmmn',\n",
    " 'C2/c', 'I4cm', 'F-43m', 'I4/mmm', 'Pc', 'P622', 'P312', 'I4/m', 'P6_3', 'Pm', 'P6/mmm', 'P42_12', 'P3_112', 'P6cc',\n",
    " 'P222', 'P6mm', 'P-43m', 'Pcc2', 'I4_1md', 'Fd-3c', 'P2_1/c', 'P4_2/nmc', 'F432', 'P-4c2', 'Pma2', 'P31m', 'Fm-3c', 'P6_2',\n",
    " 'I4_132', 'P222_1', 'R3', 'P3c1', 'P2_1/m', 'P-3c1', 'P-3', 'P-42_1m', 'P4_332', 'P-4b2', 'F4_132', 'P4/mbm', 'Cmc2_1',\n",
    " 'P4_12_12', 'P6_322', 'P4/m', 'P-43n', 'P6_3mc', 'P4_232', 'Pnma', 'P-6', 'Pbca', 'P4_2/nnm', 'P-6m2', 'P4_2/n', 'Pccn',\n",
    " 'P4_2/mmc', 'Iba2', 'P6_222', 'P6_1', 'P4/n', 'F222', 'P4bm', 'Amm2', 'P4_2/mnm', 'R3c', 'Fd-3', 'I-43m', 'P-31c', 'Pbcn',\n",
    " 'I4_1/a', 'P-6c2', 'Cm', 'Pbam', 'P4/nbm', 'P1', 'Pba2', 'Ama2', 'Pmm2', 'I4mm', 'I-42m', 'P4_2cm', 'Pm-3m', 'P-3m1', 'C222_1', 'Pnnm',\n",
    " 'P6_5', 'I-4c2', 'P6/m', 'P4/ncc', 'Ia-3', 'Pm-3', 'P321', 'Immm', 'Fddd', 'Pm-3n', 'P4_2/mbc', 'I2_13', 'Pbcm', 'P4/mcc',\n",
    " 'P2/c', 'P422', 'Fdd2', 'I4', 'P3_1', 'Im-3', 'I-4', 'P4mm', 'P4_2/nbc', 'I4_1cd', 'P3_221', 'Pca2_1', 'Im-3m', 'Fm-3',\n",
    " 'Pnn2', 'C2', 'P4/nnc', 'P3_212', 'Pcca', 'Fm-3m', 'Pn-3', 'P-4', 'Pmna', 'P4cc', 'Fmmm', 'P6_422', 'Cmme', 'Pmn2_1',\n",
    " 'Pnna', 'P2_13', 'I4_1', 'P4_22_12', 'Cmm2', 'P3'] #only 237. missing three. 640 including variations exist?\n",
    "    value: \"P6_3mc\"\n",
    "        \n",
    "spacegroup_hall:\n",
    "    type: Text\n",
    "    description: Currently Not Implemented -- Hall crystal structure spacegroup designation. \n",
    "    value: \"P 6c -2c\"\n",
    "\n",
    "pps:\n",
    "    type: List\n",
    "    description: List of pseudopotentials in UPF format to be used by simulator. Potentials must either exist in ./simtool/pseudo or be accessible at http://www.quantum-espresso.org/wp-content/uploads/upf_files/\n",
    "    value: [\"O.pbe-hgh.UPF\", \"Zn.pbe-d-hgh.UPF\"]\n",
    "        \n",
    "smearing:\n",
    "    type: Choice\n",
    "    discription: Setting the extent to which there is metal-like sharing of electrons\n",
    "    options: ['smearing', 'fixed']\n",
    "    value: 'fixed'\n",
    "\n",
    "# Simulator settings\n",
    "ecutwfc:\n",
    "    type: Number\n",
    "    description: kinetic energy cutoff for wavefunctions\n",
    "    value: 120\n",
    "    min: 50\n",
    "    max: 400\n",
    "    units: Ry\n",
    "\n",
    "ecutrho:\n",
    "    type: Number\n",
    "    description: kinetic energy cutoff for charge density and potential. Recommended (but not required) to be 4 times the cutoff for wavefunctions.\n",
    "    value: 480\n",
    "    min: 200\n",
    "    max: 1600\n",
    "\n",
    "epsil:\n",
    "    type: Boolean\n",
    "    description: true for solid crystals, false for molecules\n",
    "    value: True\n",
    "        \n",
    "lraman:\n",
    "    type: Boolean\n",
    "    description: compute raman tensor with gga functionals when true, LDA functionals when false\n",
    "    value: True\n",
    "\n",
    "# Structure Blocks -- Optionally Define Structure Blocks Manually\n",
    "user_kpoints_block:\n",
    "    type: Text\n",
    "    description: optional string stating number of kpoints along each direction in reciprocal space\n",
    "    value: None\n",
    "        \n",
    "user_cell_parameters_block:\n",
    "    type: Text\n",
    "    description: optional string of nine whitespace separated numbers. Every three define a lattice vector.\n",
    "    value: None\n",
    "        \n",
    "user_atomic_positions_block:\n",
    "    type: Text\n",
    "    description: optional multiline \"\"\"string\"\"\". One element followed by three fractional coordinates per line.\n",
    "    value: None\n",
    "        \n",
    "user_atomic_masses:\n",
    "    type: Text\n",
    "    description: optional string stating molar mass of consituent elements in decending order\n",
    "    value: None"
   ]
  },
  {
   "cell_type": "code",
   "execution_count": null,
   "metadata": {
    "tags": [
     "OUTPUTS"
    ]
   },
   "outputs": [],
   "source": [
    "%%yaml OUTPUTS\n",
    "\n",
    "#vcrstdout: #objects are currently illegal simtool outputs!  Perhaps extend simtool so structures and process can be directly returned for manual manipulation?\n",
    "#    type: Text\n",
    "#    description: CompletedProcess Object returned by pw.x vc-relax submission\n",
    "#scfstdout:\n",
    "#    type: Text\n",
    "#    description: CompletedProcess Object returned by pw.x self consistent field calculation submission \n",
    "#phstdout:\n",
    "#    type: Text\n",
    "#    description: CompletedProcess Object returned by ph.x lattice vibration solver submission\n",
    "#dmstdout:\n",
    "#    type: Text\n",
    "#    description: CompletedProcess Object returned by dynmat.x dynamical matrix calculation submission\n",
    "#        \n",
    "spectra:\n",
    "    type: Dict\n",
    "    description: Dictionary of pandas Series of dynamat.x output containing mode numbers and frequencies of IR and Raman Spectra\n",
    "        \n",
    "logreport:\n",
    "    type: Text\n",
    "    description: contents of the run logfile populated according to loglevel"
   ]
  },
  {
   "cell_type": "code",
   "execution_count": null,
   "metadata": {
    "tags": [
     "FILES"
    ]
   },
   "outputs": [],
   "source": [
    "EXTRA_FILES = [\"./pseudo\"]\n",
    "# add the pp repository files to the simtool directory so they can be found automatically\n",
    "# find a way to copy new pseudopotentials to the simtool home so network access is not always needed."
   ]
  },
  {
   "cell_type": "code",
   "execution_count": null,
   "metadata": {
    "tags": [
     "parameters"
    ]
   },
   "outputs": [],
   "source": [
    "#parameters: define default values which can be overwritten at runtime -- parameters should NOT be interdependent\n",
    "from simtool import getValidatedInputs\n",
    "\n",
    "defaultInputs = getValidatedInputs(INPUTS)\n",
    "if defaultInputs:\n",
    "    globals().update(defaultInputs)\n",
    "#papermill adds injected parameters sell after this cell containing run settings\n",
    "#Don't intake passwords/keys/private info -- can't seem to delete from RUNS"
   ]
  },
  {
   "cell_type": "markdown",
   "metadata": {},
   "source": [
    "## Translate User Choices to Backend Variables as Necessary"
   ]
  },
  {
   "cell_type": "code",
   "execution_count": null,
   "metadata": {},
   "outputs": [],
   "source": [
    "import logging\n",
    "vars()[\"DEBUG\"] = logging.DEBUG\n",
    "vars()[\"INFO\"] = logging.INFO\n",
    "vars()[\"WARNING\"] = logging.WARNING\n",
    "vars()[\"ERROR\"] = logging.ERROR\n",
    "vars()[\"CRITICAL\"] = logging.CRITICAL\n",
    "logfmt = '[%(levelname)s] %(asctime)s - %(message)s'\n",
    "logging.basicConfig(filename='run.log', level=vars()[loglevel], datefmt=\"%Y-%m-%d %H:%M:%S\", format=logfmt)"
   ]
  },
  {
   "cell_type": "code",
   "execution_count": null,
   "metadata": {},
   "outputs": [],
   "source": [
    "#whichever spacegroup setting is not default becomes the effective spacegroup\n",
    "if spacegroup_international != 186: #priority given to the ones that are harder to screw up\n",
    "    spacegroup = spacegroup_international\n",
    "elif spacegroup_hermann_maugin != \"P6_3mc\":\n",
    "    spacegroup = spacegroup_hermann_maugin\n",
    "elif spacegroup_hall != \"P 6c -2c\":\n",
    "    spacegroup = spacegroup_hall\n",
    "else:\n",
    "    spacegroup = spacegroup_international #defaults all nominally refer to wurtzite ZnO... it's more complex than that"
   ]
  },
  {
   "cell_type": "code",
   "execution_count": null,
   "metadata": {},
   "outputs": [],
   "source": [
    "# probably best not to just assign the sting \"None\" to the None singleton...\n",
    "if user_kpoints_block == \"None\":\n",
    "    user_kpoints_block = None\n",
    "if user_cell_parameters_block == \"None\":\n",
    "    user_cell_parameters_block = None\n",
    "if user_atomic_positions_block == \"None\":\n",
    "    user_atomic_positions_block = None\n",
    "if user_atomic_masses == \"None\":\n",
    "    user_atomic_masses = None"
   ]
  },
  {
   "cell_type": "markdown",
   "metadata": {},
   "source": [
    "## define simtool dependencies"
   ]
  },
  {
   "cell_type": "code",
   "execution_count": null,
   "metadata": {},
   "outputs": [],
   "source": [
    "#cli + fs utilities\n",
    "import sys\n",
    "import os\n",
    "import io\n",
    "import shutil\n",
    "import subprocess\n",
    "\n",
    "#nanohub utilities\n",
    "import hublib.use\n",
    "import fileinput\n",
    "from simtool import DB, parse\n",
    "\n",
    "#automate retreival of crystal structures and pseudopotentials from Materials Project\n",
    "from pymatgen.ext.matproj import MPRester\n",
    "from pymatgen.core import Structure, Lattice, Element, Composition\n",
    "import openbabel # automates translation of pymatgen structs to useful file formats\n",
    "#process and categorize crystal structures\n",
    "import spglib\n",
    "from pymatgen.symmetry.analyzer import SpacegroupAnalyzer as spga\n",
    "\n",
    "#misc tools\n",
    "import math\n",
    "import pandas as pd\n",
    "import numpy as np\n",
    "\n",
    "#%use espresso-6.2.1\n",
    "#Apparently not functioning? sufficient to declare espresso-6.8 in submit call"
   ]
  },
  {
   "cell_type": "code",
   "execution_count": null,
   "metadata": {},
   "outputs": [],
   "source": [
    "# activate rest api for user's MP Key while keeping mpkey private!\n",
    "# Optionally Utilize MP database if user has keyfile '.mpkey.txt' in home automatically\n",
    "logging.info(\"Accessing MPRester\")\n",
    "if os.path.exists(os.path.expanduser('~/.mpkey.txt')):\n",
    "    with open(os.path.expanduser('~/.mpkey.txt'), 'r') as keyfile:\n",
    "        mpapikey = keyfile.readline()\n",
    "    if not mpapikey.isalnum():\n",
    "        logging.debug(\"Wrong Key. 670raman infering structure from spacegroup\")\n",
    "        mpdbcheck = False\n",
    "    else:\n",
    "        rester = MPRester(mpapikey)\n",
    "        del mpapikey\n",
    "        logging.debug(\"Key is valid\")\n",
    "        mpdbcheck = True\n",
    "logging.info(f\"670raman using published structures: {mpdbcheck}\")"
   ]
  },
  {
   "cell_type": "markdown",
   "metadata": {},
   "source": [
    "## Validating/Correcting User Defined Chemistry Inputs"
   ]
  },
  {
   "cell_type": "code",
   "execution_count": null,
   "metadata": {},
   "outputs": [],
   "source": [
    "logging.info(f\"User Entered: {compound}\")\n",
    "vcomp = Composition.ranked_compositions_from_indeterminate_formula(compound, lock_if_strict=True)\n",
    "logging.info(f\"User likely refering to one of these compositions: {vcomp}\")\n",
    "if isinstance(vcomp, list) and vcomp:\n",
    "    vcomp = vcomp[0] #ordered by likelyhood so pick best candidate\n",
    "    logging.debug(f\"vcomp is type {type(vcomp)}\")\n",
    "    logging.info(f\"if {not vcomp.valid}, the input composition contains dummy species\")\n",
    "else:\n",
    "    raise ValueError(f\"The compound: {compound} is not recognizable as a valid chemical formula\")"
   ]
  },
  {
   "cell_type": "code",
   "execution_count": null,
   "metadata": {},
   "outputs": [],
   "source": [
    "#Obtain Specified pps\n",
    "# We don't seem to have network access permissions in slurm, so this doesn't work \n",
    "#for pp in pps:\n",
    "#    COMMANDwgetpp = f\"wget -O ./pseudo/{pp} http://www.quantum-espresso.org/wp-content/uploads/upf_files/{pp}\"\n",
    "#    subprocess.run(COMMANDwgetpp.split())\n",
    "# Attempt to generate pseudopotentials on the spot?\n",
    "# pmg potcar --symbols Li_sv O --functional PBE #Can potcar be converted to UPF format?"
   ]
  },
  {
   "cell_type": "code",
   "execution_count": null,
   "metadata": {},
   "outputs": [],
   "source": [
    "# extract element key from pps\n",
    "pppart_list = []\n",
    "for pp in pps:\n",
    "    ppparts = pp.split('.')\n",
    "    pppart_list.append(ppparts[0])\n",
    "    logging.debug(f\"from {pp} got {ppparts[0]}\")\n",
    "#sort formula elements and atomic mass by decending atomic mass\n",
    "amass_ar = np.array([Element(el).atomic_mass for el in vcomp.to_reduced_dict.keys()])\n",
    "massive_first = np.argsort(amass_ar).tolist()[::-1]\n",
    "amass_falling = amass_ar[massive_first]\n",
    "el_falling = np.array([el for el in vcomp.to_reduced_dict.keys()])[massive_first]\n",
    "logging.debug(f\"Elements in order of decending mass: {el_falling}. Decending mass: {amass_falling}\")\n",
    "#sort pps to match\n",
    "pps_amass_ar = np.array([Element(el).atomic_mass for el in pppart_list])\n",
    "pps_massive_first = np.argsort(pps_amass_ar).tolist()[::-1]\n",
    "pps_falling = np.array(pps)[pps_massive_first]\n",
    "logging.debug(f\"Pseudopotentials in order of decending mass: {pps_falling}\")\n",
    "\n",
    "if len(pps_falling) != len(el_falling):\n",
    "    logging.warning(f\"There are not as many Pseudopotentials as Species. This may not work\")"
   ]
  },
  {
   "cell_type": "markdown",
   "metadata": {},
   "source": [
    "## Obtain Crystal Structure(s) of Compound Unit Cell from Database\n",
    "#### Obtain standard and conventional sim cell from Structure(s) \n",
    "### or\n",
    "## Generate from Space Group, Lattice, Elements, and Factional Coords\n",
    "### or\n",
    "## Take the User's input as gospel"
   ]
  },
  {
   "cell_type": "code",
   "execution_count": null,
   "metadata": {},
   "outputs": [],
   "source": [
    "if user_cell_parameters_block is not None:\n",
    "    #split user's string and build with pymatgen for feasibility\n",
    "    #cell_parameters_block = user_cell_parameters_block\n",
    "    raise NotImplementedError(\"only autogenerated lattice parameters are currently supported\")\n",
    "elif mpdbcheck:\n",
    "    #get locally stable structure(s) from database\n",
    "    material = rester.get_data(vcomp.reduced_formula)\n",
    "    logging.info(f\"{len(material)} materials with formula {vcomp.reduced_formula} are registered with Materials Project\")\n",
    "    mpids = []\n",
    "    structs = []\n",
    "    for index, item in enumerate(material):\n",
    "        if item['spacegroup']['number'] == spacegroup:\n",
    "            #recordkeeping\n",
    "            mpid = item.get('material_id')\n",
    "            mpids.append(mpid)\n",
    "            logging.info(f\"{mpid} belongs to spacegroup {spacegroup}\")\n",
    "            #structure retreival -- pre relaxation and \"standard, conventional\" (unrefined?) unit cell\n",
    "            struct = rester.get_structure_by_material_id(mpid, final = False, conventional_unit_cell=True)\n",
    "            structs.append(struct)\n",
    "            #structure lattice extraction\n",
    "            sa = spga(struct) #use for lattice equivocation/resolution?\n",
    "            logging.info(f\"ID: {mpid} {vcomp.reduced_formula} is an {sa.get_crystal_system()} crystal\")\n",
    "            logging.debug(f\"{mpid} has refined structure: {sa.get_refined_structure()}\")\n",
    "    #multistructure resolution and standardization\n",
    "    #is hard.... So Just pick the first one\n",
    "    if not structs:\n",
    "        raise ValueError(\"The given inputs do not correspond to a structure file that exists on Materials Project!\")\n",
    "    struct = structs[0]\n",
    "    bio = io.BytesIO()\n",
    "    np.savetxt(bio, struct.lattice.matrix, fmt=\"%0.8f\")# to much precision in the input files causes convergence issues. to little causes symmetry issues.\n",
    "    cell_parameters_block = bio.getvalue().decode('latin1')\n",
    "    logging.info(f\"\"\"The standardized conventional lattice parameters are obtained from {mpids[0]} of {mpids}:\n",
    "                {cell_parameters_block}\"\"\")\n",
    "else:\n",
    "    raise NotImplementedError(\"Currently Only Structures Obtainable from the Materials Project Database are Supported\")\n",
    "    #material = Structure.from_spacegroup(spacegroup, Lattice.from_parameters(a,b,c,al,be,ga),\n",
    "    #                                     vcomp.to_reduced_dict.keys(),\n",
    "    #                                     [[0.25, 0.25, 0.25], [0, 0, 0]])\n",
    "    #cell_parameters_block = \"\"\"\n",
    "    #3.289102 0.000000 0.000000\n",
    "    #-1.644551 2.848446 0.000000\n",
    "    #0.000000 0.000000 5.306821\n",
    "    #\"\"\""
   ]
  },
  {
   "cell_type": "code",
   "execution_count": null,
   "metadata": {},
   "outputs": [],
   "source": [
    "#pw's atomic Species block and dm's amass_block\n",
    "if user_atomic_masses is not None:\n",
    "    raise NotImplementedError('Currently only automatic species block assembly is supported')\n",
    "    #atomic_species_block = \"\"\"\"\"\"\n",
    "    #amass_block = \"\"\"\"\"\"\n",
    "else:\n",
    "    atomic_species_block = \"\"\"\"\"\"\n",
    "    for pp, amass, species in zip(pps_falling, amass_falling, el_falling):\n",
    "        block_line = f\"{species} {amass} {pp}\\n\"\n",
    "        atomic_species_block += block_line\n",
    "    logging.info(f\"\"\"The atomic_species_block:\n",
    "    {atomic_species_block}\"\"\")\n",
    "    amass_block = \"\"\"\"\"\"\n",
    "    for ind, amass in enumerate(amass_falling):\n",
    "        block_line = f\"amass({ind+1})={amass},\\n  \"\n",
    "        amass_block += block_line\n",
    "    logging.info(f\"\"\"The amass_block:\n",
    "    {amass_block}\"\"\")"
   ]
  },
  {
   "cell_type": "code",
   "execution_count": null,
   "metadata": {},
   "outputs": [],
   "source": [
    "def get_fractional_coords_as_qe_array(periodicsitesobj):\n",
    "    at_site = np.array([str(*periodicsitesobj.species.to_reduced_dict.keys()), periodicsitesobj.a, periodicsitesobj.b, periodicsitesobj.c])\n",
    "    # str might break if the species has whitespaces in it... I think. Or maybe that's just for unpacked lists\n",
    "    return at_site\n",
    "\n",
    "if user_atomic_positions_block is not None:\n",
    "    raise NotImplementedError('Currently only automatic species location is supported')\n",
    "else:\n",
    "    atomic_positions_block = np.array(list(map(lambda x: get_fractional_coords_as_qe_array(x), struct.sites)))\n",
    "    bio = io.BytesIO()\n",
    "    np.savetxt(bio, atomic_positions_block, fmt=\"%s\", encoding=\"latin1\")\n",
    "    atomic_positions_block = bio.getvalue().decode('latin1')\n",
    "    logging.info(f\"\"\"The atomic sites are obtained from {mpid} of {mpids}:\n",
    "                {atomic_positions_block}\"\"\")"
   ]
  },
  {
   "cell_type": "code",
   "execution_count": null,
   "metadata": {},
   "outputs": [],
   "source": [
    "if user_kpoints_block is not None:\n",
    "    raise NotImplementedError('Currently only automatic kmesh selection is supported')\n",
    "else:\n",
    "    kpoints_block = \"3 3 2 0 0 0\""
   ]
  },
  {
   "cell_type": "markdown",
   "metadata": {},
   "source": [
    "## Prepare input files to simulation pipline in quantum espresso .in format\n",
    "\n",
    "#### insert validated inputs into the predetermined format strings:"
   ]
  },
  {
   "cell_type": "code",
   "execution_count": null,
   "metadata": {},
   "outputs": [],
   "source": [
    "vcrelax_input = f\"\"\"\n",
    " &control\n",
    "    calculation='vc-relax',\n",
    "    restart_mode='from_scratch',\n",
    "    prefix='{vcomp.reduced_formula}',\n",
    "    outdir='./',\n",
    "    pseudo_dir = './',\n",
    "    etot_conv_thr=1.0d-6,\n",
    "    forc_conv_thr=1.0d-6,\n",
    "    nstep=100,\n",
    "/\n",
    " &system    \n",
    "    ibrav= 0, celldm(1)=1 ,nat= 4, ntyp= 2,\n",
    "    ecutwfc = {ecutwfc}, ecutrho = {ecutrho},\n",
    "    occupations={smearing}, {\"smearing='mp', degauss=0.06,\" if smearing == 'smearing' else \"\"}\n",
    "/\n",
    " &electrons\n",
    "    mixing_beta =0.7,\n",
    "    conv_thr =1.0d-8,\n",
    "/\n",
    " &ions\n",
    "    ion_dynamics='bfgs'\n",
    "/\n",
    "&cell\n",
    "    cell_dynamics='bfgs',\n",
    "    press=0.0,\n",
    "    cell_factor=4.0,\n",
    "    press_conv_thr=0.5,\n",
    "/\n",
    "CELL_PARAMETERS (alat= 1.00000000)\n",
    "{cell_parameters_block}\n",
    "ATOMIC_SPECIES\n",
    "{atomic_species_block}\n",
    "ATOMIC_POSITIONS (crystal)\n",
    "{atomic_positions_block}\n",
    "K_POINTS (automatic)\n",
    "{kpoints_block}\n",
    "\"\"\"\n",
    "\n",
    "ph_input = f\"\"\"\n",
    "Normal modes for {sa.get_crystal_system()} {vcomp.reduced_formula}\n",
    " &inputph\n",
    "  tr2_ph=1.0d-14,\n",
    "  prefix='{vcomp.reduced_formula}',\n",
    "  {amass_block}outdir='./'\n",
    "  epsil=.{epsil}.,\n",
    "  lraman=.{lraman}.,\n",
    "  trans=.true.,\n",
    "  asr=.true.,\n",
    "  fildyn='dmat.{vcomp.reduced_formula}'\n",
    "  ! ldisp=.true.\n",
    " /\n",
    " 0.0 0.0 0.0\n",
    "\"\"\"\n",
    "\n",
    "dm_input = f\"\"\"\n",
    "&input fildyn='dmat.{vcomp.reduced_formula}', asr='zero-dim' /\n",
    "\"\"\"\n",
    "logging.debug(f\"{ph_input}\")"
   ]
  },
  {
   "cell_type": "markdown",
   "metadata": {},
   "source": [
    "## Write Input Files. Name Output Files. Prepare to Assign Validated Outputs"
   ]
  },
  {
   "cell_type": "code",
   "execution_count": null,
   "metadata": {},
   "outputs": [],
   "source": [
    "# fixed starting point input file generation\n",
    "vcr_input_file = open(f\"{vcomp.reduced_formula}.vc-relax.in\", \"w\")\n",
    "ph_input_file = open(f\"{vcomp.reduced_formula}.ph.in\", \"w\")\n",
    "dm_input_file = open(f\"{vcomp.reduced_formula}.dm.in\", \"w\")\n",
    "\n",
    "vcr_input_file.write(vcrelax_input)\n",
    "ph_input_file.write(ph_input)\n",
    "dm_input_file.write(dm_input)\n",
    "\n",
    "vcr_input_file.close()\n",
    "ph_input_file.close()\n",
    "dm_input_file.close()"
   ]
  },
  {
   "cell_type": "code",
   "execution_count": null,
   "metadata": {},
   "outputs": [],
   "source": [
    "# output file generation\n",
    "vcr_output_file = open(f\"{vcomp.reduced_formula}.vc-relax.out\", \"w\")\n",
    "scf_output_file = open(f\"{vcomp.reduced_formula}.scf.out\", \"w\")\n",
    "ph_output_file = open(f\"{vcomp.reduced_formula}.ph.out\", \"w\")\n",
    "#dmat_file = open(f\"dmat.{vcomp.reduced_formula}\", \"w\")\n",
    "dm_output_file = open(f\"{vcomp.reduced_formula}.dm.out\", \"w\")"
   ]
  },
  {
   "cell_type": "code",
   "execution_count": null,
   "metadata": {},
   "outputs": [],
   "source": [
    "db = DB(OUTPUTS)"
   ]
  },
  {
   "cell_type": "markdown",
   "metadata": {},
   "source": [
    "## Prepare Psudopotential args for Run"
   ]
  },
  {
   "cell_type": "code",
   "execution_count": null,
   "metadata": {},
   "outputs": [],
   "source": [
    "pp_args = \"\"\n",
    "for pp in pps:\n",
    "    pp_args += f\"-i pseudo/{pp} \""
   ]
  },
  {
   "cell_type": "markdown",
   "metadata": {},
   "source": [
    "## Assemble Job Commands and Sequentially Submit to Cluster\n",
    "#### First perform variable cell relaxation and receive optimized structure"
   ]
  },
  {
   "cell_type": "code",
   "execution_count": null,
   "metadata": {},
   "outputs": [],
   "source": [
    "COMMANDvcr = f\"espresso-6.8_pw > {vcr_output_file.name}\"\n",
    "SUBMITvcr = f\"submit -n {numnodes} -w {walltime} -e QE_DISABLE_GGA_PBE=0 --runName {vcomp.reduced_formula}vcr {COMMANDvcr} {pp_args} -i {vcr_input_file.name} \"\n",
    "logging.info(\"reached cell relaxation...\")\n",
    "spvcr = subprocess.run(SUBMITvcr.split(), capture_output=True, text=True)\n",
    "spvcr_out = \"\"\"\"\"\".join(spvcr.stdout)\n",
    "spvcr_err = \"\"\"\"\"\".join(spvcr.stderr)\n",
    "logging.debug(\" \".join(spvcr.args))\n",
    "logging.info(f\"\"\"\\nprocess output:\\n{spvcr_out}\\n\"\"\")\n",
    "logging.debug(f\"\"\"\\nprocess err out:\\n{spvcr_err}\\n\"\"\")\n",
    "vcr_output_file.close()\n",
    "#db.save('vcrstdout', spvcr) #cannot save artbitrary objects as outputs."
   ]
  },
  {
   "cell_type": "markdown",
   "metadata": {},
   "source": [
    "# Extract the new structure from the vc-relax calculation"
   ]
  },
  {
   "cell_type": "code",
   "execution_count": null,
   "metadata": {},
   "outputs": [],
   "source": [
    "# extract structure data from vc-relax.out and save to scf input\n",
    "matrix_start = \"CELL_PARAMETERS\"\n",
    "atpos_start = \"ATOMIC_POSITIONS\"\n",
    "atpos_end = \"End final coordinates\"\n",
    "matrix_inds = []\n",
    "atpos_inds = []\n",
    "with open(f\"{vcr_output_file.name}\", \"rt\") as vcrout:\n",
    "    vcr_lines = vcrout.readlines()\n",
    "    \n",
    "#raise exception for bad file\n",
    "if not vcr_lines:\n",
    "    raise IndexError(\"vcrelax calculation did not output anything to file. It probably failed to run\")\n",
    "else:\n",
    "    preamble = \"\".join(vcr_lines[14:40])\n",
    "    logging.debug(f\"\"\"The first meaningful lines of vc relaxation output are: {preamble}\\n\"\"\")\n",
    "\n",
    "try:\n",
    "    # Getting structure block line locations in the file\n",
    "    for ind, line in enumerate(vcr_lines):\n",
    "        if matrix_start in line:\n",
    "            logging.debug(f\"adding line {ind} to cell matrix reference locations\")\n",
    "            matrix_inds.append(ind)  \n",
    "        if atpos_start in line:\n",
    "            logging.debug(f\"adding line {ind} to site reference locations\")\n",
    "            atpos_inds.append(ind)\n",
    "        if atpos_end in line:\n",
    "            logging.debug(f\"line {ind} is the end of structure info\")\n",
    "            end = ind\n",
    "    \n",
    "    # get the new cell parameters\n",
    "    relaxed_cell_parameters_block = \"\"\"\"\"\"\n",
    "    for line in [lines for lines in vcr_lines[matrix_inds[-1]+1:atpos_inds[-1]-1]]:\n",
    "        logging.debug(\"looping though final cell matrix lines\")\n",
    "        relaxed_cell_parameters_block += line\n",
    "    \n",
    "    # get the new atomic positions\n",
    "    if end:\n",
    "        relaxed_atomic_positions_block = \"\"\"\"\"\"\n",
    "        for line in [lines for lines in vcr_lines[atpos_inds[-1]+1:end]]:\n",
    "            logging.debug(\"looping though final atomic sites lines\")\n",
    "            relaxed_atomic_positions_block += line\n",
    "    else:\n",
    "        logging.error(\"Variable Cell Relaxation Failed to Converge! Try increasing ecutwfc to at least 200. The calculation is proceeding with most relaxed structure found.\")\n",
    "        end_lines_list = [line for line in vcr_lines[atpos_inds[-1]+1:-1]]\n",
    "        relaxed_atomic_positions_block = \"\"\"\"\"\"\n",
    "        for line in end_lines_list:\n",
    "            if line != \"\\n\" :\n",
    "                logging.debug(\"looping though final atomic sites lines\")\n",
    "                relaxed_atomic_positions_block += line                 \n",
    "                 \n",
    "    logging.info(f\"\"\"The Lattice Parameters after relaxation are:\n",
    "    {relaxed_cell_parameters_block}\"\"\")\n",
    "    logging.info(f\"\"\"The atomic sites after relaxation are:\n",
    "    {relaxed_atomic_positions_block}\"\"\")\n",
    "except:\n",
    "    raise ValueError(f\"{vcr_output_file.name} contains lines, but no reference to a relaxed structure. pw.x failed for some reason\")\n",
    "\n",
    "scf_input = f\"\"\"\n",
    "&CONTROL\n",
    "  calculation  = \"scf\",\n",
    "  prefix       = \"{vcomp.reduced_formula}\",\n",
    "  pseudo_dir   = \"./\",\n",
    "  outdir       = \"./\",\n",
    "/\n",
    "&SYSTEM\n",
    "  ibrav=0, celldm(1) =1, nat= 4, ntyp= 2,\n",
    "  occupations={smearing}, {\"smearing='marzari-vanderbilt', degauss=0.02,\" if smearing == 'smearing' else \"\"}\n",
    "  ecutwfc ={ecutwfc},\n",
    "/\n",
    "&ELECTRONS\n",
    "  mixing_mode='plain'\n",
    "  mixing_beta = 0.5,\n",
    "  startingwfc='random',\n",
    "  conv_thr =  1.0d-8\n",
    "/\n",
    "CELL_PARAMETERS (alat= 1.00000000)\n",
    "{relaxed_cell_parameters_block}\n",
    "ATOMIC_SPECIES\n",
    "{atomic_species_block}\n",
    "ATOMIC_POSITIONS (crystal)\n",
    "{relaxed_atomic_positions_block}\n",
    "K_POINTS (automatic)\n",
    "{kpoints_block}\n",
    "\"\"\"\n",
    "\n",
    "# write to the file\n",
    "scf_input_file = open(f\"{vcomp.reduced_formula}.scf.in\", \"w\")\n",
    "scf_input_file.write(scf_input)\n",
    "scf_input_file.close()"
   ]
  },
  {
   "cell_type": "markdown",
   "metadata": {},
   "source": [
    "#### Next perform self consistent field calculation with new structure to optimize wavefunction"
   ]
  },
  {
   "cell_type": "code",
   "execution_count": null,
   "metadata": {},
   "outputs": [],
   "source": [
    "COMMANDscf = f\"espresso-6.8_pw > {scf_output_file.name}\"\n",
    "SUBMITscf = f\"submit -n {numnodes} -w {walltime} -e QE_DISABLE_GGA_PBE=0 --runName {vcomp.reduced_formula}scf {COMMANDscf} {pp_args} -i {scf_input_file.name}\"\n",
    "logging.info(\"reached self consistent field calculation...\")\n",
    "spscf = subprocess.run(SUBMITscf.split(), capture_output=True, text=True)\n",
    "spscf_out = \"\"\"\"\"\".join(spscf.stdout)\n",
    "spscf_err = \"\"\"\"\"\".join(spscf.stderr)\n",
    "logging.debug(\" \".join(spscf.args))\n",
    "logging.info(f\"\"\"\\nprocess output:\\n{spscf_out}\\n\"\"\")\n",
    "logging.debug(f\"\"\"\\nprocess err out:\\n{spscf_err}\\n\"\"\")\n",
    "scf_output_file.close()\n",
    "#db.save('scfstdout', spscf)"
   ]
  },
  {
   "cell_type": "markdown",
   "metadata": {},
   "source": [
    "#### Next compute vibrational frequencies\n",
    "ph.x takes as inputs:\n",
    "1. compound.ph.in file\n",
    "2. compound.scf.out file\n",
    "\n",
    "produces outputs:\n",
    "1. compound.ph.out file\n",
    "2. dmat.compound file"
   ]
  },
  {
   "cell_type": "code",
   "execution_count": null,
   "metadata": {},
   "outputs": [],
   "source": [
    "COMMANDph = f\"espresso-6.8_ph > {ph_output_file.name}\"\n",
    "extra_inargs = f\"-i {vcomp.reduced_formula}.xml -i {vcomp.reduced_formula}.save\"\n",
    "SUBMITph = f\"submit -n {numnodes} -w {walltime} -e QE_DISABLE_GGA_PBE=0 --runName {vcomp.reduced_formula}ph {extra_inargs} {COMMANDph} -in {ph_input_file.name} {pp_args}\"\n",
    "logging.info(\"reached phonon calculation...\")\n",
    "spph = subprocess.run(SUBMITph.split(), capture_output=True, text=True)\n",
    "spph_out = \"\"\"\"\"\".join(spph.stdout)\n",
    "spph_err = \"\"\"\"\"\".join(spph.stderr)\n",
    "logging.debug(\" \".join(spph.args))\n",
    "logging.info(f\"\"\"\\nprocess output:\\n{spph_out}\\n\"\"\")\n",
    "logging.debug(f\"\"\"\\nprocess err out:\\n{spph_err}\\n\"\"\")\n",
    "ph_output_file.close()\n",
    "#db.save('phstdout', spph)"
   ]
  },
  {
   "cell_type": "markdown",
   "metadata": {},
   "source": [
    "#### Next extract phonon spectra\n",
    "dynmat.x takes as inputs:\n",
    "1. compound.dm.in\n",
    "2. dmat.compound\n",
    "\n",
    "dmat.compound may be malformed... Why this happens, even amongst compositoins in the same spacegroup simply with variably defined unit cells is unknown to me.\n",
    "\n",
    "produces output:\n",
    "1. compound.dm.out\n",
    "\n",
    "This output contains the spectrum tensor and can be used to plot the spectrum"
   ]
  },
  {
   "cell_type": "code",
   "execution_count": null,
   "metadata": {},
   "outputs": [],
   "source": [
    "try:\n",
    "    with open(f\"dmat.{vcomp.reduced_formula}\", 'r') as dynmat:\n",
    "        dmtext = dynmat.read()\n",
    "    logging.info(dmtext)\n",
    "except:\n",
    "    logging.critical(f\"dmat.{vcomp.reduced_formula} is empty. ph.x likely crashed\")"
   ]
  },
  {
   "cell_type": "code",
   "execution_count": null,
   "metadata": {},
   "outputs": [],
   "source": [
    "COMMANDdm = f\"espresso-6.8_dynmat > {dm_output_file.name}\"\n",
    "extra_inargs = f\"-i dmat.{vcomp.reduced_formula}\"\n",
    "SUBMITdm = f\"submit -n {numnodes} -w {walltime} -e QE_DISABLE_GGA_PBE=0 --runName {vcomp.reduced_formula}dm {extra_inargs} {COMMANDdm} -in {dm_input_file.name}\" \n",
    "logging.info(\"reached dynamical matrix calculation...\")\n",
    "spdm = subprocess.run(SUBMITdm.split(), capture_output=True, text=True)\n",
    "spdm_out = \"\"\"\"\"\".join(spdm.stdout)\n",
    "spdm_err = \"\"\"\"\"\".join(spdm.stderr)\n",
    "logging.debug(\" \".join(spdm.args))\n",
    "logging.info(f\"\"\"\\nprocess output:\\n{spdm_out}\\n\"\"\")\n",
    "logging.debug(f\"\"\"\\nprocess err out:\\n{spdm_err}\\n\"\"\")\n",
    "#dmat_file.close() #might be overwritting the qe's attempt to output this file automatically?\n",
    "dm_output_file.close()\n",
    "#db.save('dmstdout', spdm)"
   ]
  },
  {
   "cell_type": "markdown",
   "metadata": {},
   "source": [
    "## Parse Output Files for Declared Results"
   ]
  },
  {
   "cell_type": "code",
   "execution_count": null,
   "metadata": {},
   "outputs": [],
   "source": [
    "with open(f\"{dm_output_file.name}\", \"rt\") as resultfile:\n",
    "    results = resultfile.readlines()\n",
    "\n",
    "try:\n",
    "    results_start = \"mode\"\n",
    "    results_end = \"DYNMAT\"\n",
    "    for ind, line in enumerate(results):\n",
    "        if results_start in line:\n",
    "            start = ind\n",
    "        if results_end in line:\n",
    "            end = ind\n",
    "    \n",
    "    spectra_data = \"\".join(results[start:end]).replace(\"#\",\" \")\n",
    "\n",
    "    logging.info(f\"\"\"The Predicted Spectrographs for {sa.get_crystal_system()} {vcomp.reduced_formula} are: {spectra_data}\"\"\")\n",
    "except:\n",
    "    logging.error(f\"{dm_output_file.name} may not contain a modes and frequencies card. dynmat.x likely failed to produce it. dmat.{vcomp.reduced_formula} may be malformed\")\n",
    "    pass"
   ]
  },
  {
   "cell_type": "markdown",
   "metadata": {},
   "source": [
    "### Assign results to output variables/hardcopy plot files"
   ]
  },
  {
   "cell_type": "code",
   "execution_count": null,
   "metadata": {},
   "outputs": [],
   "source": [
    "try:\n",
    "    result_stream = io.StringIO(spectra_data)\n",
    "    result_stream.seek(0)\n",
    "    spectradf = pd.read_csv(result_stream, error_bad_lines=False, sep=\"\\s+|\\t+|\\s+\\t+|\\t+\\s\")\n",
    "except:\n",
    "    pass"
   ]
  },
  {
   "cell_type": "code",
   "execution_count": null,
   "metadata": {},
   "outputs": [],
   "source": [
    "with open(\"run.log\", 'r') as logfile:\n",
    "    logtext = logfile.read()\n",
    "db.save('logreport', logtext)"
   ]
  },
  {
   "cell_type": "code",
   "execution_count": null,
   "metadata": {},
   "outputs": [],
   "source": [
    "try: \n",
    "    db.save('spectra', spectradf.to_dict())\n",
    "except:\n",
    "    raise ValueError(f\"No spectra dataframe was produced from processing {dm_output_file.name}\")"
   ]
  }
 ],
 "metadata": {
  "celltoolbar": "Tags",
  "kernelspec": {
   "display_name": "Python 3",
   "language": "python",
   "name": "python3"
  },
  "language_info": {
   "codemirror_mode": {
    "name": "ipython",
    "version": 3
   },
   "file_extension": ".py",
   "mimetype": "text/x-python",
   "name": "python",
   "nbconvert_exporter": "python",
   "pygments_lexer": "ipython3",
   "version": "3.8.10"
  }
 },
 "nbformat": 4,
 "nbformat_minor": 2
}
