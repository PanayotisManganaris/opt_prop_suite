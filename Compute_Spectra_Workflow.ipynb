{
 "cells": [
  {
   "cell_type": "markdown",
   "metadata": {},
   "source": [
    "# Compute Spectra Workflow\n",
    "- Identify material system of interest\n",
    "- Specify simulation parameters\n",
    "- Run simulation\n",
    "- Extract simulation outputs\n",
    "\n",
    "[this cell will be deleted / cleaned up in the future]"
   ]
  },
  {
   "cell_type": "markdown",
   "metadata": {},
   "source": [
    "###  Import Dependencies"
   ]
  },
  {
   "cell_type": "code",
   "execution_count": 1,
   "metadata": {},
   "outputs": [
    {
     "name": "stderr",
     "output_type": "stream",
     "text": [
      "/apps/share64/debian7/anaconda/anaconda-6/lib/python3.7/site-packages/xarray/core/merge.py:10: FutureWarning: The Panel class is removed from pandas. Accessing it from the top-level namespace will also be removed in the next version\n",
      "  PANDAS_TYPES = (pd.Series, pd.DataFrame, pd.Panel)\n"
     ]
    }
   ],
   "source": [
    "%matplotlib widget\n",
    "\n",
    "#data tools\n",
    "import pandas as pd\n",
    "import numpy as np\n",
    "import qgrid\n",
    "from pymatgen.ext.matproj import MPRester\n",
    "from pymatgen.vis import structure_chemview as viz\n",
    "\n",
    "#simtool loading and interface\n",
    "from simtool import findInstalledSimToolNotebooks,searchForSimTool\n",
    "from simtool import getSimToolInputs,getSimToolOutputs,Run\n",
    "\n",
    "#user interface utilities \n",
    "import os, stat\n",
    "import plotly.express as px\n",
    "import ipywidgets as widgets\n",
    "from IPython.display import display\n",
    "from IPython.display import clear_output\n",
    "from IPython.display import HTML\n"
   ]
  },
  {
   "cell_type": "markdown",
   "metadata": {},
   "source": [
    "### User Create ~/.mpkey.txt if it doesn't already exist"
   ]
  },
  {
   "cell_type": "code",
   "execution_count": null,
   "metadata": {},
   "outputs": [],
   "source": [
    "#key security\n",
    "try:\n",
    "    user = str(input('Paste MP API key: '))\n",
    "    clear_output()\n",
    "    if not user.isalnum():\n",
    "        raise TypeError('Wrong Key')\n",
    "    if user is None:\n",
    "        raise TypeError('Empty')\n",
    "    with open(os.path.expanduser('~/.mpkey.txt'), 'w') as keyfile:\n",
    "        keyfile.write(user)\n",
    "    os.chmod(os.path.expanduser('~/.mpkey.txt'), stat.S_IREAD | stat.S_IWRITE)\n",
    "    del user\n",
    "    print(\"Success\")\n",
    "except:\n",
    "    print(\"Something seems wrong with your key\")"
   ]
  },
  {
   "cell_type": "markdown",
   "metadata": {},
   "source": [
    "## User Prompted To pick their Semiconductor of Choice\n",
    "### Choice (a): query MP and fliter on properties. Dataframe is updated with each selection."
   ]
  },
  {
   "cell_type": "code",
   "execution_count": 2,
   "metadata": {},
   "outputs": [
    {
     "data": {
      "text/html": [
       "<script>\n",
       "code_show=true; \n",
       "function code_toggle() {\n",
       "    if (code_show){\n",
       "        $('div.cell.code_cell.rendered.selected div.input').hide();\n",
       "    } else {\n",
       "        $('div.cell.code_cell.rendered.selected div.input').show();\n",
       "    }\n",
       "    code_show = !code_show\n",
       "} \n",
       "$( document ).ready(code_toggle);\n",
       "</script>\n",
       "To show/hide this cell's raw code input, click <a href=\"javascript:code_toggle()\">here</a>."
      ],
      "text/plain": [
       "<IPython.core.display.HTML object>"
      ]
     },
     "metadata": {},
     "output_type": "display_data"
    },
    {
     "data": {
      "application/vnd.jupyter.widget-view+json": {
       "model_id": "5c94f89a6a80484cba4dd107cace9b71",
       "version_major": 2,
       "version_minor": 0
      },
      "text/plain": [
       "HBox(children=(FloatProgress(value=0.0, max=18494.0), HTML(value='')))"
      ]
     },
     "metadata": {},
     "output_type": "display_data"
    }
   ],
   "source": [
    "# Taken from https://stackoverflow.com/questions/31517194/how-to-hide-one-specific-cell-input-or-output-in-ipython-notebook\n",
    "tag = HTML('''<script>\n",
    "code_show=true; \n",
    "function code_toggle() {\n",
    "    if (code_show){\n",
    "        $('div.cell.code_cell.rendered.selected div.input').hide();\n",
    "    } else {\n",
    "        $('div.cell.code_cell.rendered.selected div.input').show();\n",
    "    }\n",
    "    code_show = !code_show\n",
    "} \n",
    "$( document ).ready(code_toggle);\n",
    "</script>\n",
    "To show/hide this cell's raw code input, click <a href=\"javascript:code_toggle()\">here</a>.''')\n",
    "\n",
    "display(tag)\n",
    "\n",
    "# query MP, get all cubic systems\n",
    " \n",
    "with open(os.path.expanduser(\"~/.mpkey.txt\"), \"r+\") as file:\n",
    "    apikey = file.readline()\n",
    "rester = MPRester(apikey)\n",
    "sc_dicts = rester.query({ \"crystal_system\": \"cubic\"},\n",
    "                        [\"task_id\",\"pretty_formula\",\"formula\",\"elements\",\"e_above_hull\", \"spacegroup.number\", \"band_gap\", \"crystal_system\"])\n",
    "sc_df = pd.DataFrame(sc_dicts)\n",
    "\n",
    "# define a function for visualizing input structures\n",
    "\n",
    "def mpid_plot(mpid):\n",
    "\n",
    "    # import POSCAR file\n",
    "\n",
    "    struct = rester.get_structure_by_material_id(mpid, final = False, conventional_unit_cell=True)\n",
    "    POSCAR_str = struct.to(fmt = \"poscar\")\n",
    "\n",
    "    lines = POSCAR_str.split('\\n')\n",
    "\n",
    "    # get the lattice information\n",
    "\n",
    "    lattice = lines[1]\n",
    "    cell_vectors = np.array([lines[2].split() , lines[3].split() , lines[4].split()]).astype(float)\n",
    "\n",
    "    # get the list of sites\n",
    "\n",
    "    sites = []\n",
    "    for line in lines[8:]:\n",
    "        if not line:\n",
    "            break\n",
    "        sites.append([line.split()[0],line.split()[1],line.split()[2]])\n",
    "\n",
    "    # convert from fractional to xyz\n",
    "\n",
    "    sites = np.array(sites).astype(float)\n",
    "    xyz = np.matmul(sites,cell_vectors).transpose()\n",
    "\n",
    "    # get the coordinates of the box\n",
    "\n",
    "    corners = np.array([[0,1,1,0,0,0,0,1,1,0,0,1,1,1,1,0,0],[0,0,1,1,0,0,0,0,1,1,0,0,0,1,1,1,1],[0,0,0,0,0,1,1,1,1,1,1,1,0,0,1,1,0]]).T\n",
    "    cell = np.matmul(corners,cell_vectors).transpose()\n",
    "    \n",
    "    box = pd.DataFrame({'x':cell[0],'y':cell[1],'z':cell[2]})\n",
    "\n",
    "    # get a color dictionary\n",
    "\n",
    "    elements = lines[5].split()\n",
    "    atoms = lines[6].split()\n",
    "    hues = ['tab:blue','tab:orange','tab:green','tab:red']\n",
    "    colors = []\n",
    "    for i, atom in enumerate(atoms):\n",
    "        colors.extend([elements[i]]*int(atoms[i]))\n",
    "\n",
    "    zip_iterator = zip(elements,hues)\n",
    "    color_dict = dict(zip_iterator)\n",
    "    \n",
    "    size = 72\n",
    "    POSCAR_df = pd.DataFrame({'x':xyz[0],'y':xyz[1],'z':xyz[2],'element':colors,'size':size})    \n",
    "    fig = px.scatter_3d(POSCAR_df, x='x', y='y', z='z',\n",
    "              color='element',labels={'x':'','y':'','z':''},size='size',size_max=size)\n",
    "    \n",
    "    box = px.line_3d(box,x='x', y='y', z='z')\n",
    "    fig.add_traces(list(box.select_traces()))\n",
    "    \n",
    "    fig.update_layout(scene = dict(\n",
    "                    xaxis = dict(\n",
    "                        nticks=0,showbackground=False,showticklabels=False,),\n",
    "                    yaxis = dict(\n",
    "                        nticks=0,showbackground=False,showticklabels=False,),\n",
    "                    zaxis = dict(\n",
    "                        nticks=0,showbackground=False,showticklabels=False,),),\n",
    "                    width=700,\n",
    "                    margin=dict(r=10, l=10, b=10, t=10)\n",
    "                  )\n",
    "\n",
    "    fig.show()\n",
    "    "
   ]
  },
  {
   "cell_type": "code",
   "execution_count": 3,
   "metadata": {
    "scrolled": false
   },
   "outputs": [
    {
     "data": {
      "text/html": [
       "<script>\n",
       "code_show=true; \n",
       "function code_toggle() {\n",
       "    if (code_show){\n",
       "        $('div.cell.code_cell.rendered.selected div.input').hide();\n",
       "    } else {\n",
       "        $('div.cell.code_cell.rendered.selected div.input').show();\n",
       "    }\n",
       "    code_show = !code_show\n",
       "} \n",
       "$( document ).ready(code_toggle);\n",
       "</script>\n",
       "To show/hide this cell's raw code input, click <a href=\"javascript:code_toggle()\">here</a>."
      ],
      "text/plain": [
       "<IPython.core.display.HTML object>"
      ]
     },
     "metadata": {},
     "output_type": "display_data"
    },
    {
     "data": {
      "application/vnd.jupyter.widget-view+json": {
       "model_id": "9501170a50fd40ba90e55bd02e1f40f9",
       "version_major": 2,
       "version_minor": 0
      },
      "text/plain": [
       "IntText(value=2133, description='MPID:')"
      ]
     },
     "metadata": {},
     "output_type": "display_data"
    },
    {
     "data": {
      "application/vnd.jupyter.widget-view+json": {
       "model_id": "8b4a31259dc1482aaa8d110088d8c6cd",
       "version_major": 2,
       "version_minor": 0
      },
      "text/plain": [
       "Button(description='plot', style=ButtonStyle(), tooltip='plot')"
      ]
     },
     "metadata": {},
     "output_type": "display_data"
    },
    {
     "data": {
      "application/vnd.jupyter.widget-view+json": {
       "model_id": "2cca398955034dc4b45b92dc188b1cde",
       "version_major": 2,
       "version_minor": 0
      },
      "text/plain": [
       "Output()"
      ]
     },
     "metadata": {},
     "output_type": "display_data"
    },
    {
     "data": {
      "application/vnd.jupyter.widget-view+json": {
       "model_id": "0530fb5918b34e8ba4ce02cc850ce931",
       "version_major": 2,
       "version_minor": 0
      },
      "text/plain": [
       "QgridWidget(grid_options={'fullWidthRows': True, 'syncColumnCellResize': True, 'forceFitColumns': True, 'defau…"
      ]
     },
     "metadata": {},
     "output_type": "display_data"
    }
   ],
   "source": [
    "display(tag)\n",
    "\n",
    "# create widgets\n",
    "\n",
    "mpid = widgets.IntText(\n",
    "        value=2133,\n",
    "        description='MPID:',\n",
    "        disabled=False\n",
    ")\n",
    "\n",
    "plot_button = widgets.Button(\n",
    "    description='plot',\n",
    "    disabled=False,\n",
    "    button_style='', # 'success', 'info', 'warning', 'danger' or ''\n",
    "    tooltip='plot'\n",
    ")\n",
    "\n",
    "# TODO: figure out a system of taking input from EITHER mpid input, or qgrid selected data (ideally when you click on qgrid it auto-plots)\n",
    "        \n",
    "def on_button_clicked(b):\n",
    "    with output:\n",
    "        clear_output(wait=True)\n",
    "        mpid_selected=\"mp-\"+str(mpid.value)\n",
    "        mpid_plot(mpid_selected)\n",
    "\n",
    "def on_row_selected(change):\n",
    "    with output:\n",
    "        try:\n",
    "            clear_output(wait=True)\n",
    "            selected_row = mpid_widget.get_changed_df().index[mpid_widget.get_selected_rows()][0]\n",
    "            mpid_selected= sc_df.at[selected_row,'task_id']\n",
    "            mpid.value = mpid_selected.split('-')[1]\n",
    "        except:\n",
    "            mpid_selected=\"mp-\"+str(mpid.value)\n",
    "        mpid_plot(mpid_selected)\n",
    "\n",
    "\n",
    "output = widgets.Output()\n",
    "plot_button.on_click(on_button_clicked)\n",
    "display(mpid, plot_button, output)\n",
    "\n",
    "# if you don't, search for your structure by filtering\n",
    "mpid_widget = qgrid.show_grid(sc_df)\n",
    "mpid_widget.observe(on_row_selected, names=['_selected_rows'])\n",
    "\n",
    "\n",
    "# filter by pretty_formula to look for a specific structure\n",
    "display(mpid_widget)\n"
   ]
  },
  {
   "cell_type": "markdown",
   "metadata": {},
   "source": [
    "### Get structure from MP database\n",
    "TODO: could be combined with the last cell"
   ]
  },
  {
   "cell_type": "code",
   "execution_count": 4,
   "metadata": {},
   "outputs": [
    {
     "data": {
      "text/plain": [
       "{'@module': 'pymatgen.core.structure',\n",
       " '@class': 'Structure',\n",
       " 'charge': None,\n",
       " 'lattice': {'matrix': [[1.5920500003918698, -2.7575114888687695, 0.0],\n",
       "   [1.5920500003918698, 2.7575114888687695, 0.0],\n",
       "   [0.0, 0.0, 5.1551]],\n",
       "  'a': 3.1841000007837397,\n",
       "  'b': 3.1841000007837397,\n",
       "  'c': 5.1551,\n",
       "  'alpha': 90.0,\n",
       "  'beta': 90.0,\n",
       "  'gamma': 120.00000000000001,\n",
       "  'volume': 45.26276950032406},\n",
       " 'sites': [{'species': [{'element': 'Zn', 'occu': 1}],\n",
       "   'abc': [0.6666666666666666, 0.3333333333333333, 0.5],\n",
       "   'xyz': [1.5920500003918696, -0.9191704962895898, 2.57755],\n",
       "   'label': 'Zn',\n",
       "   'properties': {}},\n",
       "  {'species': [{'element': 'Zn', 'occu': 1}],\n",
       "   'abc': [0.3333333333333333, 0.6666666666666666, 0.0],\n",
       "   'xyz': [1.5920500003918696, 0.9191704962895898, 0.0],\n",
       "   'label': 'Zn',\n",
       "   'properties': {}},\n",
       "  {'species': [{'element': 'O', 'occu': 1}],\n",
       "   'abc': [0.6666666666666666, 0.3333333333333333, 0.8803099999999999],\n",
       "   'xyz': [1.5920500003918696, -0.9191704962895898, 4.538086080999999],\n",
       "   'label': 'O',\n",
       "   'properties': {}},\n",
       "  {'species': [{'element': 'O', 'occu': 1}],\n",
       "   'abc': [0.3333333333333333, 0.6666666666666666, 0.3803099999999999],\n",
       "   'xyz': [1.5920500003918696, 0.9191704962895898, 1.9605360809999997],\n",
       "   'label': 'O',\n",
       "   'properties': {}}]}"
      ]
     },
     "execution_count": 4,
     "metadata": {},
     "output_type": "execute_result"
    }
   ],
   "source": [
    "# This is passed to the simtool to perform simulations\n",
    "# structure objects obtained directly from remote database queries must be passed to simtool as dictionaries to preserve maximum numerical precision\n",
    "# quantum espresso is very sensitive to precision especially for relaxation calculations.\n",
    "struct = rester.get_structure_by_material_id(\"mp-\"+str(mpid.value), final = False, conventional_unit_cell=True)\n",
    "struct_dict = struct.as_dict()#to(fmt=\"JSON\")\n",
    "struct_dict"
   ]
  },
  {
   "cell_type": "markdown",
   "metadata": {},
   "source": [
    "### Choice (b): upload your own poscar directly. No query necessary."
   ]
  },
  {
   "cell_type": "code",
   "execution_count": null,
   "metadata": {},
   "outputs": [],
   "source": [
    "#users can pass their own structure as a poscar. the simtool will take the file contents as a dictionary which is produced here\n",
    "struct = Structure.from_file(\"./POSCAR\")\n",
    "struct_dict = struct.as_dict()\n",
    "struct_dict"
   ]
  },
  {
   "cell_type": "markdown",
   "metadata": {},
   "source": [
    "# Perform structure relaxation, scf, and phonon computation and spectra extraction using simtool"
   ]
  },
  {
   "cell_type": "markdown",
   "metadata": {},
   "source": [
    "### Find relax_sim simtool notebook and confirm"
   ]
  },
  {
   "cell_type": "code",
   "execution_count": 38,
   "metadata": {},
   "outputs": [
    {
     "name": "stdout",
     "output_type": "stream",
     "text": [
      "notebookPath = /home/nanohub/nykiel.4/opt_prop/opt_prop_suite/simtool/relax_sim.ipynb\n",
      "simToolName = relax_sim\n",
      "simToolRevision = None\n",
      "published = False\n"
     ]
    }
   ],
   "source": [
    "#simToolName = \"670raman\"\n",
    "simToolName = \"relax_sim\"\n",
    "simToolLocation = searchForSimTool(simToolName)\n",
    "for key in simToolLocation.keys():\n",
    "    print(f\"{key} = {simToolLocation[key]}\")"
   ]
  },
  {
   "cell_type": "code",
   "execution_count": 39,
   "metadata": {},
   "outputs": [
    {
     "name": "stdout",
     "output_type": "stream",
     "text": [
      "{}\n"
     ]
    }
   ],
   "source": [
    "installedSimToolNotebooks = findInstalledSimToolNotebooks(simToolName,returnString=True)\n",
    "print(installedSimToolNotebooks)"
   ]
  },
  {
   "cell_type": "code",
   "execution_count": 40,
   "metadata": {},
   "outputs": [
    {
     "data": {
      "text/plain": [
       "struct_dict:\n",
       "    type: Dict\n",
       "    description: User selected structure as dictionary\n",
       "\n",
       "pp_class:\n",
       "    type: Choice\n",
       "    description: Class of selected pseudopotentials. SSSP - standard solid-state library optimized for precision and efficiency. ONCV - optimized norm-conserving vanderbilt. USPP - ultra-soft pseudopotentials. PAW - projector augmented wave.\n",
       "    options: ['SSSP', 'ONCV', 'USPP', 'PAW']\n",
       "    value: SSSP\n",
       "\n",
       "ecutwfc:\n",
       "    type: Number\n",
       "    description: kinetic energy cutoff for wavefunctions\n",
       "    units: rydberg\n",
       "    min: 40\n",
       "    max: 200\n",
       "    value: 80\n",
       "\n",
       "kpoints:\n",
       "    type: Number\n",
       "    description: magnitude of kpoint density, which will be scaled according to the lattice vectors\n",
       "    min: 1\n",
       "    max: 20\n",
       "    value: 6"
      ]
     },
     "execution_count": 40,
     "metadata": {},
     "output_type": "execute_result"
    }
   ],
   "source": [
    "#Enter your values with units! The simtool will make sure you know what you're talking about.\n",
    "inputs = getSimToolInputs(simToolLocation)\n",
    "inputs"
   ]
  },
  {
   "cell_type": "markdown",
   "metadata": {},
   "source": [
    "### Or, iterate through inputs directly"
   ]
  },
  {
   "cell_type": "code",
   "execution_count": null,
   "metadata": {
    "scrolled": true
   },
   "outputs": [
    {
     "name": "stdout",
     "output_type": "stream",
     "text": [
      "running sim with  40  and  3\n",
      "runname   = de68e7abd1664ed1a0722a3ece705578\n",
      "outdir    = RUNS/de68e7abd1664ed1a0722a3ece705578\n",
      "cached    = False\n",
      "submit --local papermill -f inputs.yaml\n",
      "       /home/nanohub/nykiel.4/opt_prop/opt_prop_suite/simtool/relax_sim.ipynb\n",
      "       relax_sim.ipynb\n"
     ]
    },
    {
     "name": "stderr",
     "output_type": "stream",
     "text": [
      "Input Notebook:  /home/nanohub/nykiel.4/opt_prop/opt_prop_suite/simtool/relax_sim.ipynb\n",
      "Output Notebook: relax_sim.ipynb\n",
      "Executing:  70%|██████▉   | 37/53 [00:20<00:01, 13.06cell/s]"
     ]
    }
   ],
   "source": [
    "ecutwfc_list = [40]\n",
    "ecutrho_list = []\n",
    "kpoints_list = [3]\n",
    "struct_dict_list = []\n",
    "results_list = []\n",
    "\n",
    "inputs['pp_class'].value = 'SSSP'\n",
    "inputs['struct_dict'].value = struct_dict\n",
    "\n",
    "for ecutwfc in ecutwfc_list:\n",
    "    for kpoints in kpoints_list:\n",
    "        inputs['ecutwfc'].value = ecutwfc\n",
    "        inputs['kpoints'].value = kpoints\n",
    "        print(\"running sim with \",ecutwfc,\" and \",kpoints)\n",
    "        r = Run(simToolLocation,inputs)\n",
    "        results_list.append(r.getResultSummary())"
   ]
  },
  {
   "cell_type": "code",
   "execution_count": null,
   "metadata": {
    "scrolled": false
   },
   "outputs": [],
   "source": [
    "# get list of available pseudopotential files\n",
    "\n",
    "pp_list = []\n",
    "\n",
    "for filename in os.listdir(\"./simtool/pseudo/\"):\n",
    "    f = os.path.join(\"./simtool/pseudo/\", filename)\n",
    "    # get a list of all the PPs -- is this best instatiated here or globally?\n",
    "    # if instanced here, the user could probably pass their own PPs to the constructor as well\n",
    "    if os.path.isfile(f):\n",
    "        pp_list.append(filename)\n",
    "\n",
    "# filter by selected compound compositions\n",
    "elements = np.unique([''.join([i for i in str(i.species) if i.isalpha()]) for i in struct.sites])\n",
    "filtered_pp_list = [pp for pp in pp_list for e in elements if e in pp]\n",
    "\n",
    "# make widgets for sim2l parameters\n",
    "\n",
    "log = widgets.Select(\n",
    "    options=[\"DEBUG\", \"INFO\", \"WARNING\", \"ERROR\", \"CRITICAL\"],\n",
    "    value='DEBUG',\n",
    "    # rows=10,\n",
    "    description='Log Level:',\n",
    ")\n",
    "\n",
    "walltime = widgets.Text(\n",
    "    value='01:00:00',\n",
    "    placeholder='walltime',\n",
    "    description='walltime:',\n",
    "    disabled=False\n",
    ")\n",
    "numnodes = widgets.IntText(\n",
    "    value=8,\n",
    "    placeholder='nodes',\n",
    "    description='nodes:',\n",
    "    disabled=False\n",
    ") \n",
    "button = widgets.Button(\n",
    "    description='run simtool',\n",
    "    disabled=False,\n",
    "    button_style='', # 'success', 'info', 'warning', 'danger' or ''\n",
    "    tooltip='run to submit qe simtool'\n",
    ")\n",
    "storage = widgets.Select(\n",
    "    options=[\"none\", \"nowf\", \"low\", \"medium\"],\n",
    "    value=\"none\",\n",
    "    description='wfn + dat files to save:',\n",
    ")\n",
    "ecutwfc = widgets.BoundedFloatText(\n",
    "    value=50,\n",
    "    min=50,\n",
    "    max=400,\n",
    "    step=10,\n",
    "    description='ecutwfc:',\n",
    "    disabled=False\n",
    ")\n",
    "kpoints = widgets.BoundedFloatText(\n",
    "    value=6,\n",
    "    min=1,\n",
    "    max=20,\n",
    "    step=1,\n",
    "    description='kpoints:',\n",
    "    disabled=False\n",
    ")\n",
    "ecutrho = widgets.BoundedFloatText(\n",
    "    value=200,\n",
    "    min=200,\n",
    "    max=1600,\n",
    "    step=40,\n",
    "    description='ecutrho:',\n",
    "    disabled=False\n",
    ")\n",
    "smearing = widgets.Select(\n",
    "    options=['smearing','fixed'],\n",
    "    value='fixed',\n",
    "    rows = 2,\n",
    "    description='smearing:',\n",
    "    disabled=False\n",
    ")\n",
    "pp_menu1 = widgets.Combobox(\n",
    "    placeholder=\"choose a pseudopotential\",\n",
    "    options=filtered_pp_list,\n",
    "    description='pseudo 1:',\n",
    "    disabled=False\n",
    ")\n",
    "pp_menu2 = widgets.Combobox(\n",
    "    placeholder=\"choose a pseudopotential\",\n",
    "    options=filtered_pp_list,\n",
    "    description='pseudo 2:',\n",
    "    disabled=False\n",
    ")\n",
    "\n",
    "output = widgets.Output()\n",
    "\n",
    "def runSim2l():\n",
    "    inputs['loglevel'].value = log.value\n",
    "    inputs['walltime'].value = walltime.value\n",
    "    inputs['numnodes'].value = numnodes.value\n",
    "    inputs['storage'].value = storage.value\n",
    "    inputs['ecutwfc'].value = ecutwfc.value\n",
    "    inputs['ecutrho'].value = ecutrho.value\n",
    "    inputs['kpoints'].value = kpoints.value\n",
    "    inputs['pps'].value = [pp_menu1.value, pp_menu2.value]\n",
    "    inputs['smearing'].value = smearing.value\n",
    "    inputs['struct_dict'].value = struct_dict\n",
    "\n",
    "def on_button_clicked(b):\n",
    "    with output:\n",
    "        runSim2l()\n",
    "        r = Run(simToolLocation,inputs)\n",
    "        results = r.getResultSummary()\n",
    "        print(r.read('spectra'))\n",
    "    return results\n",
    "        \n",
    "        \n",
    "results = button.on_click(on_button_clicked)\n",
    "\n",
    "simulation = widgets.VBox([ecutrho, ecutwfc, kpoints, smearing, pp_menu1, pp_menu2])\n",
    "run_details = widgets.VBox([walltime, numnodes, log])\n",
    "\n",
    "accordion = widgets.VBox([widgets.Accordion(children=[simulation,run_details]),button,output])\n",
    "display(accordion)"
   ]
  },
  {
   "cell_type": "markdown",
   "metadata": {},
   "source": [
    "### Show User Predetermined Outputs and their Explainations"
   ]
  },
  {
   "cell_type": "code",
   "execution_count": null,
   "metadata": {
    "scrolled": true
   },
   "outputs": [],
   "source": [
    "outputs = getSimToolOutputs(simToolLocation)"
   ]
  },
  {
   "cell_type": "code",
   "execution_count": null,
   "metadata": {},
   "outputs": [],
   "source": [
    "outputs"
   ]
  },
  {
   "cell_type": "markdown",
   "metadata": {},
   "source": [
    "### Run simtool to obtain Predicted Raman Tensor and Spectrum Graph"
   ]
  },
  {
   "cell_type": "code",
   "execution_count": null,
   "metadata": {},
   "outputs": [],
   "source": [
    "r.getResultSummary()"
   ]
  },
  {
   "cell_type": "code",
   "execution_count": null,
   "metadata": {},
   "outputs": [],
   "source": [
    "results.read('spectra')"
   ]
  },
  {
   "cell_type": "code",
   "execution_count": null,
   "metadata": {},
   "outputs": [],
   "source": [
    "print(r.read('logreport'))"
   ]
  },
  {
   "cell_type": "code",
   "execution_count": null,
   "metadata": {
    "scrolled": true
   },
   "outputs": [],
   "source": [
    "r.read('spectra')"
   ]
  },
  {
   "cell_type": "code",
   "execution_count": null,
   "metadata": {
    "scrolled": true
   },
   "outputs": [],
   "source": [
    "#check inputs\n",
    "r.input_dict"
   ]
  },
  {
   "cell_type": "code",
   "execution_count": null,
   "metadata": {},
   "outputs": [],
   "source": [
    "#find output location\n",
    "print(r.outdir)"
   ]
  },
  {
   "cell_type": "code",
   "execution_count": null,
   "metadata": {},
   "outputs": [],
   "source": []
  }
 ],
 "metadata": {
  "kernelspec": {
   "display_name": "Python 3",
   "language": "python",
   "name": "python3"
  },
  "language_info": {
   "codemirror_mode": {
    "name": "ipython",
    "version": 3
   },
   "file_extension": ".py",
   "mimetype": "text/x-python",
   "name": "python",
   "nbconvert_exporter": "python",
   "pygments_lexer": "ipython3",
   "version": "3.7.7"
  }
 },
 "nbformat": 4,
 "nbformat_minor": 2
}
