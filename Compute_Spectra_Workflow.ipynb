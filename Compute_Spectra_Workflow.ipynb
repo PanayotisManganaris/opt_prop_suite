{
 "cells": [
  {
   "cell_type": "markdown",
   "metadata": {},
   "source": [
    "# Compute Spectra Workflow\n",
    "- Identify material system of interest\n",
    "- Specify simulation parameters\n",
    "- Run simulation\n",
    "- Extract simulation outputs\n",
    "\n",
    "[this cell will be deleted / cleaned up in the future]"
   ]
  },
  {
   "cell_type": "markdown",
   "metadata": {},
   "source": [
    "###  Import Dependencies"
   ]
  },
  {
   "cell_type": "code",
   "execution_count": 2,
   "metadata": {},
   "outputs": [
    {
     "ename": "IndentationError",
     "evalue": "expected an indented block (frontend.py, line 58)",
     "output_type": "error",
     "traceback": [
      "Traceback \u001b[0;36m(most recent call last)\u001b[0m:\n",
      "  File \u001b[1;32m\"/apps/share64/debian7/anaconda/anaconda-6/lib/python3.7/site-packages/IPython/core/interactiveshell.py\"\u001b[0m, line \u001b[1;32m3296\u001b[0m, in \u001b[1;35mrun_code\u001b[0m\n    exec(code_obj, self.user_global_ns, self.user_ns)\n",
      "\u001b[0;36m  File \u001b[0;32m\"<ipython-input-2-a57749208576>\"\u001b[0;36m, line \u001b[0;32m18\u001b[0;36m, in \u001b[0;35m<module>\u001b[0;36m\u001b[0m\n\u001b[0;31m    from frontend import *\u001b[0m\n",
      "\u001b[0;36m  File \u001b[0;32m\"/home/nanohub/pmangana/src/opt_prop_suite/frontend.py\"\u001b[0;36m, line \u001b[0;32m58\u001b[0m\n\u001b[0;31m    def plot_selected(self):\u001b[0m\n\u001b[0m      ^\u001b[0m\n\u001b[0;31mIndentationError\u001b[0m\u001b[0;31m:\u001b[0m expected an indented block\n"
     ]
    }
   ],
   "source": [
    "#data tools\n",
    "import pandas as pd\n",
    "import numpy as np\n",
    "import qgrid\n",
    "from pymatgen.ext.matproj import MPRester\n",
    "\n",
    "#simtool loading and interface\n",
    "from simtool import findInstalledSimToolNotebooks,searchForSimTool\n",
    "from simtool import getSimToolInputs,getSimToolOutputs,Run\n",
    "\n",
    "#user interface utilities \n",
    "import os, stat\n",
    "import plotly.express as px\n",
    "import ipywidgets as widgets\n",
    "from IPython.display import display\n",
    "from IPython.display import clear_output\n",
    "\n",
    "from frontend import *"
   ]
  },
  {
   "cell_type": "markdown",
   "metadata": {},
   "source": [
    "### User Create ~/.mpkey.txt if it doesn't already exist"
   ]
  },
  {
   "cell_type": "code",
   "execution_count": null,
   "metadata": {},
   "outputs": [],
   "source": [
    "Authenticate.mpkey()"
   ]
  },
  {
   "cell_type": "markdown",
   "metadata": {},
   "source": [
    "## User Prompted To pick their Semiconductor of Choice\n",
    "### Choice (a): query MP and fliter on properties. Dataframe is updated with each selection."
   ]
  },
  {
   "cell_type": "code",
   "execution_count": null,
   "metadata": {
    "scrolled": true
   },
   "outputs": [],
   "source": [
    "# query MP, get all cubic systems\n",
    " \n",
    "with open(os.path.expanduser(\"~/.mpkey.txt\"), \"r+\") as file:\n",
    "    apikey = file.readline()\n",
    "rester = MPRester(apikey)\n",
    "sc_dicts = rester.query({ \"crystal_system\": \"cubic\"},\n",
    "                        [\"task_id\",\"pretty_formula\",\"formula\",\"elements\",\"e_above_hull\", \"spacegroup.number\", \"band_gap\", \"crystal_system\"])\n",
    "sc_df = pd.DataFrame(sc_dicts)\n",
    "\n",
    "# define a function for visualizing input structures\n",
    "\n"
   ]
  },
  {
   "cell_type": "code",
   "execution_count": null,
   "metadata": {
    "scrolled": false
   },
   "outputs": [],
   "source": [
    "# create widgets\n",
    "\n",
    "mpid = widgets.IntText(\n",
    "        value=2133,\n",
    "        description='MPID:',\n",
    "        disabled=False\n",
    ")\n",
    "\n",
    "plot_button = widgets.Button(\n",
    "    description='plot',\n",
    "    disabled=False,\n",
    "    button_style='', # 'success', 'info', 'warning', 'danger' or ''\n",
    "    tooltip='plot'\n",
    ")\n",
    "\n",
    "# TODO: figure out a system of taking input from EITHER mpid input, or qgrid selected data\n",
    "        \n",
    "def on_button_clicked(b):\n",
    "    with output:\n",
    "        try:\n",
    "            selected_row = mpid_widget.get_changed_df().index[mpid_widget.get_selected_rows()][0]\n",
    "            mpid_selected= sc_df.at[selected_row,'task_id']\n",
    "            mpid.value = mpid_selected.split('-')[1]\n",
    "        except:\n",
    "            mpid_selected=\"mp-\"+str(mpid.value)\n",
    "        mpid_plot(mpid_selected)\n",
    "        \n",
    "        \n",
    "def update_plot(args):\n",
    "    mpid_selected=\"mp-\"+str(mpid.value)\n",
    "    mpid_plot(mpid_selected)\n",
    "    \n",
    "output = widgets.Output()\n",
    "mpid.observe(update_plot,'value')  \n",
    "plot_button.on_click(on_button_clicked)\n",
    "display(mpid, plot_button, output)\n",
    "\n",
    "# if you don't, search for your structure by filtering\n",
    "mpid_widget = qgrid.show_grid(sc_df)\n",
    "\n",
    "# filter by pretty_formula to look for a specific structure\n",
    "display(mpid_widget)"
   ]
  },
  {
   "cell_type": "markdown",
   "metadata": {},
   "source": [
    "### Get structure from MP database\n",
    "TODO: could be combined with the last cell"
   ]
  },
  {
   "cell_type": "code",
   "execution_count": null,
   "metadata": {},
   "outputs": [],
   "source": [
    "# This is passed to the simtool to perform simulations\n",
    "# structure objects obtained directly from remote database queries must be passed to simtool as dictionaries to preserve maximum numerical precision\n",
    "# quantum espresso is very sensitive to precision especially for relaxation calculations.\n",
    "struct = rester.get_structure_by_material_id(\"mp-\"+str(mpid.value), final = False, conventional_unit_cell=True)\n",
    "struct_dict = struct.as_dict()#to(fmt=\"JSON\")\n",
    "struct_dict"
   ]
  },
  {
   "cell_type": "markdown",
   "metadata": {},
   "source": [
    "### Choice (b): upload your own poscar directly. No query necessary."
   ]
  },
  {
   "cell_type": "code",
   "execution_count": null,
   "metadata": {},
   "outputs": [],
   "source": [
    "#users can pass their own structure as a poscar. the simtool will take the file contents as a dictionary which is produced here\n",
    "struct = Structure.from_file(\"./POSCAR\")\n",
    "struct_dict = struct.as_dict()\n",
    "struct_dict"
   ]
  },
  {
   "cell_type": "markdown",
   "metadata": {},
   "source": [
    "# Perform structure relaxation, scf, and phonon computation and spectra extraction using simtool"
   ]
  },
  {
   "cell_type": "markdown",
   "metadata": {},
   "source": [
    "### Find relax_sim simtool notebook and confirm"
   ]
  },
  {
   "cell_type": "code",
   "execution_count": null,
   "metadata": {},
   "outputs": [],
   "source": [
    "#simToolName = \"670raman\"\n",
    "simToolName = \"relax_sim\"\n",
    "simToolLocation = searchForSimTool(simToolName)\n",
    "for key in simToolLocation.keys():\n",
    "    print(f\"{key} = {simToolLocation[key]}\")"
   ]
  },
  {
   "cell_type": "code",
   "execution_count": null,
   "metadata": {
    "scrolled": true
   },
   "outputs": [],
   "source": [
    "# get list of available pseudopotential files\n",
    "\n",
    "pp_list = []\n",
    "\n",
    "for filename in os.listdir(\"./simtool/pseudo/\"):\n",
    "    f = os.path.join(\"./simtool/pseudo/\", filename)\n",
    "    # get a list of all the PPs -- is this best instatiated here or globally?\n",
    "    # if instanced here, the user could probably pass their own PPs to the constructor as well\n",
    "    if os.path.isfile(f):\n",
    "        pp_list.append(filename)\n",
    "\n",
    "# filter by selected compound compositions\n",
    "elements = np.unique([''.join([i for i in str(i.species) if i.isalpha()]) for i in struct.sites])\n",
    "filtered_pp_list = [pp for pp in pp_list for e in elements if e in pp]\n",
    "\n",
    "# make widgets for sim2l parameters\n",
    "\n",
    "log = widgets.Select(\n",
    "    options=[\"DEBUG\", \"INFO\", \"WARNING\", \"ERROR\", \"CRITICAL\"],\n",
    "    value='DEBUG',\n",
    "    # rows=10,\n",
    "    description='Log Level:',\n",
    ")\n",
    "\n",
    "walltime = widgets.Text(\n",
    "    value='01:00:00',\n",
    "    placeholder='walltime',\n",
    "    description='walltime:',\n",
    "    disabled=False\n",
    ")\n",
    "numnodes = widgets.IntText(\n",
    "    value=8,\n",
    "    placeholder='nodes',\n",
    "    description='nodes:',\n",
    "    disabled=False\n",
    ") \n",
    "button = widgets.Button(\n",
    "    description='run simtool',\n",
    "    disabled=False,\n",
    "    button_style='', # 'success', 'info', 'warning', 'danger' or ''\n",
    "    tooltip='run to submit qe simtool'\n",
    ")\n",
    "ecutwfc = widgets.BoundedFloatText(\n",
    "    value=50,\n",
    "    min=50,\n",
    "    max=400,\n",
    "    step=10,\n",
    "    description='ecutwfc:',\n",
    "    disabled=False\n",
    ")\n",
    "kpoints = widgets.BoundedFloatText(\n",
    "    value=6,\n",
    "    min=1,\n",
    "    max=20,\n",
    "    step=1,\n",
    "    description='kpoints:',\n",
    "    disabled=False\n",
    ")\n",
    "ecutrho = widgets.BoundedFloatText(\n",
    "    value=200,\n",
    "    min=200,\n",
    "    max=1600,\n",
    "    step=40,\n",
    "    description='ecutrho:',\n",
    "    disabled=False\n",
    ")\n",
    "smearing = widgets.Select(\n",
    "    options=['smearing','fixed'],\n",
    "    value='fixed',\n",
    "    rows = 2,\n",
    "    description='smearing:',\n",
    "    disabled=False\n",
    ")\n",
    "pp_menu1 = widgets.Combobox(\n",
    "    placeholder=\"choose a pseudopotential\",\n",
    "    options=filtered_pp_list,\n",
    "    description='pseudo 1:',\n",
    "    disabled=False\n",
    ")\n",
    "pp_menu2 = widgets.Combobox(\n",
    "    placeholder=\"choose a pseudopotential\",\n",
    "    options=filtered_pp_list,\n",
    "    description='pseudo 2:',\n",
    "    disabled=False\n",
    ")\n",
    "\n",
    "output = widgets.Output()\n",
    "\n",
    "def runSim2l():\n",
    "    inputs['loglevel'].value = log.value\n",
    "    inputs['walltime'].value = walltime.value\n",
    "    inputs['numnodes'].value = numnodes.value\n",
    "    inputs['ecutwfc'].value = ecutwfc.value\n",
    "    inputs['ecutrho'].value = ecutrho.value\n",
    "    inputs['kpoints'].value = kpoints.value\n",
    "    inputs['pps'].value = [pp_menu1.value, pp_menu2.value]\n",
    "    inputs['smearing'].value = smearing.value\n",
    "    inputs['struct_dict'].value = struct_dict\n",
    "\n",
    "def on_button_clicked(b):\n",
    "    with output:\n",
    "        runSim2l()\n",
    "        r = Run(simToolLocation,inputs)\n",
    "        results = r.getResultSummary()\n",
    "        print(r.read('spectra'))\n",
    "    return results\n",
    "        \n",
    "        \n",
    "results = button.on_click(on_button_clicked)\n",
    "\n",
    "simulation = widgets.VBox([ecutrho, ecutwfc, kpoints, smearing, pp_menu1, pp_menu2])\n",
    "run_details = widgets.VBox([walltime, numnodes, log])\n",
    "\n",
    "accordion = widgets.VBox([widgets.Accordion(children=[simulation,run_details]),button,output])\n",
    "display(accordion)"
   ]
  },
  {
   "cell_type": "markdown",
   "metadata": {},
   "source": [
    "### Or, iterate through inputs directly"
   ]
  },
  {
   "cell_type": "code",
   "execution_count": null,
   "metadata": {
    "scrolled": false
   },
   "outputs": [],
   "source": [
    "ecutwfc_list = [50]\n",
    "ecutrho_list = []\n",
    "kpoints_list = [3, 6, 9, 12, 15]\n",
    "struct_dict_list = []\n",
    "results_list = []\n",
    "\n",
    "inputs['pps'].value = ['O.pbe.upf', 'Zn.pbe.upf']\n",
    "inputs['loglevel'].value = 'DEBUG'\n",
    "inputs['smearing'].value = 'fixed'\n",
    "inputs['struct_dict'].value = struct_dict\n",
    "\n",
    "for ecutwfc in ecutwfc_list:\n",
    "    for kpoints in kpoints_list:\n",
    "        inputs['ecutwfc'].value = ecutwfc\n",
    "        inputs['ecutrho'].value = 4*ecutwfc\n",
    "        inputs['kpoints'].value = kpoints\n",
    "        print(\"running sim with \",ecutwfc,\" and \",kpoints)\n",
    "        r = Run(simToolLocation,inputs)\n",
    "        results_list.append(r.getResultSummary())"
   ]
  },
  {
   "cell_type": "markdown",
   "metadata": {},
   "source": [
    "### Show User Predetermined Outputs and their Explainations"
   ]
  },
  {
   "cell_type": "code",
   "execution_count": null,
   "metadata": {
    "scrolled": true
   },
   "outputs": [],
   "source": [
    "outputs = getSimToolOutputs(simToolLocation)"
   ]
  },
  {
   "cell_type": "code",
   "execution_count": null,
   "metadata": {},
   "outputs": [],
   "source": [
    "outputs"
   ]
  },
  {
   "cell_type": "markdown",
   "metadata": {},
   "source": [
    "### Run simtool to obtain Predicted Raman Tensor and Spectrum Graph"
   ]
  },
  {
   "cell_type": "code",
   "execution_count": null,
   "metadata": {},
   "outputs": [],
   "source": [
    "r.getResultSummary()"
   ]
  },
  {
   "cell_type": "code",
   "execution_count": null,
   "metadata": {},
   "outputs": [],
   "source": [
    "results.read('spectra')"
   ]
  },
  {
   "cell_type": "code",
   "execution_count": null,
   "metadata": {},
   "outputs": [],
   "source": [
    "print(r.read('logreport'))"
   ]
  },
  {
   "cell_type": "code",
   "execution_count": null,
   "metadata": {
    "scrolled": true
   },
   "outputs": [],
   "source": [
    "r.read('spectra')"
   ]
  },
  {
   "cell_type": "code",
   "execution_count": null,
   "metadata": {
    "scrolled": true
   },
   "outputs": [],
   "source": [
    "#check inputs\n",
    "r.input_dict"
   ]
  },
  {
   "cell_type": "code",
   "execution_count": null,
   "metadata": {},
   "outputs": [],
   "source": [
    "#find output location\n",
    "print(r.outdir)"
   ]
  },
  {
   "cell_type": "code",
   "execution_count": null,
   "metadata": {},
   "outputs": [],
   "source": []
  }
 ],
 "metadata": {
  "kernelspec": {
   "display_name": "Python 3",
   "language": "python",
   "name": "python3"
  },
  "language_info": {
   "codemirror_mode": {
    "name": "ipython",
    "version": 3
   },
   "file_extension": ".py",
   "mimetype": "text/x-python",
   "name": "python",
   "nbconvert_exporter": "python",
   "pygments_lexer": "ipython3",
   "version": "3.7.7"
  }
 },
 "nbformat": 4,
 "nbformat_minor": 2
}
