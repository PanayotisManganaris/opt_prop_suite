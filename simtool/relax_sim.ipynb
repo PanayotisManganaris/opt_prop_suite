{
 "cells": [
  {
   "cell_type": "markdown",
   "metadata": {},
   "source": [
    "# 670raman"
   ]
  },
  {
   "cell_type": "code",
   "execution_count": null,
   "metadata": {
    "tags": [
     "DESCRIPTION"
    ]
   },
   "outputs": [],
   "source": [
    "DESCRIPTION = \"\"\"\n",
    "Panos Manganaris, Kat Nykiel\n",
    "Simtool for the automated generation of Raman and IR Spectra from QE vc-relax>scf>ph>dynmat pipeline\n",
    "\"\"\""
   ]
  },
  {
   "cell_type": "code",
   "execution_count": null,
   "metadata": {},
   "outputs": [],
   "source": [
    "def copyAndSaveFileAsOutput(outputVariableName,inputPath):\n",
    "    \"\"\" saves an ouput variable as a file at inputpath \"\"\"\n",
    "    if inputPath:\n",
    "        if inputPath.startswith('file://'):\n",
    "            resultFile = os.path.basename(inputPath[7:])\n",
    "            if resultFile != inputPath[7:]:\n",
    "                shutil.copy2(inputPath[7:],resultFile)\n",
    "        else:\n",
    "            resultFile = os.path.basename(inputPath)\n",
    "            if resultFile != inputPath:\n",
    "                shutil.copy2(inputPath,resultFile)\n",
    "        db.save(outputVariableName,file=resultFile)"
   ]
  },
  {
   "cell_type": "code",
   "execution_count": null,
   "metadata": {},
   "outputs": [],
   "source": [
    "def copyAndSaveFileAsBogusOutput(outputVariableName,inputPath):\n",
    "    \"\"\" saves an output variable as a placeholder file if file does not exist \"\"\"\n",
    "    if inputPath:\n",
    "        if inputPath.startswith('file://'):\n",
    "            resultFile = os.path.basename(inputPath[7:])\n",
    "            if resultFile != inputPath[7:]:\n",
    "                shutil.copy2(inputPath[7:],resultFile)\n",
    "        else:\n",
    "            resultFile = os.path.basename(inputPath)\n",
    "            if resultFile != inputPath:\n",
    "                shutil.copy2(inputPath,resultFile)\n",
    "        try:\n",
    "            db.save(outputVariableName,file=resultFile + \"_bogus\")\n",
    "        except FileNotFoundError as e:\n",
    "            print(\"%s\" % (e.args[0]))"
   ]
  },
  {
   "cell_type": "code",
   "execution_count": null,
   "metadata": {},
   "outputs": [],
   "source": [
    "%load_ext yamlmagic"
   ]
  },
  {
   "cell_type": "code",
   "execution_count": null,
   "metadata": {
    "tags": [
     "INPUTS"
    ]
   },
   "outputs": [],
   "source": [
    "%%yaml INPUTS\n",
    "# Notebook Monitoring\n",
    "loglevel:\n",
    "    type: Choice\n",
    "    description: python logging module level setting\n",
    "    options: [\"DEBUG\", \"INFO\", \"WARNING\", \"ERROR\", \"CRITICAL\"]\n",
    "    value: \"WARNING\"\n",
    "\n",
    "# submit resource requests and queue preferences\n",
    "numnodes:\n",
    "    type: Number\n",
    "    description: Number of processors for mpi execution\n",
    "    value: 1\n",
    "    min: 1\n",
    "    max: 8\n",
    "        \n",
    "walltime:\n",
    "    type: Text\n",
    "    description: Maximum time to wait for reduced job load on cluster in HH:MM:SS time format\n",
    "    value: \"01:00:00\"\n",
    "\n",
    "pps:\n",
    "    type: List\n",
    "    description: List of pseudopotentials in UPF format to be used by simulator. Potentials must either exist in ./simtool/pseudo or be accessible at http://www.quantum-espresso.org/wp-content/uploads/upf_files/\n",
    "    value: [\"O.pbe-hgh.UPF\", \"Zn.pbe-d-hgh.UPF\"]\n",
    "  \n",
    "# Simulator settings\n",
    "smearing:\n",
    "    type: Choice\n",
    "    description: Setting the extent to which there is metal-like sharing of electrons\n",
    "    options: ['smearing', 'fixed']\n",
    "    value: 'fixed'\n",
    "\n",
    "ecutwfc:\n",
    "    type: Number\n",
    "    description: kinetic energy cutoff for wavefunctions\n",
    "    value: 120\n",
    "    min: 25\n",
    "    max: 400\n",
    "    units: Ry\n",
    "\n",
    "ecutrho:\n",
    "    type: Number\n",
    "    description: kinetic energy cutoff for charge density and potential. Recommended (but not required) to be 4 times the cutoff for wavefunctions.\n",
    "    value: 480\n",
    "    min: 100\n",
    "    max: 1600\n",
    "                \n",
    "kpoints:\n",
    "    type: Number\n",
    "    description: magnitude of kpoint density, which will be scaled according to the lattice vectors\n",
    "    value: 6\n",
    "    min: 1\n",
    "    max: 20\n",
    "\n",
    "epsil:\n",
    "    type: Boolean\n",
    "    description: true for solid crystals, false for molecules\n",
    "    value: True\n",
    "        \n",
    "lraman:\n",
    "    type: Boolean\n",
    "    description: compute raman tensor with gga functionals when true, LDA functionals when false\n",
    "    value: True\n",
    "\n",
    "\n",
    "# POSCAR string taken from frontend\n",
    "struct_dict:\n",
    "    type: Dict\n",
    "    description: User selected structure as dictionary"
   ]
  },
  {
   "cell_type": "code",
   "execution_count": null,
   "metadata": {
    "tags": [
     "OUTPUTS"
    ]
   },
   "outputs": [],
   "source": [
    "%%yaml OUTPUTS\n",
    "\n",
    "spectra:\n",
    "    type: Dict\n",
    "    description: Dictionary of pandas Series of dynamat.x output containing mode numbers and frequencies of IR and Raman Spectra\n",
    "        \n",
    "logreport:\n",
    "    type: Text\n",
    "    description: contents of the run logfile populated according to loglevel"
   ]
  },
  {
   "cell_type": "code",
   "execution_count": null,
   "metadata": {
    "tags": [
     "FILES"
    ]
   },
   "outputs": [],
   "source": [
    "EXTRA_FILES = [\"./pseudo\"]\n",
    "# add the pp repository files to the simtool directory so they can be found automatically\n",
    "# find a way to copy new pseudopotentials to the simtool home so network access is not always needed."
   ]
  },
  {
   "cell_type": "code",
   "execution_count": null,
   "metadata": {
    "tags": [
     "parameters"
    ]
   },
   "outputs": [],
   "source": [
    "#parameters: define default values which can be overwritten at runtime -- parameters should NOT be interdependent\n",
    "from simtool import getValidatedInputs\n",
    "\n",
    "defaultInputs = getValidatedInputs(INPUTS)\n",
    "if defaultInputs:\n",
    "    globals().update(defaultInputs)\n",
    "#papermill adds injected parameters sell after this cell containing run settings\n",
    "#Don't intake passwords/keys/private info -- can't seem to delete from RUNS"
   ]
  },
  {
   "cell_type": "markdown",
   "metadata": {},
   "source": [
    "## Translate User Choices to Backend Variables as Necessary"
   ]
  },
  {
   "cell_type": "code",
   "execution_count": null,
   "metadata": {},
   "outputs": [],
   "source": [
    "import logging\n",
    "vars()[\"DEBUG\"] = logging.DEBUG\n",
    "vars()[\"INFO\"] = logging.INFO\n",
    "vars()[\"WARNING\"] = logging.WARNING\n",
    "vars()[\"ERROR\"] = logging.ERROR\n",
    "vars()[\"CRITICAL\"] = logging.CRITICAL\n",
    "logfmt = '[%(levelname)s] %(asctime)s - %(message)s'\n",
    "logging.basicConfig(filename='run.log', level=vars()[loglevel], datefmt=\"%Y-%m-%d %H:%M:%S\", format=logfmt)"
   ]
  },
  {
   "cell_type": "markdown",
   "metadata": {},
   "source": [
    "## define simtool dependencies"
   ]
  },
  {
   "cell_type": "code",
   "execution_count": null,
   "metadata": {},
   "outputs": [],
   "source": [
    "#cli utilities\n",
    "import io\n",
    "import shutil\n",
    "import subprocess\n",
    "\n",
    "#nanohub utilities\n",
    "import hublib.use\n",
    "import fileinput\n",
    "from simtool import DB, parse\n",
    "\n",
    "#automate retreival of crystal structures and pseudopotentials from Materials Project\n",
    "from pymatgen.core import Structure, Lattice, Element, Composition\n",
    "import openbabel # automates translation of pymatgen structs to useful file formats\n",
    "#process and categorize crystal structures\n",
    "\n",
    "#misc tools\n",
    "import math\n",
    "import pandas as pd\n",
    "import numpy as np\n",
    "np.set_printoptions(formatter={'float': '{: 0.16f}'.format}, suppress=False)\n",
    "\n",
    "#%use espresso-6.2.1\n",
    "#Apparently not functioning? sufficient to declare espresso-6.8 in submit call"
   ]
  },
  {
   "cell_type": "markdown",
   "metadata": {},
   "source": [
    "## Validating/Correcting User Defined Chemistry Inputs"
   ]
  },
  {
   "cell_type": "code",
   "execution_count": null,
   "metadata": {},
   "outputs": [],
   "source": [
    "# convert poscar back to structure object\n",
    "#TODO we want to test resulting periodicsites objects for significant digits. log and WARN user of insufficient precisions + advise to set nosym parameter to TRUE in that case.\n",
    "struct = Structure.from_dict(struct_dict)\n",
    "logging.debug(f\"the struct is made! {struct.sites}\")"
   ]
  },
  {
   "cell_type": "code",
   "execution_count": null,
   "metadata": {},
   "outputs": [],
   "source": [
    "#get compound from poscar\n",
    "compound = struct.formula\n",
    "\n",
    "logging.info(f\"User Entered: {compound}\")\n",
    "vcomp = Composition.ranked_compositions_from_indeterminate_formula(compound, lock_if_strict=True)\n",
    "logging.info(f\"User likely refering to one of these compositions: {vcomp}\")\n",
    "if isinstance(vcomp, list) and vcomp:\n",
    "    vcomp = vcomp[0] #ordered by likelyhood so pick best candidate\n",
    "    logging.debug(f\"vcomp is type {type(vcomp)}\")\n",
    "    if not vcomp.valid:\n",
    "        logging.info(f\"the input composition contains dummy species\")\n",
    "else:\n",
    "    raise ValueError(f\"The compound: {compound} is not recognizable as a valid chemical formula\")"
   ]
  },
  {
   "cell_type": "code",
   "execution_count": null,
   "metadata": {},
   "outputs": [],
   "source": [
    "#Obtain Specified pps\n",
    "# We don't seem to have network access permissions in slurm, so this doesn't work \n",
    "#for pp in pps:\n",
    "#    COMMANDwgetpp = f\"wget -O ./pseudo/{pp} http://www.quantum-espresso.org/wp-content/uploads/upf_files/{pp}\"\n",
    "#    subprocess.run(COMMANDwgetpp.split())\n",
    "# Attempt to generate pseudopotentials on the spot?\n",
    "# pmg potcar --symbols Li_sv O --functional PBE #Can potcar be converted to UPF format?"
   ]
  },
  {
   "cell_type": "code",
   "execution_count": null,
   "metadata": {},
   "outputs": [],
   "source": [
    "# extract element key from pps\n",
    "pppart_list = []\n",
    "for pp in pps:\n",
    "    ppparts = pp.split('.')\n",
    "    pppart_list.append(ppparts[0])\n",
    "    logging.debug(f\"from {pp} got {ppparts[0]}\")\n",
    "#sort formula elements and atomic mass by decending atomic mass\n",
    "amass_ar = np.array([Element(el).atomic_mass for el in vcomp.to_reduced_dict.keys()])\n",
    "massive_first = np.argsort(amass_ar).tolist()[::-1]\n",
    "amass_falling = amass_ar[massive_first]\n",
    "el_falling = np.array([el for el in vcomp.to_reduced_dict.keys()])[massive_first]\n",
    "logging.debug(f\"Elements in order of decending mass: {el_falling}. Decending mass: {amass_falling}\")\n",
    "#sort pps to match\n",
    "pps_amass_ar = np.array([Element(el).atomic_mass for el in pppart_list])\n",
    "pps_massive_first = np.argsort(pps_amass_ar).tolist()[::-1]\n",
    "pps_falling = np.array(pps)[pps_massive_first]\n",
    "logging.debug(f\"Pseudopotentials in order of decending mass: {pps_falling}\")\n",
    "\n",
    "if len(pps_falling) != len(el_falling):\n",
    "    logging.warning(f\"There are not as many Pseudopotentials as Species. This may not work\")"
   ]
  },
  {
   "cell_type": "markdown",
   "metadata": {},
   "source": [
    "## Obtain Crystal Structure(s) of Compound Unit Cell from Database\n",
    "#### Obtain standard and conventional sim cell from Structure(s) \n",
    "### or\n",
    "## Generate from Space Group, Lattice, Elements, and Factional Coords\n",
    "### or\n",
    "## Take the User's input as gospel"
   ]
  },
  {
   "cell_type": "code",
   "execution_count": null,
   "metadata": {},
   "outputs": [],
   "source": [
    "#Create cell parameters block\n",
    "bio = io.BytesIO()\n",
    "np.savetxt(bio, struct.lattice.matrix, fmt=\"%0.8f\")# to much precision in the input files causes convergence issues. to little causes symmetry issues.\n",
    "cell_parameters_block = bio.getvalue().decode('latin1')\n",
    "logging.info(f\"\"\"The standardized conventional lattice parameters are obtained:\n",
    "            {cell_parameters_block}\"\"\")"
   ]
  },
  {
   "cell_type": "code",
   "execution_count": null,
   "metadata": {},
   "outputs": [],
   "source": [
    "#pw's atomic Species block and dm's amass_block\n",
    "atomic_species_block = \"\"\"\"\"\"\n",
    "for pp, amass, species in zip(pps_falling, amass_falling, el_falling):\n",
    "    block_line = f\"{species} {amass} {pp}\\n\"\n",
    "    atomic_species_block += block_line\n",
    "logging.info(f\"\"\"The atomic_species_block:\n",
    "{atomic_species_block}\"\"\")\n",
    "\n",
    "amass_block = \"\"\"\"\"\"\n",
    "for ind, amass in enumerate(amass_falling):\n",
    "    block_line = f\"amass({ind+1})={amass},\\n  \"\n",
    "    amass_block += block_line\n",
    "ntyp_num = ind # this gives the wrong answer?\n",
    "ntyp_num = len(np.unique([''.join([i for i in str(i.species) if i.isalpha()]) for i in struct.sites]))\n",
    "logging.debug(f\"ntyp = {ntyp_num}\")\n",
    "logging.info(f\"\"\"The amass_block:\n",
    "{amass_block}\"\"\")"
   ]
  },
  {
   "cell_type": "code",
   "execution_count": null,
   "metadata": {},
   "outputs": [],
   "source": [
    "def get_fractional_coords_as_qe_array(periodicsitesobj):\n",
    "    at_site = np.array([str(*periodicsitesobj.species.to_reduced_dict.keys()), periodicsitesobj.a, periodicsitesobj.b, periodicsitesobj.c])\n",
    "    logging.debug(f\"atomic sites array: {at_site}\")\n",
    "    # str might break if the species has whitespaces in it... I think. Or maybe that's just for unpacked lists\n",
    "    return at_site\n",
    "\n",
    "nat_num = len(struct.sites)\n",
    "atomic_positions_block = np.array(list(map(lambda x: get_fractional_coords_as_qe_array(x), struct.sites)))\n",
    "bio = io.BytesIO()\n",
    "np.savetxt(bio, atomic_positions_block, fmt=\"%s\", encoding=\"latin1\")\n",
    "atomic_positions_block = bio.getvalue().decode('latin1')\n",
    "logging.info(f\"\"\"The atomic sites are obtained:\n",
    "            {atomic_positions_block}\"\"\")"
   ]
  },
  {
   "cell_type": "code",
   "execution_count": null,
   "metadata": {},
   "outputs": [],
   "source": [
    "# generate a k-point grid from the provided kpoint magnitude and lattice vectors\n",
    "b = np.array([1/a for a in struct.lattice.abc])\n",
    "b = b*(1/max(b))\n",
    "k = np.ceil(kpoints*b)\n",
    "kpoints_block = f\"\"\"{k[0]} {k[1]} {k[2]} 0 0 0\"\"\""
   ]
  },
  {
   "cell_type": "markdown",
   "metadata": {},
   "source": [
    "## Prepare input files to simulation pipline in quantum espresso .in format\n",
    "\n",
    "#### insert validated inputs into the predetermined format strings:"
   ]
  },
  {
   "cell_type": "code",
   "execution_count": null,
   "metadata": {},
   "outputs": [],
   "source": [
    "vcrelax_input = f\"\"\"\n",
    " &control\n",
    "    calculation='vc-relax',\n",
    "    restart_mode='from_scratch',\n",
    "    prefix='{vcomp.reduced_formula}',\n",
    "    outdir='./',\n",
    "    pseudo_dir = './',\n",
    "    etot_conv_thr=1.0d-6,\n",
    "    forc_conv_thr=1.0d-6,\n",
    "    nstep=100,\n",
    "/\n",
    " &system    \n",
    "    ibrav= 0, celldm(1)=1 ,nat= {nat_num}, ntyp= {ntyp_num},\n",
    "    ecutwfc = {ecutwfc}, ecutrho = {ecutrho},\n",
    "    occupations={smearing}, {\"smearing='mp', degauss=0.06,\" if smearing == 'smearing' else \"\"}\n",
    "    nosym = TRUE,\n",
    "/\n",
    " &electrons\n",
    "    mixing_beta =0.7,\n",
    "    conv_thr =1.0d-8,\n",
    "/\n",
    " &ions\n",
    "    ion_dynamics='bfgs'\n",
    "/\n",
    "&cell\n",
    "    cell_dynamics='bfgs',\n",
    "    press=0.0,\n",
    "    cell_factor=4.0,\n",
    "    press_conv_thr=0.5,\n",
    "/\n",
    "CELL_PARAMETERS (alat= 1.00000000)\n",
    "{cell_parameters_block}\n",
    "ATOMIC_SPECIES\n",
    "{atomic_species_block}\n",
    "ATOMIC_POSITIONS (crystal)\n",
    "{atomic_positions_block}\n",
    "K_POINTS (automatic)\n",
    "{kpoints_block}\n",
    "\"\"\"\n",
    "\n",
    "ph_input = f\"\"\"\n",
    "Normal modes for {vcomp.reduced_formula}\n",
    " &inputph\n",
    "  tr2_ph=1.0d-14,\n",
    "  prefix='{vcomp.reduced_formula}',\n",
    "  {amass_block}outdir='./'\n",
    "  epsil=.{epsil}.,\n",
    "  lraman=.{lraman}.,\n",
    "  trans=.true.,\n",
    "  asr=.true.,\n",
    "  fildyn='dmat.{vcomp.reduced_formula}'\n",
    "  ! ldisp=.true.\n",
    " /\n",
    " 0.0 0.0 0.0\n",
    "\"\"\"\n",
    "\n",
    "dm_input = f\"\"\"\n",
    "&input fildyn='dmat.{vcomp.reduced_formula}', asr='zero-dim' /\n",
    "\"\"\"\n",
    "logging.debug(f\"{ph_input}\")"
   ]
  },
  {
   "cell_type": "markdown",
   "metadata": {},
   "source": [
    "## Write Input Files. Name Output Files. Prepare to Assign Validated Outputs"
   ]
  },
  {
   "cell_type": "code",
   "execution_count": null,
   "metadata": {},
   "outputs": [],
   "source": [
    "# fixed starting point input file generation\n",
    "vcr_input_file = open(f\"{vcomp.reduced_formula}.vc-relax.in\", \"w\")\n",
    "ph_input_file = open(f\"{vcomp.reduced_formula}.ph.in\", \"w\")\n",
    "dm_input_file = open(f\"{vcomp.reduced_formula}.dm.in\", \"w\")\n",
    "\n",
    "vcr_input_file.write(vcrelax_input)\n",
    "ph_input_file.write(ph_input)\n",
    "dm_input_file.write(dm_input)\n",
    "\n",
    "vcr_input_file.close()\n",
    "ph_input_file.close()\n",
    "dm_input_file.close()"
   ]
  },
  {
   "cell_type": "code",
   "execution_count": null,
   "metadata": {},
   "outputs": [],
   "source": [
    "# output file generation\n",
    "vcr_output_file = open(f\"{vcomp.reduced_formula}.vc-relax.out\", \"w\")\n",
    "scf_output_file = open(f\"{vcomp.reduced_formula}.scf.out\", \"w\")\n",
    "ph_output_file = open(f\"{vcomp.reduced_formula}.ph.out\", \"w\")\n",
    "#dmat_file = open(f\"dmat.{vcomp.reduced_formula}\", \"w\")\n",
    "dm_output_file = open(f\"{vcomp.reduced_formula}.dm.out\", \"w\")"
   ]
  },
  {
   "cell_type": "code",
   "execution_count": null,
   "metadata": {},
   "outputs": [],
   "source": [
    "db = DB(OUTPUTS)"
   ]
  },
  {
   "cell_type": "markdown",
   "metadata": {},
   "source": [
    "## Prepare Psudopotential args for Run"
   ]
  },
  {
   "cell_type": "code",
   "execution_count": null,
   "metadata": {},
   "outputs": [],
   "source": [
    "pp_args = \"\"\n",
    "for pp in pps:\n",
    "    pp_args += f\"-i pseudo/{pp} \""
   ]
  },
  {
   "cell_type": "markdown",
   "metadata": {},
   "source": [
    "## Assemble Job Commands and Sequentially Submit to Cluster\n",
    "#### First perform variable cell relaxation and receive optimized structure"
   ]
  },
  {
   "cell_type": "code",
   "execution_count": null,
   "metadata": {},
   "outputs": [],
   "source": [
    "COMMANDvcr = f\"espresso-6.8_pw > {vcr_output_file.name}\"\n",
    "SUBMITvcr = f\"submit -n {numnodes} -w {walltime} -e QE_DISABLE_GGA_PBE=0 --runName {vcomp.reduced_formula}vcr {COMMANDvcr} {pp_args} -i {vcr_input_file.name} \"\n",
    "logging.info(\"reached cell relaxation...\")\n",
    "spvcr = subprocess.run(SUBMITvcr.split(), capture_output=True, text=True)\n",
    "spvcr_out = \"\"\"\"\"\".join(spvcr.stdout)\n",
    "spvcr_err = \"\"\"\"\"\".join(spvcr.stderr)\n",
    "logging.debug(\" \".join(spvcr.args))\n",
    "logging.info(f\"\"\"\\nprocess output:\\n{spvcr_out}\\n\"\"\")\n",
    "logging.debug(f\"\"\"\\nprocess err out:\\n{spvcr_err}\\n\"\"\")\n",
    "vcr_output_file.close()\n",
    "#db.save('vcrstdout', spvcr) #cannot save artbitrary objects as outputs."
   ]
  },
  {
   "cell_type": "markdown",
   "metadata": {},
   "source": [
    "# Extract the new structure from the vc-relax calculation"
   ]
  },
  {
   "cell_type": "code",
   "execution_count": null,
   "metadata": {},
   "outputs": [],
   "source": [
    "# extract structure data from vc-relax.out and save to scf input\n",
    "matrix_start = \"CELL_PARAMETERS\"\n",
    "atpos_start = \"ATOMIC_POSITIONS\"\n",
    "atpos_end = \"End final coordinates\"\n",
    "matrix_inds = []\n",
    "atpos_inds = []\n",
    "with open(f\"{vcr_output_file.name}\", \"rt\") as vcrout:\n",
    "    vcr_lines = vcrout.readlines()\n",
    "    \n",
    "#raise exception for bad file\n",
    "if not vcr_lines:\n",
    "    raise IndexError(\"vcrelax calculation did not output anything to file. It probably failed to run\")\n",
    "else:\n",
    "    preamble = \"\".join(vcr_lines[14:40])\n",
    "    logging.debug(f\"\"\"The first meaningful lines of vc relaxation output are: {preamble}\\n\"\"\")\n",
    "\n",
    "try:\n",
    "    # Getting structure block line locations in the file\n",
    "    for ind, line in enumerate(vcr_lines):\n",
    "        if matrix_start in line:\n",
    "            logging.debug(f\"adding line {ind} to cell matrix reference locations\")\n",
    "            matrix_inds.append(ind)  \n",
    "        if atpos_start in line:\n",
    "            logging.debug(f\"adding line {ind} to site reference locations\")\n",
    "            atpos_inds.append(ind)\n",
    "        if atpos_end in line:\n",
    "            logging.debug(f\"line {ind} is the end of structure info\")\n",
    "            end = ind\n",
    "    \n",
    "    # get the new cell parameters\n",
    "    relaxed_cell_parameters_block = \"\"\"\"\"\"\n",
    "    for line in [lines for lines in vcr_lines[matrix_inds[-1]+1:atpos_inds[-1]-1]]:\n",
    "        logging.debug(\"looping though final cell matrix lines\")\n",
    "        relaxed_cell_parameters_block += line\n",
    "    \n",
    "    # get the new atomic positions\n",
    "    if end:\n",
    "        relaxed_atomic_positions_block = \"\"\"\"\"\"\n",
    "        for line in [lines for lines in vcr_lines[atpos_inds[-1]+1:end]]:\n",
    "            logging.debug(\"looping though final atomic sites lines\")\n",
    "            relaxed_atomic_positions_block += line\n",
    "    else:\n",
    "        logging.error(\"Variable Cell Relaxation Failed to Converge! Try increasing ecutwfc to at least 200. The calculation is proceeding with most relaxed structure found.\")\n",
    "        end_lines_list = [line for line in vcr_lines[atpos_inds[-1]+1:-1]]\n",
    "        relaxed_atomic_positions_block = \"\"\"\"\"\"\n",
    "        for line in end_lines_list:\n",
    "            if line != \"\\n\" :\n",
    "                logging.debug(\"looping though final atomic sites lines\")\n",
    "                relaxed_atomic_positions_block += line                 \n",
    "                 \n",
    "    logging.info(f\"\"\"The Lattice Parameters after relaxation are:\n",
    "    {relaxed_cell_parameters_block}\"\"\")\n",
    "    logging.info(f\"\"\"The atomic sites after relaxation are:\n",
    "    {relaxed_atomic_positions_block}\"\"\")\n",
    "except:\n",
    "    raise ValueError(f\"{vcr_output_file.name} contains lines, but no reference to a relaxed structure. pw.x failed for some reason\")\n",
    "\n",
    "scf_input = f\"\"\"\n",
    "&CONTROL\n",
    "  calculation  = \"scf\",\n",
    "  prefix       = \"{vcomp.reduced_formula}\",\n",
    "  pseudo_dir   = \"./\",\n",
    "  outdir       = \"./\",\n",
    "/\n",
    "&SYSTEM\n",
    "  ibrav=0, celldm(1) =1, {nat_num}, ntyp= {ntyp_num},\n",
    "  occupations={smearing}, {\"smearing='marzari-vanderbilt', degauss=0.02,\" if smearing == 'smearing' else \"\"}\n",
    "  ecutwfc ={ecutwfc},\n",
    "/\n",
    "&ELECTRONS\n",
    "  mixing_mode='plain'\n",
    "  mixing_beta = 0.5,\n",
    "  startingwfc='random',\n",
    "  conv_thr =  1.0d-8\n",
    "/\n",
    "CELL_PARAMETERS (alat= 1.00000000)\n",
    "{relaxed_cell_parameters_block}\n",
    "ATOMIC_SPECIES\n",
    "{atomic_species_block}\n",
    "ATOMIC_POSITIONS (crystal)\n",
    "{relaxed_atomic_positions_block}\n",
    "K_POINTS (automatic)\n",
    "{kpoints_block}\n",
    "\"\"\"\n",
    "\n",
    "# write to the file\n",
    "scf_input_file = open(f\"{vcomp.reduced_formula}.scf.in\", \"w\")\n",
    "scf_input_file.write(scf_input)\n",
    "scf_input_file.close()"
   ]
  },
  {
   "cell_type": "markdown",
   "metadata": {},
   "source": [
    "#### Next perform self consistent field calculation with new structure to optimize wavefunction"
   ]
  },
  {
   "cell_type": "code",
   "execution_count": null,
   "metadata": {},
   "outputs": [],
   "source": [
    "COMMANDscf = f\"espresso-6.8_pw > {scf_output_file.name}\"\n",
    "SUBMITscf = f\"submit -n {numnodes} -w {walltime} -e QE_DISABLE_GGA_PBE=0 --runName {vcomp.reduced_formula}scf {COMMANDscf} {pp_args} -i {scf_input_file.name}\"\n",
    "logging.info(\"reached self consistent field calculation...\")\n",
    "spscf = subprocess.run(SUBMITscf.split(), capture_output=True, text=True)\n",
    "spscf_out = \"\"\"\"\"\".join(spscf.stdout)\n",
    "spscf_err = \"\"\"\"\"\".join(spscf.stderr)\n",
    "logging.debug(\" \".join(spscf.args))\n",
    "logging.info(f\"\"\"\\nprocess output:\\n{spscf_out}\\n\"\"\")\n",
    "logging.debug(f\"\"\"\\nprocess err out:\\n{spscf_err}\\n\"\"\")\n",
    "scf_output_file.close()\n",
    "#db.save('scfstdout', spscf)"
   ]
  },
  {
   "cell_type": "markdown",
   "metadata": {},
   "source": [
    "#### Next compute vibrational frequencies\n",
    "ph.x takes as inputs:\n",
    "1. compound.ph.in file\n",
    "2. compound.scf.out file\n",
    "\n",
    "produces outputs:\n",
    "1. compound.ph.out file\n",
    "2. dmat.compound file"
   ]
  },
  {
   "cell_type": "code",
   "execution_count": null,
   "metadata": {},
   "outputs": [],
   "source": [
    "COMMANDph = f\"espresso-6.8_ph > {ph_output_file.name}\"\n",
    "extra_inargs = f\"-i {vcomp.reduced_formula}.xml -i {vcomp.reduced_formula}.save\"\n",
    "SUBMITph = f\"submit -n {numnodes} -w {walltime} -e QE_DISABLE_GGA_PBE=0 --runName {vcomp.reduced_formula}ph {extra_inargs} {COMMANDph} -in {ph_input_file.name} {pp_args}\"\n",
    "logging.info(\"reached phonon calculation...\")\n",
    "spph = subprocess.run(SUBMITph.split(), capture_output=True, text=True)\n",
    "spph_out = \"\"\"\"\"\".join(spph.stdout)\n",
    "spph_err = \"\"\"\"\"\".join(spph.stderr)\n",
    "logging.debug(\" \".join(spph.args))\n",
    "logging.info(f\"\"\"\\nprocess output:\\n{spph_out}\\n\"\"\")\n",
    "logging.debug(f\"\"\"\\nprocess err out:\\n{spph_err}\\n\"\"\")\n",
    "ph_output_file.close()\n",
    "#db.save('phstdout', spph)"
   ]
  },
  {
   "cell_type": "markdown",
   "metadata": {},
   "source": [
    "#### Next extract phonon spectra\n",
    "dynmat.x takes as inputs:\n",
    "1. compound.dm.in\n",
    "2. dmat.compound\n",
    "\n",
    "dmat.compound may be malformed... Why this happens, even amongst compositoins in the same spacegroup simply with variably defined unit cells is unknown to me.\n",
    "\n",
    "produces output:\n",
    "1. compound.dm.out\n",
    "\n",
    "This output contains the spectrum tensor and can be used to plot the spectrum"
   ]
  },
  {
   "cell_type": "code",
   "execution_count": null,
   "metadata": {},
   "outputs": [],
   "source": [
    "try:\n",
    "    with open(f\"dmat.{vcomp.reduced_formula}\", 'r') as dynmat:\n",
    "        dmtext = dynmat.read()\n",
    "    logging.info(dmtext)\n",
    "except:\n",
    "    logging.critical(f\"dmat.{vcomp.reduced_formula} is empty. ph.x likely crashed\")"
   ]
  },
  {
   "cell_type": "code",
   "execution_count": null,
   "metadata": {},
   "outputs": [],
   "source": [
    "COMMANDdm = f\"espresso-6.8_dynmat > {dm_output_file.name}\"\n",
    "extra_inargs = f\"-i dmat.{vcomp.reduced_formula}\"\n",
    "SUBMITdm = f\"submit -n {numnodes} -w {walltime} -e QE_DISABLE_GGA_PBE=0 --runName {vcomp.reduced_formula}dm {extra_inargs} {COMMANDdm} -in {dm_input_file.name}\" \n",
    "logging.info(\"reached dynamical matrix calculation...\")\n",
    "spdm = subprocess.run(SUBMITdm.split(), capture_output=True, text=True)\n",
    "spdm_out = \"\"\"\"\"\".join(spdm.stdout)\n",
    "spdm_err = \"\"\"\"\"\".join(spdm.stderr)\n",
    "logging.debug(\" \".join(spdm.args))\n",
    "logging.info(f\"\"\"\\nprocess output:\\n{spdm_out}\\n\"\"\")\n",
    "logging.debug(f\"\"\"\\nprocess err out:\\n{spdm_err}\\n\"\"\")\n",
    "#dmat_file.close() #might be overwritting the qe's attempt to output this file automatically?\n",
    "dm_output_file.close()\n",
    "#db.save('dmstdout', spdm)"
   ]
  },
  {
   "cell_type": "markdown",
   "metadata": {},
   "source": [
    "## Parse Output Files for Declared Results"
   ]
  },
  {
   "cell_type": "code",
   "execution_count": null,
   "metadata": {},
   "outputs": [],
   "source": [
    "with open(f\"{dm_output_file.name}\", \"rt\") as resultfile:\n",
    "    results = resultfile.readlines()\n",
    "\n",
    "try:\n",
    "    results_start = \"mode\"\n",
    "    results_end = \"DYNMAT\"\n",
    "    for ind, line in enumerate(results):\n",
    "        if results_start in line:\n",
    "            start = ind\n",
    "        if results_end in line:\n",
    "            end = ind\n",
    "    \n",
    "    spectra_data = \"\".join(results[start:end]).replace(\"#\",\" \")\n",
    "\n",
    "    logging.info(f\"\"\"The Predicted Spectrographs for {sa.get_crystal_system()} {vcomp.reduced_formula} are: {spectra_data}\"\"\")\n",
    "except:\n",
    "    logging.error(f\"{dm_output_file.name} may not contain a modes and frequencies card. dynmat.x likely failed to produce it. dmat.{vcomp.reduced_formula} may be malformed\")\n",
    "    pass"
   ]
  },
  {
   "cell_type": "markdown",
   "metadata": {},
   "source": [
    "### Assign results to output variables/hardcopy plot files"
   ]
  },
  {
   "cell_type": "code",
   "execution_count": null,
   "metadata": {},
   "outputs": [],
   "source": [
    "try:\n",
    "    result_stream = io.StringIO(spectra_data)\n",
    "    result_stream.seek(0)\n",
    "    spectradf = pd.read_csv(result_stream, error_bad_lines=False, sep=\"\\s+|\\t+|\\s+\\t+|\\t+\\s\")\n",
    "except:\n",
    "    pass"
   ]
  },
  {
   "cell_type": "code",
   "execution_count": null,
   "metadata": {},
   "outputs": [],
   "source": [
    "with open(\"run.log\", 'r') as logfile:\n",
    "    logtext = logfile.read()\n",
    "db.save('logreport', logtext)"
   ]
  },
  {
   "cell_type": "code",
   "execution_count": null,
   "metadata": {},
   "outputs": [],
   "source": [
    "try: \n",
    "    db.save('spectra', spectradf.to_dict())\n",
    "except:\n",
    "    raise ValueError(f\"No spectra dataframe was produced from processing {dm_output_file.name}\")"
   ]
  }
 ],
 "metadata": {
  "celltoolbar": "Tags",
  "kernelspec": {
   "display_name": "Python 3",
   "language": "python",
   "name": "python3"
  },
  "language_info": {
   "codemirror_mode": {
    "name": "ipython",
    "version": 3
   },
   "file_extension": ".py",
   "mimetype": "text/x-python",
   "name": "python",
   "nbconvert_exporter": "python",
   "pygments_lexer": "ipython3",
   "version": "3.7.7"
  }
 },
 "nbformat": 4,
 "nbformat_minor": 2
}
