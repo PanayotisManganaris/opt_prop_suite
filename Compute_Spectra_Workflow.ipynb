{
 "cells": [
  {
   "cell_type": "markdown",
   "metadata": {},
   "source": [
    "# Compute Spectra Workflow\n",
    "- Identify material system of interest\n",
    "- Specify simulation parameters\n",
    "- Run simulation\n",
    "- Extract simulation outputs\n",
    "\n",
    "[this cell will be deleted / cleaned up in the future]"
   ]
  },
  {
   "cell_type": "markdown",
   "metadata": {},
   "source": [
    "###  Import Dependencies"
   ]
  },
  {
   "cell_type": "code",
   "execution_count": 107,
   "metadata": {},
   "outputs": [],
   "source": [
    "%matplotlib widget\n",
    "\n",
    "#data tools\n",
    "import pandas as pd\n",
    "import numpy as np\n",
    "import qgrid\n",
    "from pymatgen.ext.matproj import MPRester\n",
    "from pymatgen.vis import structure_chemview as viz\n",
    "\n",
    "#simtool loading and interface\n",
    "from simtool import findInstalledSimToolNotebooks,searchForSimTool\n",
    "from simtool import getSimToolInputs,getSimToolOutputs,Run\n",
    "\n",
    "#user interface utilities \n",
    "import os, stat\n",
    "import plotly.express as px\n",
    "import ipywidgets as widgets\n",
    "from IPython.display import display\n",
    "from IPython.display import clear_output"
   ]
  },
  {
   "cell_type": "markdown",
   "metadata": {},
   "source": [
    "### User Create ~/.mpkey.txt if it doesn't already exist"
   ]
  },
  {
   "cell_type": "code",
   "execution_count": 4,
   "metadata": {},
   "outputs": [
    {
     "name": "stdout",
     "output_type": "stream",
     "text": [
      "Something seems wrong with your key\n"
     ]
    }
   ],
   "source": [
    "#key security\n",
    "try:\n",
    "    user = str(input('Paste MP API key: '))\n",
    "    clear_output()\n",
    "    if not user.isalnum():\n",
    "        raise TypeError('Wrong Key')\n",
    "    if user is None:\n",
    "        raise TypeError('Empty')\n",
    "    with open(os.path.expanduser('~/.mpkey.txt'), 'w') as keyfile:\n",
    "        keyfile.write(user)\n",
    "    os.chmod(os.path.expanduser('~/.mpkey.txt'), stat.S_IREAD | stat.S_IWRITE)\n",
    "    del user\n",
    "    print(\"Success\")\n",
    "except:\n",
    "    print(\"Something seems wrong with your key\")"
   ]
  },
  {
   "cell_type": "markdown",
   "metadata": {},
   "source": [
    "## User Prompted To pick their Semiconductor of Choice\n",
    "### Choice (a): query MP and fliter on properties. Dataframe is updated with each selection."
   ]
  },
  {
   "cell_type": "code",
   "execution_count": 108,
   "metadata": {
    "scrolled": true
   },
   "outputs": [
    {
     "data": {
      "application/vnd.jupyter.widget-view+json": {
       "model_id": "e9233840f5df4139b4332b54cb86b942",
       "version_major": 2,
       "version_minor": 0
      },
      "text/plain": [
       "HBox(children=(FloatProgress(value=0.0, max=18494.0), HTML(value='')))"
      ]
     },
     "metadata": {},
     "output_type": "display_data"
    }
   ],
   "source": [
    "# query MP, get all cubic systems\n",
    " \n",
    "with open(os.path.expanduser(\"~/.mpkey.txt\"), \"r+\") as file:\n",
    "    apikey = file.readline()\n",
    "rester = MPRester(apikey)\n",
    "sc_dicts = rester.query({ \"crystal_system\": \"cubic\"},\n",
    "                        [\"task_id\",\"pretty_formula\",\"formula\",\"elements\",\"e_above_hull\", \"spacegroup.number\", \"band_gap\", \"crystal_system\"])\n",
    "sc_df = pd.DataFrame(sc_dicts)\n",
    "\n",
    "# define a function for visualizing input structures\n",
    "\n",
    "def mpid_plot(mpid):\n",
    "\n",
    "    # import POSCAR file\n",
    "\n",
    "    struct = rester.get_structure_by_material_id(mpid, final = False, conventional_unit_cell=True)\n",
    "    POSCAR_str = struct.to(fmt = \"poscar\")\n",
    "\n",
    "    lines = POSCAR_str.split('\\n')\n",
    "\n",
    "    # get the lattice information\n",
    "\n",
    "    lattice = lines[1]\n",
    "    cell_vectors = np.array([lines[2].split() , lines[3].split() , lines[4].split()]).astype(float)\n",
    "\n",
    "    # get the list of sites\n",
    "\n",
    "    sites = []\n",
    "    for line in lines[8:]:\n",
    "        if not line:\n",
    "            break\n",
    "        sites.append([line.split()[0],line.split()[1],line.split()[2]])\n",
    "\n",
    "    # convert from fractional to xyz\n",
    "\n",
    "    sites = np.array(sites).astype(float)\n",
    "    xyz = np.matmul(sites,cell_vectors).transpose()\n",
    "\n",
    "    # get the coordinates of the box\n",
    "\n",
    "    corners = np.array([[0,1,1,0,0,0,0,1,1,0,0,1,1,1,1,0,0],[0,0,1,1,0,0,0,0,1,1,0,0,0,1,1,1,1],[0,0,0,0,0,1,1,1,1,1,1,1,0,0,1,1,0]]).T\n",
    "    cell = np.matmul(corners,cell_vectors).transpose()\n",
    "    \n",
    "    box = pd.DataFrame({'x':cell[0],'y':cell[1],'z':cell[2]})\n",
    "\n",
    "    # get a color dictionary\n",
    "\n",
    "    elements = lines[5].split()\n",
    "    atoms = lines[6].split()\n",
    "    hues = ['tab:blue','tab:orange','tab:green','tab:red']\n",
    "    colors = []\n",
    "    for i, atom in enumerate(atoms):\n",
    "        colors.extend([elements[i]]*int(atoms[i]))\n",
    "\n",
    "    zip_iterator = zip(elements,hues)\n",
    "    color_dict = dict(zip_iterator)\n",
    "    \n",
    "    size = 72\n",
    "    POSCAR_df = pd.DataFrame({'x':xyz[0],'y':xyz[1],'z':xyz[2],'element':colors,'size':size})    \n",
    "    fig = px.scatter_3d(POSCAR_df, x='x', y='y', z='z',\n",
    "              color='element',labels={'x':'','y':'','z':''},size='size',size_max=size)\n",
    "    \n",
    "    box = px.line_3d(box,x='x', y='y', z='z')\n",
    "    fig.add_traces(list(box.select_traces()))\n",
    "    \n",
    "    fig.update_layout(scene = dict(\n",
    "                    xaxis = dict(\n",
    "                        nticks=0,showbackground=False,showticklabels=False,),\n",
    "                    yaxis = dict(\n",
    "                        nticks=0,showbackground=False,showticklabels=False,),\n",
    "                    zaxis = dict(\n",
    "                        nticks=0,showbackground=False,showticklabels=False,),),\n",
    "                    width=700,\n",
    "                    margin=dict(r=10, l=10, b=10, t=10)\n",
    "                  )\n",
    "\n",
    "    fig.show()"
   ]
  },
  {
   "cell_type": "code",
   "execution_count": 109,
   "metadata": {
    "scrolled": false
   },
   "outputs": [
    {
     "data": {
      "application/vnd.jupyter.widget-view+json": {
       "model_id": "2395e3c1c047468c951f960a196cbd0e",
       "version_major": 2,
       "version_minor": 0
      },
      "text/plain": [
       "IntText(value=2133, description='MPID:')"
      ]
     },
     "metadata": {},
     "output_type": "display_data"
    },
    {
     "data": {
      "application/vnd.jupyter.widget-view+json": {
       "model_id": "debcc24c356747ec952f9f28cce32ce8",
       "version_major": 2,
       "version_minor": 0
      },
      "text/plain": [
       "Button(description='plot', style=ButtonStyle(), tooltip='plot')"
      ]
     },
     "metadata": {},
     "output_type": "display_data"
    },
    {
     "data": {
      "application/vnd.jupyter.widget-view+json": {
       "model_id": "419839ba0a8148319e46a8a1ebcc06b9",
       "version_major": 2,
       "version_minor": 0
      },
      "text/plain": [
       "Output()"
      ]
     },
     "metadata": {},
     "output_type": "display_data"
    },
    {
     "data": {
      "application/vnd.jupyter.widget-view+json": {
       "model_id": "e187e0e24479446fbbd8b8cb76d3c1cc",
       "version_major": 2,
       "version_minor": 0
      },
      "text/plain": [
       "QgridWidget(grid_options={'fullWidthRows': True, 'syncColumnCellResize': True, 'forceFitColumns': True, 'defau…"
      ]
     },
     "metadata": {},
     "output_type": "display_data"
    }
   ],
   "source": [
    "# create widgets\n",
    "\n",
    "mpid = widgets.IntText(\n",
    "        value=2133,\n",
    "        description='MPID:',\n",
    "        disabled=False\n",
    ")\n",
    "\n",
    "plot_button = widgets.Button(\n",
    "    description='plot',\n",
    "    disabled=False,\n",
    "    button_style='', # 'success', 'info', 'warning', 'danger' or ''\n",
    "    tooltip='plot'\n",
    ")\n",
    "\n",
    "# TODO: figure out a system of taking input from EITHER mpid input, or qgrid selected data\n",
    "        \n",
    "def on_button_clicked(b):\n",
    "    with output:\n",
    "        try:\n",
    "            selected_row = mpid_widget.get_changed_df().index[mpid_widget.get_selected_rows()][0]\n",
    "            mpid_selected= sc_df.at[selected_row,'task_id']\n",
    "            mpid.value = mpid_selected.split('-')[1]\n",
    "        except:\n",
    "            mpid_selected=\"mp-\"+str(mpid.value)\n",
    "        mpid_plot(mpid_selected)\n",
    "        \n",
    "        \n",
    "def update_plot(args):\n",
    "    mpid_selected=\"mp-\"+str(mpid.value)\n",
    "    mpid_plot(mpid_selected)\n",
    "    \n",
    "output = widgets.Output()\n",
    "mpid.observe(update_plot,'value')  \n",
    "plot_button.on_click(on_button_clicked)\n",
    "display(mpid, plot_button, output)\n",
    "\n",
    "# if you don't, search for your structure by filtering\n",
    "mpid_widget = qgrid.show_grid(sc_df)\n",
    "\n",
    "# filter by pretty_formula to look for a specific structure\n",
    "display(mpid_widget)"
   ]
  },
  {
   "cell_type": "markdown",
   "metadata": {},
   "source": [
    "### Get structure from MP database\n",
    "TODO: could be combined with the last cell"
   ]
  },
  {
   "cell_type": "code",
   "execution_count": 110,
   "metadata": {},
   "outputs": [
    {
     "data": {
      "text/plain": [
       "{'@module': 'pymatgen.core.structure',\n",
       " '@class': 'Structure',\n",
       " 'charge': None,\n",
       " 'lattice': {'matrix': [[1.5920500003918698, -2.7575114888687695, 0.0],\n",
       "   [1.5920500003918698, 2.7575114888687695, 0.0],\n",
       "   [0.0, 0.0, 5.1551]],\n",
       "  'a': 3.1841000007837397,\n",
       "  'b': 3.1841000007837397,\n",
       "  'c': 5.1551,\n",
       "  'alpha': 90.0,\n",
       "  'beta': 90.0,\n",
       "  'gamma': 120.00000000000001,\n",
       "  'volume': 45.26276950032406},\n",
       " 'sites': [{'species': [{'element': 'Zn', 'occu': 1}],\n",
       "   'abc': [0.6666666666666666, 0.3333333333333333, 0.5],\n",
       "   'xyz': [1.5920500003918696, -0.9191704962895898, 2.57755],\n",
       "   'label': 'Zn',\n",
       "   'properties': {}},\n",
       "  {'species': [{'element': 'Zn', 'occu': 1}],\n",
       "   'abc': [0.3333333333333333, 0.6666666666666666, 0.0],\n",
       "   'xyz': [1.5920500003918696, 0.9191704962895898, 0.0],\n",
       "   'label': 'Zn',\n",
       "   'properties': {}},\n",
       "  {'species': [{'element': 'O', 'occu': 1}],\n",
       "   'abc': [0.6666666666666666, 0.3333333333333333, 0.8803099999999999],\n",
       "   'xyz': [1.5920500003918696, -0.9191704962895898, 4.538086080999999],\n",
       "   'label': 'O',\n",
       "   'properties': {}},\n",
       "  {'species': [{'element': 'O', 'occu': 1}],\n",
       "   'abc': [0.3333333333333333, 0.6666666666666666, 0.3803099999999999],\n",
       "   'xyz': [1.5920500003918696, 0.9191704962895898, 1.9605360809999997],\n",
       "   'label': 'O',\n",
       "   'properties': {}}]}"
      ]
     },
     "execution_count": 110,
     "metadata": {},
     "output_type": "execute_result"
    }
   ],
   "source": [
    "# This is passed to the simtool to perform simulations\n",
    "# structure objects obtained directly from remote database queries must be passed to simtool as dictionaries to preserve maximum numerical precision\n",
    "# quantum espresso is very sensitive to precision especially for relaxation calculations.\n",
    "struct = rester.get_structure_by_material_id(\"mp-\"+str(mpid.value), final = False, conventional_unit_cell=True)\n",
    "struct_dict = struct.as_dict()#to(fmt=\"JSON\")\n",
    "struct_dict"
   ]
  },
  {
   "cell_type": "markdown",
   "metadata": {},
   "source": [
    "### Choice (b): upload your own poscar directly. No query necessary."
   ]
  },
  {
   "cell_type": "code",
   "execution_count": 106,
   "metadata": {},
   "outputs": [
    {
     "ename": "NameError",
     "evalue": "name 'Structure' is not defined",
     "output_type": "error",
     "traceback": [
      "\u001b[0;31m---------------------------------------------------------------------------\u001b[0m",
      "\u001b[0;31mNameError\u001b[0m                                 Traceback (most recent call last)",
      "\u001b[0;32m<ipython-input-106-99f9fe0dcb92>\u001b[0m in \u001b[0;36m<module>\u001b[0;34m\u001b[0m\n\u001b[1;32m      1\u001b[0m \u001b[0;31m#users can pass their own structure as a poscar. the simtool will take the file contents as a dictionary which is produced here\u001b[0m\u001b[0;34m\u001b[0m\u001b[0;34m\u001b[0m\u001b[0;34m\u001b[0m\u001b[0m\n\u001b[0;32m----> 2\u001b[0;31m \u001b[0mstruct\u001b[0m \u001b[0;34m=\u001b[0m \u001b[0mStructure\u001b[0m\u001b[0;34m.\u001b[0m\u001b[0mfrom_file\u001b[0m\u001b[0;34m(\u001b[0m\u001b[0;34m\"./POSCAR\"\u001b[0m\u001b[0;34m)\u001b[0m\u001b[0;34m\u001b[0m\u001b[0;34m\u001b[0m\u001b[0m\n\u001b[0m\u001b[1;32m      3\u001b[0m \u001b[0mstruct_dict\u001b[0m \u001b[0;34m=\u001b[0m \u001b[0mstruct\u001b[0m\u001b[0;34m.\u001b[0m\u001b[0mas_dict\u001b[0m\u001b[0;34m(\u001b[0m\u001b[0;34m)\u001b[0m\u001b[0;34m\u001b[0m\u001b[0;34m\u001b[0m\u001b[0m\n\u001b[1;32m      4\u001b[0m \u001b[0mstruct_dict\u001b[0m\u001b[0;34m\u001b[0m\u001b[0;34m\u001b[0m\u001b[0m\n",
      "\u001b[0;31mNameError\u001b[0m: name 'Structure' is not defined"
     ]
    }
   ],
   "source": [
    "#users can pass their own structure as a poscar. the simtool will take the file contents as a dictionary which is produced here\n",
    "struct = Structure.from_file(\"./POSCAR\")\n",
    "struct_dict = struct.as_dict()\n",
    "struct_dict"
   ]
  },
  {
   "cell_type": "markdown",
   "metadata": {},
   "source": [
    "# Perform structure relaxation, scf, and phonon computation and spectra extraction using simtool"
   ]
  },
  {
   "cell_type": "markdown",
   "metadata": {},
   "source": [
    "### Find relax_sim simtool notebook and confirm"
   ]
  },
  {
   "cell_type": "code",
   "execution_count": 122,
   "metadata": {},
   "outputs": [
    {
     "name": "stdout",
     "output_type": "stream",
     "text": [
      "notebookPath = /home/nanohub/nykiel.4/opt_prop/opt_prop_suite/simtool/relax_sim.ipynb\n",
      "simToolName = relax_sim\n",
      "simToolRevision = None\n",
      "published = False\n"
     ]
    }
   ],
   "source": [
    "#simToolName = \"670raman\"\n",
    "simToolName = \"relax_sim\"\n",
    "simToolLocation = searchForSimTool(simToolName)\n",
    "for key in simToolLocation.keys():\n",
    "    print(f\"{key} = {simToolLocation[key]}\")"
   ]
  },
  {
   "cell_type": "code",
   "execution_count": 123,
   "metadata": {},
   "outputs": [
    {
     "name": "stdout",
     "output_type": "stream",
     "text": [
      "{}\n"
     ]
    }
   ],
   "source": [
    "installedSimToolNotebooks = findInstalledSimToolNotebooks(simToolName,returnString=True)\n",
    "print(installedSimToolNotebooks)"
   ]
  },
  {
   "cell_type": "code",
   "execution_count": 124,
   "metadata": {},
   "outputs": [
    {
     "data": {
      "text/plain": [
       "loglevel:\n",
       "    type: Choice\n",
       "    description: python logging module level setting\n",
       "    options: ['DEBUG', 'INFO', 'WARNING', 'ERROR', 'CRITICAL']\n",
       "\n",
       "numnodes:\n",
       "    type: Number\n",
       "    description: Number of processors for mpi execution\n",
       "    min: 1\n",
       "    max: 8\n",
       "    value: 1\n",
       "\n",
       "walltime:\n",
       "    type: Text\n",
       "    description: Maximum time to wait for reduced job load on cluster in HH:MM:SS time format\n",
       "    value: 01:00:00\n",
       "\n",
       "pps:\n",
       "    type: List\n",
       "    description: List of pseudopotentials in UPF format to be used by simulator. Potentials must either exist in ./simtool/pseudo or be accessible at http://www.quantum-espresso.org/wp-content/uploads/upf_files/\n",
       "    value: ['O.pbe-hgh.UPF', 'Zn.pbe-d-hgh.UPF']\n",
       "\n",
       "smearing:\n",
       "    type: Choice\n",
       "    description: Setting the extent to which there is metal-like sharing of electrons\n",
       "    options: ['smearing', 'fixed']\n",
       "\n",
       "ecutwfc:\n",
       "    type: Number\n",
       "    description: kinetic energy cutoff for wavefunctions\n",
       "    units: rydberg\n",
       "    min: 25\n",
       "    max: 400\n",
       "    value: 120\n",
       "\n",
       "ecutrho:\n",
       "    type: Number\n",
       "    description: kinetic energy cutoff for charge density and potential. Recommended (but not required) to be 4 times the cutoff for wavefunctions.\n",
       "    min: 100\n",
       "    max: 1600\n",
       "    value: 480\n",
       "\n",
       "kpoints:\n",
       "    type: Number\n",
       "    description: magnitude of kpoint density, which will be scaled according to the lattice vectors\n",
       "    min: 1\n",
       "    max: 20\n",
       "    value: 6\n",
       "\n",
       "epsil:\n",
       "    type: Boolean\n",
       "    description: true for solid crystals, false for molecules\n",
       "    value: True\n",
       "\n",
       "lraman:\n",
       "    type: Boolean\n",
       "    description: compute raman tensor with gga functionals when true, LDA functionals when false\n",
       "    value: True\n",
       "\n",
       "struct_dict:\n",
       "    type: Dict\n",
       "    description: User selected structure as dictionary"
      ]
     },
     "execution_count": 124,
     "metadata": {},
     "output_type": "execute_result"
    }
   ],
   "source": [
    "#Enter your values with units! The simtool will make sure you know what you're talking about.\n",
    "inputs = getSimToolInputs(simToolLocation)\n",
    "inputs"
   ]
  },
  {
   "cell_type": "code",
   "execution_count": 19,
   "metadata": {},
   "outputs": [
    {
     "data": {
      "application/vnd.jupyter.widget-view+json": {
       "model_id": "20c4537e8d3d4d9baef144616fdccd22",
       "version_major": 2,
       "version_minor": 0
      },
      "text/plain": [
       "VBox(children=(Accordion(children=(VBox(children=(BoundedFloatText(value=200.0, description='ecutrho:', max=16…"
      ]
     },
     "metadata": {},
     "output_type": "display_data"
    }
   ],
   "source": [
    "# skip this: reimplementing widget definitions wip\n",
    "class ToolSet():\n",
    "    def __init__(self, inputs, struct_dict): #users_pp_file_list\n",
    "        self.pp_list = []\n",
    "        for filename in os.listdir(\"./simtool/pseudo/\"):\n",
    "            f = os.path.join(\"./simtool/pseudo/\", filename)\n",
    "            # get a list of all the PPs -- is this best instatiated here or globally?\n",
    "            # if instanced here, the user could probably pass their own PPs to the constructor as well\n",
    "            if os.path.isfile(f):\n",
    "                self.pp_list.append(filename)\n",
    "\n",
    "        # TODO: filter by selected compound compositions\n",
    "        self.filtered_pp_list = self.pp_list\n",
    "\n",
    "    def _create_widgets(self):\n",
    "        self.log = widgets.Select(\n",
    "            options=[\"DEBUG\", \"INFO\", \"WARNING\", \"ERROR\", \"CRITICAL\"],\n",
    "            value='DEBUG',\n",
    "            # rows=10,\n",
    "            description='Log Level:',\n",
    "            disabled=False\n",
    "        )\n",
    "        self.walltime = widgets.Text(\n",
    "            value='01:00:00',\n",
    "            placeholder='walltime',\n",
    "            description='walltime:',\n",
    "            disabled=False\n",
    "        )\n",
    "        self.numnodes = widgets.IntText(\n",
    "            value=8,\n",
    "            placeholder='nodes',\n",
    "            description='nodes:',\n",
    "            disabled=False\n",
    "        ) \n",
    "        self.button = widgets.Button(\n",
    "            description='run simtool',\n",
    "            disabled=False,\n",
    "            button_style='', # 'success', 'info', 'warning', 'danger' or ''\n",
    "            tooltip='run to submit qe simtool'\n",
    "        )\n",
    "        self.button.on_click(self._on_button_clicked)\n",
    "        self.ecutwfc = widgets.BoundedFloatText(\n",
    "            value=50,\n",
    "            min=50,\n",
    "            max=400,\n",
    "            step=10,\n",
    "            description='ecutwfc:',\n",
    "            disabled=False\n",
    "        )\n",
    "        self.ecutrho = widgets.BoundedFloatText(\n",
    "            value=200,\n",
    "            min=200,\n",
    "            max=1600,\n",
    "            step=40,\n",
    "            description='ecutrho:',\n",
    "            disabled=False\n",
    "        )\n",
    "        self.smearing = widgets.Select(\n",
    "            options=['smearing','fixed'],\n",
    "            value='fixed',\n",
    "            rows = 2,\n",
    "            description='smearing:',\n",
    "            disabled=False\n",
    "        )\n",
    "        self.pp_menu1 = widgets.Combobox(\n",
    "            placeholder=\"choose a pseudopotential\",\n",
    "            options=filtered_pp_list,\n",
    "            description='pseudopotential 1:',\n",
    "            disabled=False\n",
    "        )\n",
    "        self.pp_menu2 = widgets.Combobox(\n",
    "            placeholder=\"choose a pseudopotential\",\n",
    "            options=filtered_pp_list,\n",
    "            description='pseudopotential 2:',\n",
    "            disabled=False\n",
    "        )\n",
    "        self.output = widgets.Output()\n",
    "        def _on_button_clicked(self, change):\n",
    "            with output:\n",
    "                print(\"submitting sim2l run with formula\" , self.compound.value, self.spacegroup.value)\n",
    "                runSim2l()\n",
    "                r = Run(simToolLocation,inputs)\n",
    "\n",
    "        # display(c, s, button, output)\n",
    "        def runSim2l():\n",
    "            inputs['loglevel'].value = log.value\n",
    "            inputs['walltime'].value = walltime.value\n",
    "            inputs['numnodes'].value = numnodes.value\n",
    "            inputs['ecutwfc'].value = ecutwfc.value\n",
    "            inputs['ecutrho'].value = ecutrho.value\n",
    "            inputs['pps'].value = [pp_menu1.value, pp_menu2.value]\n",
    "            inputs['smearing'].value = smearing.value\n",
    "            inputs['struct_dict'].value = struct_dict"
   ]
  },
  {
   "cell_type": "code",
   "execution_count": 121,
   "metadata": {
    "scrolled": true
   },
   "outputs": [
    {
     "data": {
      "application/vnd.jupyter.widget-view+json": {
       "model_id": "2859c82a15f24dc18dd2ff66ea3e7a10",
       "version_major": 2,
       "version_minor": 0
      },
      "text/plain": [
       "VBox(children=(Accordion(children=(VBox(children=(BoundedFloatText(value=200.0, description='ecutrho:', max=16…"
      ]
     },
     "metadata": {},
     "output_type": "display_data"
    }
   ],
   "source": [
    "# get list of available pseudopotential files\n",
    "\n",
    "pp_list = []\n",
    "\n",
    "for filename in os.listdir(\"./simtool/pseudo/\"):\n",
    "    f = os.path.join(\"./simtool/pseudo/\", filename)\n",
    "    # get a list of all the PPs -- is this best instatiated here or globally?\n",
    "    # if instanced here, the user could probably pass their own PPs to the constructor as well\n",
    "    if os.path.isfile(f):\n",
    "        pp_list.append(filename)\n",
    "\n",
    "# filter by selected compound compositions\n",
    "elements = np.unique([''.join([i for i in str(i.species) if i.isalpha()]) for i in struct.sites])\n",
    "filtered_pp_list = [pp for pp in pp_list for e in elements if e in pp]\n",
    "\n",
    "# make widgets for sim2l parameters\n",
    "\n",
    "log = widgets.Select(\n",
    "    options=[\"DEBUG\", \"INFO\", \"WARNING\", \"ERROR\", \"CRITICAL\"],\n",
    "    value='DEBUG',\n",
    "    # rows=10,\n",
    "    description='Log Level:',\n",
    ")\n",
    "\n",
    "walltime = widgets.Text(\n",
    "    value='01:00:00',\n",
    "    placeholder='walltime',\n",
    "    description='walltime:',\n",
    "    disabled=False\n",
    ")\n",
    "numnodes = widgets.IntText(\n",
    "    value=8,\n",
    "    placeholder='nodes',\n",
    "    description='nodes:',\n",
    "    disabled=False\n",
    ") \n",
    "button = widgets.Button(\n",
    "    description='run simtool',\n",
    "    disabled=False,\n",
    "    button_style='', # 'success', 'info', 'warning', 'danger' or ''\n",
    "    tooltip='run to submit qe simtool'\n",
    ")\n",
    "ecutwfc = widgets.BoundedFloatText(\n",
    "    value=50,\n",
    "    min=50,\n",
    "    max=400,\n",
    "    step=10,\n",
    "    description='ecutwfc:',\n",
    "    disabled=False\n",
    ")\n",
    "kpoints = widgets.BoundedFloatText(\n",
    "    value=6,\n",
    "    min=1,\n",
    "    max=20,\n",
    "    step=1,\n",
    "    description='kpoints:',\n",
    "    disabled=False\n",
    ")\n",
    "ecutrho = widgets.BoundedFloatText(\n",
    "    value=200,\n",
    "    min=200,\n",
    "    max=1600,\n",
    "    step=40,\n",
    "    description='ecutrho:',\n",
    "    disabled=False\n",
    ")\n",
    "smearing = widgets.Select(\n",
    "    options=['smearing','fixed'],\n",
    "    value='fixed',\n",
    "    rows = 2,\n",
    "    description='smearing:',\n",
    "    disabled=False\n",
    ")\n",
    "pp_menu1 = widgets.Combobox(\n",
    "    placeholder=\"choose a pseudopotential\",\n",
    "    options=filtered_pp_list,\n",
    "    description='pseudo 1:',\n",
    "    disabled=False\n",
    ")\n",
    "pp_menu2 = widgets.Combobox(\n",
    "    placeholder=\"choose a pseudopotential\",\n",
    "    options=filtered_pp_list,\n",
    "    description='pseudo 2:',\n",
    "    disabled=False\n",
    ")\n",
    "\n",
    "output = widgets.Output()\n",
    "\n",
    "def runSim2l():\n",
    "    inputs['loglevel'].value = log.value\n",
    "    inputs['walltime'].value = walltime.value\n",
    "    inputs['numnodes'].value = numnodes.value\n",
    "    inputs['ecutwfc'].value = ecutwfc.value\n",
    "    inputs['ecutrho'].value = ecutrho.value\n",
    "    inputs['kpoints'].value = kpoints.value\n",
    "    inputs['pps'].value = [pp_menu1.value, pp_menu2.value]\n",
    "    inputs['smearing'].value = smearing.value\n",
    "    inputs['struct_dict'].value = struct_dict\n",
    "\n",
    "def on_button_clicked(b):\n",
    "    with output:\n",
    "        runSim2l()\n",
    "        r = Run(simToolLocation,inputs)\n",
    "        results = r.getResultSummary()\n",
    "        print(r.read('spectra'))\n",
    "    return results\n",
    "        \n",
    "        \n",
    "results = button.on_click(on_button_clicked)\n",
    "\n",
    "simulation = widgets.VBox([ecutrho, ecutwfc, kpoints, smearing, pp_menu1, pp_menu2])\n",
    "run_details = widgets.VBox([walltime, numnodes, log])\n",
    "\n",
    "accordion = widgets.VBox([widgets.Accordion(children=[simulation,run_details]),button,output])\n",
    "display(accordion)"
   ]
  },
  {
   "cell_type": "markdown",
   "metadata": {},
   "source": [
    "### Or, iterate through inputs directly"
   ]
  },
  {
   "cell_type": "code",
   "execution_count": null,
   "metadata": {
    "scrolled": false
   },
   "outputs": [
    {
     "name": "stdout",
     "output_type": "stream",
     "text": [
      "running sim with  50  and  3\n",
      "runname   = 29658a3a0b9a4f3aabe799f721cda155\n",
      "outdir    = RUNS/29658a3a0b9a4f3aabe799f721cda155\n",
      "cached    = False\n",
      "submit --local papermill -f inputs.yaml\n",
      "       /home/nanohub/nykiel.4/opt_prop/opt_prop_suite/simtool/relax_sim.ipynb\n",
      "       relax_sim.ipynb\n"
     ]
    },
    {
     "name": "stderr",
     "output_type": "stream",
     "text": [
      "Input Notebook:  /home/nanohub/nykiel.4/opt_prop/opt_prop_suite/simtool/relax_sim.ipynb\n",
      "Output Notebook: relax_sim.ipynb\n",
      "Executing: 100%|██████████| 49/49 [14:26<00:00, 17.69s/cell]\n"
     ]
    },
    {
     "name": "stdout",
     "output_type": "stream",
     "text": [
      "running sim with  50  and  6\n",
      "runname   = a843ea41768246d29acf50cb7ec4897e\n",
      "outdir    = RUNS/a843ea41768246d29acf50cb7ec4897e\n",
      "cached    = False\n",
      "submit --local papermill -f inputs.yaml\n",
      "       /home/nanohub/nykiel.4/opt_prop/opt_prop_suite/simtool/relax_sim.ipynb\n",
      "       relax_sim.ipynb\n"
     ]
    },
    {
     "name": "stderr",
     "output_type": "stream",
     "text": [
      "Input Notebook:  /home/nanohub/nykiel.4/opt_prop/opt_prop_suite/simtool/relax_sim.ipynb\n",
      "Output Notebook: relax_sim.ipynb\n",
      "Executing:  73%|███████▎  | 36/49 [02:50<01:01,  4.73s/cell]\n",
      "Traceback (most recent call last):\n",
      "  File \"/apps/share64/debian7/anaconda/anaconda-6/bin/papermill\", line 10, in <module>\n",
      "    sys.exit(papermill())\n",
      "  File \"/apps/share64/debian7/anaconda/anaconda-6/lib/python3.7/site-packages/click/core.py\", line 829, in __call__\n",
      "    return self.main(*args, **kwargs)\n",
      "  File \"/apps/share64/debian7/anaconda/anaconda-6/lib/python3.7/site-packages/click/core.py\", line 782, in main\n",
      "    rv = self.invoke(ctx)\n",
      "  File \"/apps/share64/debian7/anaconda/anaconda-6/lib/python3.7/site-packages/click/core.py\", line 1066, in invoke\n",
      "    return ctx.invoke(self.callback, **ctx.params)\n",
      "  File \"/apps/share64/debian7/anaconda/anaconda-6/lib/python3.7/site-packages/click/core.py\", line 610, in invoke\n",
      "    return callback(*args, **kwargs)\n",
      "  File \"/apps/share64/debian7/anaconda/anaconda-6/lib/python3.7/site-packages/papermill/cli.py\", line 254, in papermill\n",
      "    cwd=cwd,\n",
      "  File \"/apps/share64/debian7/anaconda/anaconda-6/lib/python3.7/site-packages/papermill/execute.py\", line 104, in execute_notebook\n",
      "    raise_for_execution_errors(nb, output_path)\n",
      "  File \"/apps/share64/debian7/anaconda/anaconda-6/lib/python3.7/site-packages/papermill/execute.py\", line 188, in raise_for_execution_errors\n",
      "    raise error\n",
      "papermill.exceptions.PapermillExecutionError: \n",
      "---------------------------------------------------------------------------\n",
      "Exception encountered at \"In [26]\":\n",
      "---------------------------------------------------------------------------\n",
      "NameError                                 Traceback (most recent call last)\n",
      "<ipython-input-26-f038ff75a7d7> in <module>\n",
      "     36     # get the new atomic positions\n",
      "---> 37     if end:\n",
      "     38         relaxed_atomic_positions_block = \"\"\"\"\"\"\n",
      "\n",
      "NameError: name 'end' is not defined\n",
      "\n",
      "During handling of the above exception, another exception occurred:\n",
      "\n",
      "ValueError                                Traceback (most recent call last)\n",
      "<ipython-input-26-f038ff75a7d7> in <module>\n",
      "     54     {relaxed_atomic_positions_block}\"\"\")\n",
      "     55 except:\n",
      "---> 56     raise ValueError(f\"{vcr_output_file.name} contains lines, but no reference to a relaxed structure. pw.x failed for some reason\")\n",
      "     57 \n",
      "     58 scf_input = f\"\"\"\n",
      "\n",
      "ValueError: ZnO.vc-relax.out contains lines, but no reference to a relaxed structure. pw.x failed for some reason\n",
      "\n"
     ]
    },
    {
     "name": "stdout",
     "output_type": "stream",
     "text": [
      "SimTool execution failed\n",
      "The following outputs are missing: ['spectra', 'logreport']\n",
      "running sim with  50  and  9\n",
      "runname   = 5177d7e6067348f684ab608834168de2\n",
      "outdir    = RUNS/5177d7e6067348f684ab608834168de2\n",
      "cached    = False\n",
      "submit --local papermill -f inputs.yaml\n",
      "       /home/nanohub/nykiel.4/opt_prop/opt_prop_suite/simtool/relax_sim.ipynb\n",
      "       relax_sim.ipynb\n"
     ]
    },
    {
     "name": "stderr",
     "output_type": "stream",
     "text": [
      "Input Notebook:  /home/nanohub/nykiel.4/opt_prop/opt_prop_suite/simtool/relax_sim.ipynb\n",
      "Output Notebook: relax_sim.ipynb\n",
      "Executing: 100%|██████████| 49/49 [1:40:14<00:00, 122.74s/cell]  \n",
      "Traceback (most recent call last):\n",
      "  File \"/apps/share64/debian7/anaconda/anaconda-6/bin/papermill\", line 10, in <module>\n",
      "    sys.exit(papermill())\n",
      "  File \"/apps/share64/debian7/anaconda/anaconda-6/lib/python3.7/site-packages/click/core.py\", line 829, in __call__\n",
      "    return self.main(*args, **kwargs)\n",
      "  File \"/apps/share64/debian7/anaconda/anaconda-6/lib/python3.7/site-packages/click/core.py\", line 782, in main\n",
      "    rv = self.invoke(ctx)\n",
      "  File \"/apps/share64/debian7/anaconda/anaconda-6/lib/python3.7/site-packages/click/core.py\", line 1066, in invoke\n",
      "    return ctx.invoke(self.callback, **ctx.params)\n",
      "  File \"/apps/share64/debian7/anaconda/anaconda-6/lib/python3.7/site-packages/click/core.py\", line 610, in invoke\n",
      "    return callback(*args, **kwargs)\n",
      "  File \"/apps/share64/debian7/anaconda/anaconda-6/lib/python3.7/site-packages/papermill/cli.py\", line 254, in papermill\n",
      "    cwd=cwd,\n",
      "  File \"/apps/share64/debian7/anaconda/anaconda-6/lib/python3.7/site-packages/papermill/execute.py\", line 104, in execute_notebook\n",
      "    raise_for_execution_errors(nb, output_path)\n",
      "  File \"/apps/share64/debian7/anaconda/anaconda-6/lib/python3.7/site-packages/papermill/execute.py\", line 188, in raise_for_execution_errors\n",
      "    raise error\n",
      "papermill.exceptions.PapermillExecutionError: \n",
      "---------------------------------------------------------------------------\n",
      "Exception encountered at \"In [34]\":\n",
      "---------------------------------------------------------------------------\n",
      "NameError                                 Traceback (most recent call last)\n",
      "<ipython-input-34-4c850a6c24e9> in <module>\n",
      "      1 try:\n",
      "----> 2     db.save('spectra', spectradf.to_dict())\n",
      "      3 except:\n",
      "\n",
      "NameError: name 'spectradf' is not defined\n",
      "\n",
      "During handling of the above exception, another exception occurred:\n",
      "\n",
      "ValueError                                Traceback (most recent call last)\n",
      "<ipython-input-34-4c850a6c24e9> in <module>\n",
      "      2     db.save('spectra', spectradf.to_dict())\n",
      "      3 except:\n",
      "----> 4     raise ValueError(f\"No spectra dataframe was produced from processing {dm_output_file.name}\")\n",
      "\n",
      "ValueError: No spectra dataframe was produced from processing ZnO.dm.out\n",
      "\n"
     ]
    },
    {
     "name": "stdout",
     "output_type": "stream",
     "text": [
      "SimTool execution failed\n",
      "The following outputs are missing: ['spectra']\n",
      "running sim with  50  and  12\n",
      "runname   = ab04e6b27d6a421ca3dd76e0191f1221\n",
      "outdir    = RUNS/ab04e6b27d6a421ca3dd76e0191f1221\n",
      "cached    = False\n",
      "submit --local papermill -f inputs.yaml\n",
      "       /home/nanohub/nykiel.4/opt_prop/opt_prop_suite/simtool/relax_sim.ipynb\n",
      "       relax_sim.ipynb\n"
     ]
    },
    {
     "name": "stderr",
     "output_type": "stream",
     "text": [
      "Input Notebook:  /home/nanohub/nykiel.4/opt_prop/opt_prop_suite/simtool/relax_sim.ipynb\n",
      "Output Notebook: relax_sim.ipynb\n",
      "Executing:  78%|███████▊  | 38/49 [1:00:55<53:49, 293.63s/cell]"
     ]
    }
   ],
   "source": [
    "ecutwfc_list = [50]\n",
    "ecutrho_list = []\n",
    "kpoints_list = [3, 6, 9, 12, 15]\n",
    "struct_dict_list = []\n",
    "results_list = []\n",
    "\n",
    "inputs['pps'].value = ['O.pbe.upf', 'Zn.pbe.upf']\n",
    "inputs['loglevel'].value = 'DEBUG'\n",
    "inputs['smearing'].value = 'fixed'\n",
    "inputs['struct_dict'].value = struct_dict\n",
    "\n",
    "for ecutwfc in ecutwfc_list:\n",
    "    for kpoints in kpoints_list:\n",
    "        inputs['ecutwfc'].value = ecutwfc\n",
    "        inputs['ecutrho'].value = 4*ecutwfc\n",
    "        inputs['kpoints'].value = kpoints\n",
    "        print(\"running sim with \",ecutwfc,\" and \",kpoints)\n",
    "        r = Run(simToolLocation,inputs)\n",
    "        results_list.append(r.getResultSummary())"
   ]
  },
  {
   "cell_type": "markdown",
   "metadata": {},
   "source": [
    "### Show User Predetermined Outputs and their Explainations"
   ]
  },
  {
   "cell_type": "code",
   "execution_count": null,
   "metadata": {
    "scrolled": true
   },
   "outputs": [],
   "source": [
    "outputs = getSimToolOutputs(simToolLocation)"
   ]
  },
  {
   "cell_type": "code",
   "execution_count": null,
   "metadata": {},
   "outputs": [],
   "source": [
    "outputs"
   ]
  },
  {
   "cell_type": "markdown",
   "metadata": {},
   "source": [
    "### Run simtool to obtain Predicted Raman Tensor and Spectrum Graph"
   ]
  },
  {
   "cell_type": "code",
   "execution_count": null,
   "metadata": {},
   "outputs": [],
   "source": [
    "r.getResultSummary()"
   ]
  },
  {
   "cell_type": "code",
   "execution_count": 25,
   "metadata": {},
   "outputs": [
    {
     "ename": "AttributeError",
     "evalue": "'NoneType' object has no attribute 'read'",
     "output_type": "error",
     "traceback": [
      "\u001b[0;31m---------------------------------------------------------------------------\u001b[0m",
      "\u001b[0;31mAttributeError\u001b[0m                            Traceback (most recent call last)",
      "\u001b[0;32m<ipython-input-25-53f5db2bbc39>\u001b[0m in \u001b[0;36m<module>\u001b[0;34m\u001b[0m\n\u001b[0;32m----> 1\u001b[0;31m \u001b[0mresults\u001b[0m\u001b[0;34m.\u001b[0m\u001b[0mread\u001b[0m\u001b[0;34m(\u001b[0m\u001b[0;34m'spectra'\u001b[0m\u001b[0;34m)\u001b[0m\u001b[0;34m\u001b[0m\u001b[0;34m\u001b[0m\u001b[0m\n\u001b[0m",
      "\u001b[0;31mAttributeError\u001b[0m: 'NoneType' object has no attribute 'read'"
     ]
    }
   ],
   "source": [
    "results.read('spectra')"
   ]
  },
  {
   "cell_type": "code",
   "execution_count": null,
   "metadata": {},
   "outputs": [],
   "source": [
    "print(r.read('logreport'))"
   ]
  },
  {
   "cell_type": "code",
   "execution_count": 24,
   "metadata": {
    "scrolled": true
   },
   "outputs": [
    {
     "ename": "NameError",
     "evalue": "name 'r' is not defined",
     "output_type": "error",
     "traceback": [
      "\u001b[0;31m---------------------------------------------------------------------------\u001b[0m",
      "\u001b[0;31mNameError\u001b[0m                                 Traceback (most recent call last)",
      "\u001b[0;32m<ipython-input-24-df7e55687ca2>\u001b[0m in \u001b[0;36m<module>\u001b[0;34m\u001b[0m\n\u001b[0;32m----> 1\u001b[0;31m \u001b[0mr\u001b[0m\u001b[0;34m.\u001b[0m\u001b[0mread\u001b[0m\u001b[0;34m(\u001b[0m\u001b[0;34m'spectra'\u001b[0m\u001b[0;34m)\u001b[0m\u001b[0;34m\u001b[0m\u001b[0;34m\u001b[0m\u001b[0m\n\u001b[0m",
      "\u001b[0;31mNameError\u001b[0m: name 'r' is not defined"
     ]
    }
   ],
   "source": [
    "r.read('spectra')"
   ]
  },
  {
   "cell_type": "code",
   "execution_count": 116,
   "metadata": {
    "scrolled": true
   },
   "outputs": [
    {
     "data": {
      "text/plain": [
       "{'loglevel': 'DEBUG',\n",
       " 'numnodes': 1,\n",
       " 'walltime': '01:00:00',\n",
       " 'pps': ['O.pbe.upf', 'Zn.pbe.upf'],\n",
       " 'smearing': 'fixed',\n",
       " 'ecutwfc': 50,\n",
       " 'ecutrho': 200,\n",
       " 'kpoints': 6,\n",
       " 'epsil': True,\n",
       " 'lraman': True,\n",
       " 'struct_dict': {'@module': 'pymatgen.core.structure',\n",
       "  '@class': 'Structure',\n",
       "  'charge': None,\n",
       "  'lattice': {'matrix': [[1.5920500003918698, -2.7575114888687695, 0.0],\n",
       "    [1.5920500003918698, 2.7575114888687695, 0.0],\n",
       "    [0.0, 0.0, 5.1551]],\n",
       "   'a': 3.1841000007837397,\n",
       "   'b': 3.1841000007837397,\n",
       "   'c': 5.1551,\n",
       "   'alpha': 90.0,\n",
       "   'beta': 90.0,\n",
       "   'gamma': 120.00000000000001,\n",
       "   'volume': 45.26276950032406},\n",
       "  'sites': [{'species': [{'element': 'Zn', 'occu': 1}],\n",
       "    'abc': [0.6666666666666666, 0.3333333333333333, 0.5],\n",
       "    'xyz': [1.5920500003918696, -0.9191704962895898, 2.57755],\n",
       "    'label': 'Zn',\n",
       "    'properties': {}},\n",
       "   {'species': [{'element': 'Zn', 'occu': 1}],\n",
       "    'abc': [0.3333333333333333, 0.6666666666666666, 0.0],\n",
       "    'xyz': [1.5920500003918696, 0.9191704962895898, 0.0],\n",
       "    'label': 'Zn',\n",
       "    'properties': {}},\n",
       "   {'species': [{'element': 'O', 'occu': 1}],\n",
       "    'abc': [0.6666666666666666, 0.3333333333333333, 0.8803099999999999],\n",
       "    'xyz': [1.5920500003918696, -0.9191704962895898, 4.538086080999999],\n",
       "    'label': 'O',\n",
       "    'properties': {}},\n",
       "   {'species': [{'element': 'O', 'occu': 1}],\n",
       "    'abc': [0.3333333333333333, 0.6666666666666666, 0.3803099999999999],\n",
       "    'xyz': [1.5920500003918696, 0.9191704962895898, 1.9605360809999997],\n",
       "    'label': 'O',\n",
       "    'properties': {}}]}}"
      ]
     },
     "execution_count": 116,
     "metadata": {},
     "output_type": "execute_result"
    }
   ],
   "source": [
    "#check inputs\n",
    "r.input_dict"
   ]
  },
  {
   "cell_type": "code",
   "execution_count": null,
   "metadata": {},
   "outputs": [],
   "source": [
    "#find output location\n",
    "print(r.outdir)"
   ]
  },
  {
   "cell_type": "code",
   "execution_count": null,
   "metadata": {},
   "outputs": [],
   "source": []
  }
 ],
 "metadata": {
  "kernelspec": {
   "display_name": "Python 3",
   "language": "python",
   "name": "python3"
  },
  "language_info": {
   "codemirror_mode": {
    "name": "ipython",
    "version": 3
   },
   "file_extension": ".py",
   "mimetype": "text/x-python",
   "name": "python",
   "nbconvert_exporter": "python",
   "pygments_lexer": "ipython3",
   "version": "3.7.7"
  }
 },
 "nbformat": 4,
 "nbformat_minor": 2
}
