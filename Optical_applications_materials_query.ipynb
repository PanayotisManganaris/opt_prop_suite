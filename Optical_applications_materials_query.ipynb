{
 "cells": [
  {
   "cell_type": "markdown",
   "metadata": {},
   "source": [
    "<p float=\"left\">\n",
    "  <img src=nanoHUB_logo_color.png width=\"500px\" height='200px' align=\"center\" /> \n",
    "</p>"
   ]
  },
  {
   "cell_type": "markdown",
   "metadata": {},
   "source": [
    "\n",
    "# Querying Materials for Optical Applications\n",
    "\n",
    "\n",
    "Shivam Tripathi, Saswat Mishra,  and Alejandro Strachan <br>\n",
    " \n",
    "School of Materials Engineering and Birck Nanotechnology Center, Purdue University, West Lafayette, Indiana 47907, USA <br>\n",
    "\n",
    "## Overview\n",
    "\n",
    "The objective of this tool is to find suitable materials for optical applications. We obtain data from [Materials Project](https://materialsproject.org/open) (MP), which uses electronic structure calculations to determine materials' properties. First, we query all the cubic materials in the MP database, then a set of mechanical and optical properties based filters are applied to downselect the materials appropriate for optical applications. We extend the work in Ref. [1] to all the cubic materials and an additional filter based on elastic isotropy is also applied. We predict infrared (IR) and ultraviolet (UV) wavelengths' cutoff from phonon density of states (ph-DOS) and bandgap, respectively.\n",
    "\n",
    "Notes: \n",
    "* This notebook uses tools from [Materials Project](https://materialsproject.org/open) and requires an account with an API key. The users can obtain their API key from https://materialsproject.org/open.\n",
    "* Run cells in sequential order. In many cases, we will drop columns or rows from pandas DataFrames, and re-running the cell will error out. To re-run notebook begin with cells below the initial query.\n",
    "\n",
    "## References\n",
    "\n",
    "1. Kim, Hyunjun, et al. \"IR transmission prediction, processing, and characterization of dense La2Ce2O7.\" Journal of the American Ceramic Society 104.11 (2021): 5659-5670.\n",
    "2. Batouche, M., et al. \"Structural, electronic, optical and elastic properties of XLa2S4 (X= Ba; Ca): Ab initio study.\" Physica B: Condensed Matter 558 (2019): 91-99.\n",
    "3. Morales-García, Ángel, Rosendo Valero, and Francesc Illas. \"An empirical, yet practical way to predict the band gap in solids by using density functional band structure calculations.\" The Journal of Physical Chemistry C 121.34 (2017): 18862-18866.\n"
   ]
  },
  {
   "cell_type": "markdown",
   "metadata": {},
   "source": [
    "# Loading your API Key\n",
    "To access data from MP database, users need to enter their own API key in a textbox after running the first cell. Remember to hit \"Enter\". "
   ]
  },
  {
   "cell_type": "markdown",
   "metadata": {},
   "source": [
    "### Load Materials Project API Key"
   ]
  },
  {
   "cell_type": "code",
   "execution_count": null,
   "metadata": {},
   "outputs": [],
   "source": [
    "import os, stat\n",
    "from IPython.display import clear_output\n",
    "\n",
    "try:\n",
    "    user = str(input())\n",
    "    clear_output()\n",
    "    if not user.isalnum():\n",
    "        raise TypeError('Wrong Key')\n",
    "    if user == None:\n",
    "        raise TypeError('Empty')\n",
    "    with open(os.path.expanduser('~/.mpkey.txt'), 'w') as keyfile:\n",
    "        keyfile.write(user)\n",
    "    os.chmod(os.path.expanduser('~/.mpkey.txt'), stat.S_IREAD | stat.S_IWRITE)\n",
    "    del user\n",
    "    print(\"Success\")\n",
    "except:\n",
    "    print(\"Something seems wrong with your key\")"
   ]
  },
  {
   "cell_type": "markdown",
   "metadata": {},
   "source": [
    "## Libraries\n",
    "\n",
    "This notebook requires several libraries to be imported. They are separated in blocks depending on their usage."
   ]
  },
  {
   "cell_type": "code",
   "execution_count": null,
   "metadata": {},
   "outputs": [],
   "source": [
    "# These lines import both libraries and then define an array with elements to be used below\n",
    "\n",
    "#Pymatgen and sub-libraries\n",
    "import pymatgen\n",
    "from pymatgen import MPRester\n",
    "from pymatgen.core import composition, Element, Structure\n",
    "from pymatgen.io.vasp import Vasprun\n",
    "from pymatgen.entries.computed_entries import ComputedEntry\n",
    "from pymatgen.entries.compatibility import MaterialsProjectCompatibility\n",
    "from pymatgen.util.plotting import *\n",
    "from pymatgen.analysis.phase_diagram import *\n",
    "from pymatgen.apps.borg.hive import VaspToComputedEntryDrone\n",
    "from pymatgen.entries.compatibility import MaterialsProjectCompatibility\n",
    "import json\n",
    "\n",
    "#Misc. Tools\n",
    "import matplotlib.pyplot as plt\n",
    "import random\n",
    "import os\n",
    "from itertools import combinations\n",
    "import pandas as pd\n",
    "\n",
    "#Import API Key\n",
    "file = open(os.path.expanduser('~/.mpkey.txt'),\"r+\")\n",
    "apikey = file.readline()\n",
    "file.close()\n",
    "rester = MPRester(apikey)"
   ]
  },
  {
   "cell_type": "markdown",
   "metadata": {},
   "source": [
    "# Query all cubic materials in MP database"
   ]
  },
  {
   "cell_type": "code",
   "execution_count": null,
   "metadata": {},
   "outputs": [],
   "source": [
    "#Query every cubic structure in the MP database. \n",
    "#Grab set of properties from database.\n",
    "data = rester.query({ \"crystal_system\": \"cubic\"},\n",
    "                    [\"task_id\",\"pretty_formula\",\"formula\",\"volume\",\n",
    "                     \"density\",\"elements\",\"e_above_hull\",\"elasticity\",\n",
    "                     \"spacegroup.number\",\"unit_cell_formula\",\"band_gap\",\"crystal_system\",\"diel\"])"
   ]
  },
  {
   "cell_type": "markdown",
   "metadata": {},
   "source": [
    "First let's check how large our queried database is. Print out the length of the entire database to find the total number of cubic structures that exist in MP database"
   ]
  },
  {
   "cell_type": "code",
   "execution_count": null,
   "metadata": {},
   "outputs": [],
   "source": [
    "print('Number of cubic structures available on the MP database: %s' % len(data))\n",
    "print('Example output: %s' % data[1])"
   ]
  },
  {
   "cell_type": "code",
   "execution_count": null,
   "metadata": {
    "scrolled": true
   },
   "outputs": [],
   "source": [
    "df_cubic = pd.DataFrame.from_dict(data) #converting dictionary to panda DataFrame\n",
    "display(df_cubic)"
   ]
  },
  {
   "cell_type": "code",
   "execution_count": null,
   "metadata": {},
   "outputs": [],
   "source": [
    "#ZnS is currently the most attractive material for IR applications. We are storing the properties of ZnS seperately for comparison.\n",
    "\n",
    "df_ZnS = df_cubic[df_cubic['pretty_formula'] == \"ZnS\"] \n",
    "df_ZnS = df_ZnS.reset_index(drop=True)\n",
    "display(df_ZnS)"
   ]
  },
  {
   "cell_type": "markdown",
   "metadata": {},
   "source": [
    "## Filtering Dataset\n",
    "### Step 1: Energy stability and bandgap\n",
    "First, we will remove materials that have energy above the convex hull greater than 50 meV. 0 meV indicates the most stable phase. We will also remove materials which have band gap lesser than 0.5 eV. These filters can be changed below.<br>"
   ]
  },
  {
   "cell_type": "code",
   "execution_count": null,
   "metadata": {},
   "outputs": [],
   "source": [
    "energy_cutoff_value = 50 #maximum allowed value of energy above convex hull [meV]\n",
    "band_gap_cutoff_value = 0.5 #minmum allowed value of bandgap [eV]\n",
    "df_cubic = df_cubic[df_cubic['e_above_hull'] <= (energy_cutoff_value/1000)]   \n",
    "df_cubic = df_cubic[df_cubic['band_gap'] >= (band_gap_cutoff_value)]\n",
    "df_cubic = df_cubic.reset_index(drop=True)"
   ]
  },
  {
   "cell_type": "code",
   "execution_count": null,
   "metadata": {},
   "outputs": [],
   "source": [
    "print(len(df_cubic)) #Materials with cubic structure, e_above_hull < 0.005 eV, and band_gap > 0.5 eV\n",
    "df_cubic.to_csv('Query-fs1.csv') #saving data in CSV (Query-filtered-step-1.csv)"
   ]
  },
  {
   "cell_type": "markdown",
   "metadata": {},
   "source": [
    "### Step 2:  Removing materials without elasticity information"
   ]
  },
  {
   "cell_type": "code",
   "execution_count": null,
   "metadata": {},
   "outputs": [],
   "source": [
    "df_cubic = df_cubic.dropna(subset=['elasticity'])\n",
    "df_cubic = df_cubic.reset_index(drop=True)"
   ]
  },
  {
   "cell_type": "code",
   "execution_count": null,
   "metadata": {},
   "outputs": [],
   "source": [
    "print(len(df_cubic)) #Materials with cubic structure, e_above_hull < 0.05, band_gap > 0.5 and elasticity information"
   ]
  },
  {
   "cell_type": "code",
   "execution_count": null,
   "metadata": {},
   "outputs": [],
   "source": [
    "#Renaming the properties to improve the readability\n",
    "\n",
    "df_cubic = df_cubic.rename(columns={\"density\": \"Density\", \"e_above_hull\": \"E_Above_Hull\",\n",
    "                   \"elasticity\": \"Elasticity\",\"elements\":\"Elements\",\n",
    "                   \"formula\":\"formula_dict\",\"pretty_formula\":\"Formula\",\n",
    "                   \"volume\":\"Volume\", \"unit_cell_formula\":\"Unit_Cell_Formula\", \"band_gap\":\"Bandgap\", \"crystal_system\":\"Structure\", \"diel\":\"Dielectric_Properties\"})\n",
    "\n",
    "df_ZnS = df_ZnS.rename(columns={\"density\": \"Density\", \"e_above_hull\": \"E_Above_Hull\",\n",
    "                   \"elasticity\": \"Elasticity\",\"elements\":\"Elements\",\n",
    "                   \"formula\":\"formula_dict\",\"pretty_formula\":\"Formula\",\n",
    "                   \"volume\":\"Volume\", \"unit_cell_formula\":\"Unit_Cell_Formula\", \"band_gap\":\"Bandgap\", \"crystal_system\":\"Structure\", \"diel\":\"Dielectric_Properties\"})\n",
    "\n",
    "display(df_cubic)"
   ]
  },
  {
   "cell_type": "code",
   "execution_count": null,
   "metadata": {},
   "outputs": [],
   "source": [
    "#Extracting the Shear Modulus, Bulk modulus, Elastic anisotropy and Poisson's ration from the Elasticity dictionary and putting in separate columns in panda DataFrame\n",
    "\n",
    "elastics = df_cubic.Elasticity\n",
    "G_VRH = []\n",
    "K_VRH = []\n",
    "Elastic_Anisotropy = []\n",
    "poisson_ratio = []\n",
    "\n",
    "for k in elastics.index: #len(df_cubic))\n",
    "    G_VRH.append(elastics[k].get('G_VRH')) #Shear Modulus\n",
    "    K_VRH.append(elastics[k].get('K_VRH')) #Bulk Modulus\n",
    "\n",
    "    Elastic_Anisotropy.append(elastics[k].get('elastic_anisotropy')) #Elastic Anisotropy\n",
    "    poisson_ratio.append(elastics[k].get('poisson_ratio'))           #Poisson Ratio\n",
    "    \n",
    "elasticity_data = np.column_stack((G_VRH, K_VRH, Elastic_Anisotropy, poisson_ratio))\n",
    "\n",
    "df_elasticity = pd.DataFrame(elasticity_data,columns=[\"G_VRH\", \"K_VRH\", \"Elastic_Anisotropy\", \"Poisson_Ratio\"])\n",
    "\n",
    "\n",
    "\n",
    "df_cubic = df_cubic.reset_index(drop=True)\n",
    "df_elasticity = df_elasticity.reset_index(drop=True)\n",
    "df_cubic = pd.concat([df_cubic,df_elasticity],axis=1)\n",
    "display(df_cubic)\n",
    "df_cubic.to_csv('Query-fs2.csv')"
   ]
  },
  {
   "cell_type": "code",
   "execution_count": null,
   "metadata": {},
   "outputs": [],
   "source": [
    "#Extracting same elastic properties for ZnS and putting in separate columns in panda DataFrame\n",
    "elastics = df_ZnS.Elasticity\n",
    "G_VRH = df_ZnS.Elasticity[0].get('G_VRH')\n",
    "K_VRH = df_ZnS.Elasticity[0].get('K_VRH')\n",
    "Elastic_Anisotropy = df_ZnS.Elasticity[0].get('elastic_anisotropy')\n",
    "poisson_ratio = df_ZnS.Elasticity[0].get('poisson_ratio')\n",
    "\n",
    "    \n",
    "elasticity_data = np.column_stack((G_VRH, K_VRH, Elastic_Anisotropy, poisson_ratio))\n",
    "\n",
    "df_elasticity = pd.DataFrame(elasticity_data,columns=[\"G_VRH\", \"K_VRH\", \"Elastic_Anisotropy\", \"Poisson_Ratio\"])\n",
    "\n",
    "\n",
    "df_ZnS = df_ZnS.reset_index(drop=True)\n",
    "df_elasticity = df_elasticity.reset_index(drop=True)\n",
    "df_ZnS = pd.concat([df_ZnS,df_elasticity],axis=1)\n",
    "display(df_ZnS)"
   ]
  },
  {
   "cell_type": "markdown",
   "metadata": {},
   "source": [
    "### Step 3:  Bulk modulus\n",
    "We will remove materials that have bulk modulus lesser than 50 GPa. This filter can be changed below.<br>"
   ]
  },
  {
   "cell_type": "code",
   "execution_count": null,
   "metadata": {},
   "outputs": [],
   "source": [
    "K_VRH_cutoff_value = 50\n",
    "df_cubic = df_cubic[df_cubic['K_VRH'] >= (K_VRH_cutoff_value)]  \n",
    "df_cubic = df_cubic.reset_index(drop=True)"
   ]
  },
  {
   "cell_type": "code",
   "execution_count": null,
   "metadata": {},
   "outputs": [],
   "source": [
    "print(len(df_cubic))\n",
    "df_cubic.to_csv('Query-fs3.csv') "
   ]
  },
  {
   "cell_type": "markdown",
   "metadata": {},
   "source": [
    "## Visualization of dataset"
   ]
  },
  {
   "cell_type": "code",
   "execution_count": null,
   "metadata": {},
   "outputs": [],
   "source": [
    "# Create dummy columns to help with plotting select colors\n",
    "\n",
    "color_new = ['black']*len(df_cubic)\n",
    "\n",
    "opacity_new = [1]*len(df_cubic)\n",
    "\n",
    "df_cubic['Color'] = color_new\n",
    "df_cubic['Opacity'] = opacity_new = [1]*len(df_cubic)\n",
    "\n",
    "df_ZnS['Color'] = ['black']*len(df_ZnS)\n",
    "df_ZnS['Opacity'] = [1]*len(df_ZnS)"
   ]
  },
  {
   "cell_type": "code",
   "execution_count": null,
   "metadata": {},
   "outputs": [],
   "source": [
    "import plotly\n",
    "import plotly.graph_objs as go\n",
    "from plotly.offline import iplot\n",
    "import plotly.express as px\n",
    "\n",
    "plotly.offline.init_notebook_mode(connected=True)\n",
    "\n",
    "#Layout design. Can change title, font, x/y-axis etc. \n",
    "#Image can be directly saved by hovering over image and clicking camera icon. \n",
    "layout_BM = go.Layout( hovermode= 'closest',\n",
    "                   font = dict(family='Times New Roman',size=35),\n",
    "                   xaxis= dict(title= \"Bandgap (eV)\",zeroline= False, gridwidth= 2,title_font=dict(family='Times New Roman',size=35)),\n",
    "                   yaxis= dict(title=  \"Bulk Modulus (GPa)\",zeroline= False, gridwidth= 2,title_font=dict(family='Times New Roman',size=35)),\n",
    "                   height = 600,\n",
    "                   width = 700,\n",
    "                   \n",
    "     showlegend= True, legend_font = dict(family='Times New Roman',size=20)                \n",
    ")\n",
    "\n",
    "#Scatter plot of collected data. \n",
    "trace_all = go.Scatter(x = df_cubic[df_cubic.Color == 'black']['Bandgap'], y = df_cubic[df_cubic.Color == 'black']['K_VRH'], mode = 'markers',\n",
    "                    marker=dict(size=22, color='black', opacity = 1), text = df_cubic[df_cubic.Color == 'black']['Formula'], name = 'All Queries')\n",
    "\n",
    "trace_ZnS = go.Scatter(x = df_ZnS[(df_ZnS.Formula == 'ZnS')].loc[:,'Bandgap'],\n",
    "                         y = df_ZnS[(df_ZnS.Formula == 'ZnS')].loc[:,'K_VRH'],\n",
    "                         mode = 'markers', marker=dict(size=22, color='red', symbol = 'circle-x', line=dict(width = 2, color = 'black')), text = 'ZnS', name = 'ZnS')\n",
    "\n",
    "trace_CaLa2S4 = go.Scatter(x = [2.8],\n",
    "                         y = [58.42],\n",
    "                         mode = 'markers', marker=dict(size=22, color='yellow', symbol = 'circle-x', line=dict(width = 2, color = 'black')), text = 'CaLa<sub>2</sub>S<sub>4</sub>', name = 'CaLa<sub>2</sub>S<sub>4</sub>')\n",
    "\n",
    "#CaLa2S4 properties are taken from Ref. [2]\n",
    "\n",
    "\n",
    "data_BM = [trace_all,trace_ZnS,trace_CaLa2S4]\n",
    "fig_BM = go.Figure(data_BM, layout=layout_BM)\n",
    "fig_BM.update_xaxes(automargin=True)\n",
    "\n",
    "\n",
    "iplot(fig_BM)\n"
   ]
  },
  {
   "cell_type": "markdown",
   "metadata": {},
   "source": [
    "### Step 4: Elastic anisotropy\n",
    "We will remove materials that have elastic anisotropy greater than 1. This filter can be changed below. <br>"
   ]
  },
  {
   "cell_type": "code",
   "execution_count": null,
   "metadata": {},
   "outputs": [],
   "source": [
    "#Elastic anisotropy coefficient represents anisotropy in the material and calculated by lower and upper bounds of shear and bulk modulus for polycrystalling material.\n",
    "# n = 5(G_max/G_min) + (K_max/kmin) - 6\n",
    "Elastic_anisotropy_cutoff_value = 1\n",
    "df_cubic = df_cubic[df_cubic['Elastic_Anisotropy'] <= (Elastic_anisotropy_cutoff_value)] \n",
    "df_cubic = df_cubic.reset_index(drop=True)"
   ]
  },
  {
   "cell_type": "code",
   "execution_count": null,
   "metadata": {},
   "outputs": [],
   "source": [
    "print(len(df_cubic))\n",
    "df_cubic.to_csv('Query-fs4.csv') "
   ]
  },
  {
   "cell_type": "markdown",
   "metadata": {},
   "source": [
    "## Visualization of remaining dataset "
   ]
  },
  {
   "cell_type": "code",
   "execution_count": null,
   "metadata": {},
   "outputs": [],
   "source": [
    "import plotly\n",
    "import plotly.graph_objs as go\n",
    "from plotly.offline import iplot\n",
    "\n",
    "plotly.offline.init_notebook_mode(connected=True)\n",
    "\n",
    "#Layout design. Can change title, font, x/y-axis etc. \n",
    "#Image can be directly saved by hovering over image and clicking camera icon. \n",
    "layout_BM_EA = go.Layout( hovermode= 'closest',\n",
    "                   font = dict(family='Times New Roman',size=35),\n",
    "                   xaxis= dict(title= \"Bandgap (eV)\",zeroline= False, gridwidth= 2,title_font=dict(family='Times New Roman',size=35)),\n",
    "                   yaxis= dict(title=  \"Bulk Modulus (GPa)\",zeroline= False, gridwidth= 2,title_font=dict(family='Times New Roman',size=35)),\n",
    "                   height = 600,\n",
    "                   width = 700,\n",
    "                   \n",
    "     showlegend= True, legend_font = dict(family='Times New Roman',size=20)                \n",
    ")\n",
    "\n",
    "#Scatter plot of collected data. \n",
    "trace_all = go.Scatter(x = df_cubic[df_cubic.Color == 'black']['Bandgap'], y = df_cubic[df_cubic.Color == 'black']['K_VRH'], mode = 'markers',\n",
    "                    marker=dict(size=22, color='black', opacity = 1), text = df_cubic[df_cubic.Color == 'black']['Formula'], name = 'All Queries')\n",
    "\n",
    "\n",
    "\n",
    "data_BM_EA = [trace_all,trace_ZnS,trace_CaLa2S4]\n",
    "fig_BM_EA = go.Figure(data_BM_EA, layout=layout_BM_EA)\n",
    "fig_BM_EA.update_xaxes(automargin=True)\n",
    "\n",
    "iplot(fig_BM_EA)"
   ]
  },
  {
   "cell_type": "markdown",
   "metadata": {},
   "source": [
    "## Query for phonon density of states for IR cutoff calculation"
   ]
  },
  {
   "cell_type": "code",
   "execution_count": null,
   "metadata": {},
   "outputs": [],
   "source": [
    "#IR cutoff calculation based on maximum frequency with ph-DOS between 0 and 0.1\n",
    "from pymatgen.phonon.dos import PhononDos\n",
    "df_cubic[\"IR_cutoff\"] = np.nan\n",
    "for index, row in df_cubic.iterrows():\n",
    "    m_id = row['task_id']\n",
    "    try:\n",
    "        data_DOS = rester.get_phonon_dos_by_material_id(m_id).as_dict()\n",
    "    except:\n",
    "        data_DOS = {}\n",
    "    if data_DOS:\n",
    "        for i in range(len(data_DOS['frequencies'])-1,0,-1): \n",
    "\n",
    "            if(data_DOS['densities'][i]>0.1): \n",
    "                max_freq = data_DOS['frequencies'][i+1] #In THz units\n",
    "                IR_cutoff = (2.998*(10**(14)))/(2.5*max_freq*(10**(12)))  # IR_cutoff (micron) = c(micron/s)/(2.5*max_freq (/s))\n",
    "                df_cubic.at[index,\"IR_cutoff\"] = IR_cutoff\n",
    "                break  \n",
    "display(df_cubic)"
   ]
  },
  {
   "cell_type": "code",
   "execution_count": null,
   "metadata": {},
   "outputs": [],
   "source": [
    "#IR cutoff calculation for ZnS\n",
    "df_ZnS[\"IR_cutoff\"] = np.nan\n",
    "m_id = df_ZnS.at[0,'task_id']\n",
    "data_DOS_ZnS = rester.get_phonon_dos_by_material_id(m_id).as_dict()\n",
    "for i in range(len(data_DOS_ZnS['frequencies'])-1,0,-1):    \n",
    "    if(data_DOS_ZnS['densities'][i]>0.1): \n",
    "        max_freq_ZnS = data_DOS_ZnS['frequencies'][i+1] #In THz units  \n",
    "        IR_cutoff = (2.998*(10**(14)))/(2.5*max_freq_ZnS*(10**(12)))  # IR_cutoff (micron) = c(micron/s)/(2.5*max_freq (/s))\n",
    "        df_ZnS.at[0,\"IR_cutoff\"] = IR_cutoff\n",
    "        break  \n",
    "display(df_ZnS)"
   ]
  },
  {
   "cell_type": "code",
   "execution_count": null,
   "metadata": {},
   "outputs": [],
   "source": [
    "# Sample ph-DOS plot for visualization of maximum frequency used for IR cutoff calculation\n",
    "\n",
    "import plotly\n",
    "import plotly.graph_objs as go\n",
    "from plotly.offline import iplot\n",
    "\n",
    "plotly.offline.init_notebook_mode(connected=True)\n",
    " \n",
    "#Image can be directly saved by hovering over image and clicking camera icon. \n",
    "layout_DOS_ZnS = go.Layout( hovermode= 'closest',\n",
    "                   font = dict(family='Times New Roman',size=35),\n",
    "                   xaxis= dict(title= \"Frequency (THz)\",zeroline= False, gridwidth= 2,title_font=dict(family='Times New Roman',size=35)),\n",
    "                   yaxis= dict(title=  \"Density of states\",zeroline= False, gridwidth= 2,title_font=dict(family='Times New Roman',size=35)),\n",
    "                   height = 600,\n",
    "                   width = 700,\n",
    "                   \n",
    "     showlegend= True, legend_font = dict(family='Times New Roman',size=20)                \n",
    ")\n",
    " \n",
    "DOS_ZnS = go.Scatter(x = data_DOS_ZnS['frequencies'],y = data_DOS_ZnS['densities'], mode = 'lines',text = 'ZnS', name = 'ZnS')\n",
    "DOS_max_frequency = go.Scatter(x = [max_freq_ZnS] ,y = [0.1], mode = 'markers',marker=dict(size=10, color='black', opacity = 1),text = '&#969;<sub>max</sub>', name = '&#969;<sub>max</sub>')\n",
    "                            \n",
    "\n",
    "\n",
    "plot_data_DOS_ZnS = [DOS_ZnS,DOS_max_frequency]\n",
    "\n",
    "fig_DOS_ZnS = go.Figure(plot_data_DOS_ZnS, layout=layout_DOS_ZnS)\n",
    "\n",
    "fig_DOS_ZnS = fig_DOS_ZnS.add_shape(type='line', x0=0, y0=0.1, x1=1,y1=0.1,line=dict(color='black',dash=\"dash\"),xref='paper',yref='y')\n",
    "\n",
    "\n",
    "fig_DOS_ZnS.update_xaxes(automargin=True)\n",
    "\n",
    "iplot(fig_DOS_ZnS)"
   ]
  },
  {
   "cell_type": "markdown",
   "metadata": {},
   "source": [
    "### Step 5: Removing materials without IR cutoff information"
   ]
  },
  {
   "cell_type": "code",
   "execution_count": null,
   "metadata": {},
   "outputs": [],
   "source": [
    "df_cubic = df_cubic.dropna(subset=['IR_cutoff'])\n",
    "df_cubic = df_cubic.reset_index(drop=True)\n",
    "print(len(df_cubic))"
   ]
  },
  {
   "cell_type": "markdown",
   "metadata": {},
   "source": [
    "## Visualization of remaining dataset"
   ]
  },
  {
   "cell_type": "code",
   "execution_count": null,
   "metadata": {},
   "outputs": [],
   "source": [
    "#IR cutoff vs bandgap plot\n",
    "\n",
    "import plotly\n",
    "import plotly.graph_objs as go\n",
    "from plotly.offline import iplot\n",
    "\n",
    "plotly.offline.init_notebook_mode(connected=True)\n",
    "\n",
    "#Layout design. Can change title, font, x/y-axis etc. \n",
    "#Image can be directly saved by hovering over image and clicking camera icon. \n",
    "layout_IR = go.Layout( hovermode= 'closest',\n",
    "                   font = dict(family='Times New Roman',size=40),\n",
    "                   xaxis= dict(title= \"Bandgap (eV)\",zeroline= False, gridwidth= 2,title_font=dict(family='Times New Roman',size=35)),\n",
    "                   yaxis= dict(title=  \"IR Cutoff (&#181;m)\",zeroline= False, gridwidth= 2,title_font=dict(family='Times New Roman',size=35)),\n",
    "                   height = 600,\n",
    "                   width = 700,\n",
    "                   \n",
    "     showlegend= False                \n",
    ")\n",
    "\n",
    "#Scatter plot of collected data. \n",
    "\n",
    "trace_all = go.Scatter(x = df_cubic[df_cubic.Color == 'black']['Bandgap'], y = df_cubic[df_cubic.Color == 'black']['IR_cutoff'], mode = 'markers',\n",
    "                    marker=dict(size=22, color=df_cubic['K_VRH'], opacity = 1,\n",
    "                                colorbar=dict(thickness=20),colorbar_title='Bulk Modulus',colorbar_titleside='right',colorbar_title_font = dict(family='Times New Roman',size=40)), text = df_cubic[df_cubic.Color == 'black']['Formula'], name = 'All Queries')\n",
    "\n",
    "trace_ZnS = go.Scatter(x = df_ZnS[(df_ZnS.Formula == 'ZnS')]['Bandgap'],\n",
    "                         y = df_ZnS[(df_ZnS.Formula == 'ZnS')]['IR_cutoff'],\n",
    "                         mode = 'markers', marker=dict(size=22, color='red', symbol = 'circle-x-open', line=dict(width = 3)), text = 'ZnS', name = 'ZnS')\n",
    "\n",
    "\n",
    "data_IR = [trace_all,trace_ZnS]\n",
    "fig_IR = go.Figure(data_IR, layout=layout_IR)\n",
    "fig_IR.update_xaxes(automargin=True)\n",
    "\n",
    "iplot(fig_IR)"
   ]
  },
  {
   "cell_type": "markdown",
   "metadata": {},
   "source": [
    "## UV cutoff from bandgap values"
   ]
  },
  {
   "cell_type": "code",
   "execution_count": null,
   "metadata": {},
   "outputs": [],
   "source": [
    "#PBE calculation in DFT underpredict the bandgap, we use correction proposed in Ref. [3] berfore calculating UV cutoff\n",
    "df_cubic[\"UV_cutoff\"] = np.nan\n",
    "for index, row in df_cubic.iterrows():\n",
    "    bandgap_after_correction = (0.998*((1.358*row['Bandgap'])+0.904))+0.014 \n",
    "    UV_cutoff = 1.2398/bandgap_after_correction    #eV to micron converson\n",
    "    df_cubic.at[index,\"UV_cutoff\"] = UV_cutoff\n",
    "display(df_cubic)\n",
    "df_cubic.to_csv('Query-fs5.csv') "
   ]
  },
  {
   "cell_type": "code",
   "execution_count": null,
   "metadata": {},
   "outputs": [],
   "source": [
    "#UV cutoff for ZnS\n",
    "df_ZnS[\"UV_cutoff\"] = np.nan\n",
    "bandgap_after_correction = (0.998*((1.358*df_ZnS.at[0,'Bandgap'])+0.904))+0.014\n",
    "UV_cutoff = 1.2398/bandgap_after_correction\n",
    "df_ZnS.at[0,\"UV_cutoff\"] = UV_cutoff\n",
    "display(df_ZnS)"
   ]
  },
  {
   "cell_type": "markdown",
   "metadata": {},
   "source": [
    "## Visualization of IR vs UV cutoff for remaining dataset"
   ]
  },
  {
   "cell_type": "code",
   "execution_count": null,
   "metadata": {},
   "outputs": [],
   "source": [
    "#IR cutoff vs UV cutoff plot\n",
    "\n",
    "import plotly\n",
    "import plotly.graph_objs as go\n",
    "from plotly.offline import iplot\n",
    "\n",
    "plotly.offline.init_notebook_mode(connected=True)\n",
    "\n",
    "#Layout design. Can change title, font, x/y-axis etc. \n",
    "#Image can be directly saved by hovering over image and clicking camera icon. \n",
    "layout_IR_UV = go.Layout( hovermode= 'closest',\n",
    "                   font = dict(family='Times New Roman',size=40),\n",
    "                   xaxis= dict(title= \"UV Cutoff (&#181;m)\",zeroline= False, gridwidth= 2,title_font=dict(family='Times New Roman',size=35)),\n",
    "                   yaxis= dict(title=  \"IR Cutoff (&#181;m)\",zeroline= False, gridwidth= 2,title_font=dict(family='Times New Roman',size=35)),\n",
    "                   height = 600,\n",
    "                   width = 700,\n",
    "                   \n",
    "     showlegend= False                \n",
    ")\n",
    "\n",
    "#Scatter plot of collected data. \n",
    "\n",
    "trace_all = go.Scatter(x = df_cubic[df_cubic.Color == 'black']['UV_cutoff'], y = df_cubic[df_cubic.Color == 'black']['IR_cutoff'], mode = 'markers',\n",
    "                    marker=dict(size=22, color=df_cubic['K_VRH'], opacity = 1,\n",
    "                                colorbar=dict(thickness=20),colorbar_title='Bulk Modulus',colorbar_titleside='right',colorbar_title_font = dict(family='Times New Roman',size=40)), text = df_cubic[df_cubic.Color == 'black']['Formula'], name = 'All Queries')\n",
    "\n",
    "trace_ZnS = go.Scatter(x = df_ZnS[(df_ZnS.Formula == 'ZnS')]['UV_cutoff'],\n",
    "                         y = df_ZnS[(df_ZnS.Formula == 'ZnS')]['IR_cutoff'],\n",
    "                         mode = 'markers', marker=dict(size=22, color='red', symbol = 'circle-x-open', line=dict(width = 3)), text = 'ZnS', name = 'ZnS')\n",
    "\n",
    "\n",
    "data_IR_UV = [trace_all,trace_ZnS]\n",
    "fig_IR_UV = go.Figure(data_IR_UV, layout=layout_IR_UV)\n",
    "fig_IR_UV.update_xaxes(automargin=True)\n",
    "\n",
    "iplot(fig_IR_UV)"
   ]
  },
  {
   "cell_type": "markdown",
   "metadata": {},
   "source": [
    "### Step 6: Removing materials without dielectric information"
   ]
  },
  {
   "cell_type": "code",
   "execution_count": null,
   "metadata": {},
   "outputs": [],
   "source": [
    "df_cubic = df_cubic.dropna(subset=['Dielectric_Properties'])\n",
    "df_cubic = df_cubic.reset_index(drop=True)\n",
    "print(len(df_cubic))"
   ]
  },
  {
   "cell_type": "code",
   "execution_count": null,
   "metadata": {},
   "outputs": [],
   "source": [
    "#Extracting the refractive index, electronic and total dielectric constants from the Dielectric properties dictionary and putting in separate columns in panda Dataframe\n",
    "dielectrics = df_cubic.Dielectric_Properties\n",
    "D_electronic = []\n",
    "D_total = []\n",
    "Refractive_Index = []\n",
    "\n",
    "\n",
    "for k in dielectrics.index: #len(df_cubic))\n",
    "    D_electronic.append(dielectrics[k].get('poly_electronic')) #Electronic \n",
    "    D_total.append(dielectrics[k].get('poly_total'))           #Electronic + Ionic\n",
    "    Refractive_Index.append(dielectrics[k].get('n'))           # Refractive Index \n",
    "\n",
    "\n",
    "    \n",
    "\n",
    "dielectrics_data = np.column_stack((D_electronic, D_total, Refractive_Index))\n",
    "\n",
    "df_dielectrics = pd.DataFrame(dielectrics_data,columns=[\"D_electronic\",\"D_total\", \"Refractive_Index\"])\n",
    "\n",
    "\n",
    "\n",
    "df_cubic = df_cubic.reset_index(drop=True)\n",
    "df_dielectrics = df_dielectrics.reset_index(drop=True)\n",
    "df_cubic = pd.concat([df_cubic,df_dielectrics],axis=1)\n",
    "display(df_cubic)\n",
    "df_cubic.to_csv('Query-fs6.csv') "
   ]
  },
  {
   "cell_type": "code",
   "execution_count": null,
   "metadata": {},
   "outputs": [],
   "source": [
    "#Extracting same dielectric properties for ZnS and putting in separate columns in panda DataFrame\n",
    "dielectrics = df_ZnS.Dielectric_Properties\n",
    "D_electronic = df_ZnS.Dielectric_Properties[0].get('poly_electronic')\n",
    "D_total = df_ZnS.Dielectric_Properties[0].get('poly_total')\n",
    "Refractive_Index = df_ZnS.Dielectric_Properties[0].get('n')\n",
    "\n",
    "dielectrics_data = np.column_stack((D_electronic, D_total, Refractive_Index))\n",
    "\n",
    "df_dielectrics = pd.DataFrame(dielectrics_data,columns=[\"D_electronic\",\"D_total\", \"Refractive_Index\"])\n",
    "\n",
    "\n",
    "\n",
    "df_ZnS = df_ZnS.reset_index(drop=True)\n",
    "df_dielectrics = df_dielectrics.reset_index(drop=True)\n",
    "df_ZnS = pd.concat([df_ZnS,df_dielectrics],axis=1)\n",
    "display(df_ZnS)\n"
   ]
  },
  {
   "cell_type": "markdown",
   "metadata": {},
   "source": [
    "## Visualization of remaining dataset"
   ]
  },
  {
   "cell_type": "code",
   "execution_count": null,
   "metadata": {},
   "outputs": [],
   "source": [
    "#Markers are color coded for refractive index\n",
    "\n",
    "import plotly\n",
    "import plotly.graph_objs as go\n",
    "from plotly.offline import iplot\n",
    "\n",
    "plotly.offline.init_notebook_mode(connected=True)\n",
    "\n",
    "#Layout design. Can change title, font, x/y-axis etc. \n",
    "#Image can be directly saved by hovering over image and clicking camera icon. \n",
    "layout_IR_UV_RI = go.Layout( hovermode= 'closest',\n",
    "                   font = dict(family='Times New Roman',size=35),\n",
    "                   xaxis= dict(title= \"UV Cutoff (&#181;m)\",zeroline= False, gridwidth= 2,title_font=dict(family='Times New Roman',size=35)),\n",
    "                   yaxis= dict(title=  \"IR Cutoff (&#181;m)\",zeroline= False, gridwidth= 2,title_font=dict(family='Times New Roman',size=35)),\n",
    "                   height = 600,\n",
    "                   width = 700,\n",
    "                   \n",
    "     showlegend= False                  \n",
    ")\n",
    "\n",
    "#Scatter plot of collected data. \n",
    "\n",
    "trace_all = go.Scatter(x = df_cubic[df_cubic.Color == 'black']['UV_cutoff'], y = df_cubic[df_cubic.Color == 'black']['IR_cutoff'], mode = 'markers',\n",
    "                         marker=dict(size=22, color=df_cubic['Refractive_Index'], opacity = 1,\n",
    "                                     colorbar=dict(thickness=20),colorbar_title='Refractive Index',colorbar_titleside='right',colorbar_title_font = dict(family='Times New Roman',size=40)), text = df_cubic[df_cubic.Color == 'black']['Formula'], name = 'All Queries')\n",
    "\n",
    "trace_ZnS = go.Scatter(x = df_ZnS[(df_ZnS.Formula == 'ZnS')].loc[:,'UV_cutoff'],\n",
    "                         y = df_ZnS[(df_ZnS.Formula == 'ZnS')].loc[:,'IR_cutoff'],\n",
    "                         mode = 'markers', marker=dict(size=22, color='red',  symbol = 'circle-x-open',line=dict(width = 3)), text = 'ZnS', name = 'ZnS')\n",
    "\n",
    "\n",
    "data_IR_UV_RI = [trace_all,trace_ZnS]\n",
    "fig_IR_UV_RI = go.Figure(data_IR_UV_RI, layout=layout_IR_UV_RI)\n",
    "fig_IR_UV_RI.update_xaxes(automargin=True)\n",
    "\n",
    "\n",
    "iplot(fig_IR_UV_RI)\n"
   ]
  },
  {
   "cell_type": "code",
   "execution_count": null,
   "metadata": {},
   "outputs": [],
   "source": [
    "#Markers are color coded for total dielectric constant\n",
    "\n",
    "import plotly\n",
    "import plotly.graph_objs as go\n",
    "from plotly.offline import iplot\n",
    "\n",
    "plotly.offline.init_notebook_mode(connected=True)\n",
    "\n",
    "#Layout design. Can change title, font, x/y-axis etc. \n",
    "#Image can be directly saved by hovering over image and clicking camera icon. \n",
    "layout_IR_UV_DC = go.Layout( hovermode= 'closest',\n",
    "                   font = dict(family='Times New Roman',size=35),\n",
    "                   xaxis= dict(title= \"UV Cutoff (&#181;m)\",zeroline= False, gridwidth= 2,title_font=dict(family='Times New Roman',size=35)),\n",
    "                   yaxis= dict(title=  \"IR Cutoff (&#181;m)\",zeroline= False, gridwidth= 2,title_font=dict(family='Times New Roman',size=35)),\n",
    "                   height = 600,\n",
    "                   width = 700,\n",
    "                   \n",
    "     showlegend= False                  \n",
    ")\n",
    "\n",
    "#Scatter plot of collected data. \n",
    "\n",
    "trace_all = go.Scatter(x = df_cubic[df_cubic.Color == 'black']['UV_cutoff'], y = df_cubic[df_cubic.Color == 'black']['IR_cutoff'], mode = 'markers',\n",
    "                         marker=dict(size=22, color=df_cubic['D_total'], opacity = 1,\n",
    "                                     colorbar=dict(thickness=20),colorbar_title='Dielectric Constant',colorbar_titleside='right',colorbar_title_font = dict(family='Times New Roman',size=40)), text = df_cubic[df_cubic.Color == 'black']['Formula'], name = 'All Queries')\n",
    "\n",
    "trace_ZnS = go.Scatter(x = df_ZnS[(df_ZnS.Formula == 'ZnS')].loc[:,'UV_cutoff'],\n",
    "                         y = df_ZnS[(df_ZnS.Formula == 'ZnS')].loc[:,'IR_cutoff'],\n",
    "                         mode = 'markers', marker=dict(size=22, color='red',  symbol = 'circle-x-open',line=dict(width = 3)), text = 'ZnS', name = 'ZnS')\n",
    "\n",
    "\n",
    "data_IR_UV_DC = [trace_all,trace_ZnS]\n",
    "fig_IR_UV_DC = go.Figure(data_IR_UV_DC, layout=layout_IR_UV_DC)\n",
    "fig_IR_UV_DC.update_xaxes(automargin=True)\n",
    "\n",
    "\n",
    "iplot(fig_IR_UV_DC)"
   ]
  },
  {
   "cell_type": "markdown",
   "metadata": {},
   "source": [
    "## Download the filetered dataset"
   ]
  },
  {
   "cell_type": "code",
   "execution_count": null,
   "metadata": {},
   "outputs": [],
   "source": [
    "#Download file by clicking on the name (Query-fsi.csv - Query-filtered-step-i.csv)\n",
    "from IPython.display import FileLink\n",
    "FileLink('Query-fs1.csv')"
   ]
  },
  {
   "cell_type": "code",
   "execution_count": null,
   "metadata": {},
   "outputs": [],
   "source": [
    "FileLink('Query-fs2.csv')"
   ]
  },
  {
   "cell_type": "code",
   "execution_count": null,
   "metadata": {},
   "outputs": [],
   "source": [
    "FileLink('Query-fs3.csv')"
   ]
  },
  {
   "cell_type": "code",
   "execution_count": null,
   "metadata": {},
   "outputs": [],
   "source": [
    "FileLink('Query-fs4.csv')"
   ]
  },
  {
   "cell_type": "code",
   "execution_count": null,
   "metadata": {},
   "outputs": [],
   "source": [
    "FileLink('Query-fs5.csv')"
   ]
  },
  {
   "cell_type": "code",
   "execution_count": null,
   "metadata": {},
   "outputs": [],
   "source": [
    "FileLink('Query-fs6.csv')"
   ]
  }
 ],
 "metadata": {
  "kernelspec": {
   "display_name": "Python 3",
   "language": "python",
   "name": "python3"
  },
  "language_info": {
   "codemirror_mode": {
    "name": "ipython",
    "version": 3
   },
   "file_extension": ".py",
   "mimetype": "text/x-python",
   "name": "python",
   "nbconvert_exporter": "python",
   "pygments_lexer": "ipython3",
   "version": "3.7.7"
  }
 },
 "nbformat": 4,
 "nbformat_minor": 2
}
