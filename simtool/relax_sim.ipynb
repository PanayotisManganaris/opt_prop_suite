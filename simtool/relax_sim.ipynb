{
 "cells": [
  {
   "cell_type": "markdown",
   "metadata": {},
   "source": [
    "# relax_sim"
   ]
  },
  {
   "cell_type": "code",
   "execution_count": null,
   "metadata": {
    "tags": [
     "DESCRIPTION"
    ]
   },
   "outputs": [],
   "source": [
    "DESCRIPTION = \"\"\"\n",
    "Panos Manganaris, Kat Nykiel\n",
    "Simtool for the automated generation of Raman and IR Spectra from QE vc-relax>scf>ph>dynmat pipeline\n",
    "\"\"\""
   ]
  },
  {
   "cell_type": "markdown",
   "metadata": {},
   "source": [
    "## Define Inputs and Outputs\n",
    "Define default values which can be overwritten at runtime -- input parameters should NOT be interdependent.\n",
    "\n",
    "loosely interdependent inputs can be provided using frontend widgets"
   ]
  },
  {
   "cell_type": "code",
   "execution_count": null,
   "metadata": {},
   "outputs": [],
   "source": [
    "%load_ext yamlmagic"
   ]
  },
  {
   "cell_type": "code",
   "execution_count": null,
   "metadata": {
    "tags": [
     "INPUTS"
    ]
   },
   "outputs": [],
   "source": [
    "%%yaml INPUTS\n",
    "\n",
    "# POSCAR string taken from frontend\n",
    "struct_dict:\n",
    "    type: Dict\n",
    "    description: User selected structure as dictionary\n",
    "\n",
    "# pp_class:\n",
    "#     type: Choice\n",
    "#     description: Class of selected pseudopotentials. SSSP - standard solid-state library optimized for precision and efficiency. ONCV - optimized norm-conserving vanderbilt. USPP - ultra-soft pseudopotentials. PAW - projector augmented wave.\n",
    "#     options: ['SSSP','ONCV','USPP','PAW']\n",
    "#     value: 'ONCV'\n",
    "        \n",
    "# xc_functional:\n",
    "#     type: Choice\n",
    "#     description: Exchange-correlation functional - eg PBE, BLYP etc. Most of the pseudopotentials provided recommend using PBE. See Modules/funct.f90 for detailed descriptions\n",
    "#     options: ['pz','pw91','blyp','pbe']\n",
    "#     value: 'pbe'\n",
    "        \n",
    "ecutwfc:\n",
    "    type: Number\n",
    "    description: Kinetic energy cutoff for wavefunctions\n",
    "    value: 80\n",
    "    min: 40\n",
    "    max: 200\n",
    "    units: Ry\n",
    "\n",
    "kpoints:\n",
    "    type: Number\n",
    "    description: Number of kpoints along each reciprocal lattice vector\n",
    "    value: 6\n",
    "    min: 1\n",
    "    max: 20\n",
    "\n",
    "# smearing:\n",
    "#     type: Choice\n",
    "#     description: Setting the extent to which there is metal-like sharing of electrons\n",
    "#     options: ['smearing', 'fixed']\n",
    "#     value: 'fixed'\n"
   ]
  },
  {
   "cell_type": "code",
   "execution_count": null,
   "metadata": {
    "tags": [
     "OUTPUTS"
    ]
   },
   "outputs": [],
   "source": [
    "%%yaml OUTPUTS\n",
    "\n",
    "spectra:\n",
    "    type: Dict\n",
    "    description: Dictionary of pandas Series of dynamat.x output containing mode numbers and frequencies of IR and Raman Spectra\n",
    "\n",
    "logreport:\n",
    "    type: Text\n",
    "    description: Contents of the run logfile populated according to loglevel\n",
    "        \n",
    "relaxed_struct:\n",
    "    type: Dict\n",
    "    description: Dictionary of pymatgen structure object, post-relaxation\n",
    "    \n",
    "total_energy:\n",
    "    type: Number\n",
    "    description: Total energy of the system, calculated in the SCF step\n",
    "        \n",
    "stress_tensor:\n",
    "    type: Array\n",
    "    description: Tensor of the stresses, calculated in the SCF step\n",
    "    units: kbar\n",
    "        \n",
    "atomic_forces: \n",
    "    type: Array\n",
    "    description: Forces acting on atoms (cartesian axes)\n",
    "    units: Ry/au\n",
    "        \n",
    "chemical_formula:\n",
    "    type: Text\n",
    "    description: Chemical formula of the pyamtgen structure object\n",
    "        \n",
    "# raman_cutoff:\n",
    "#     type: Number\n",
    "#     description: Highest frequency with a non-zero Raman coefficient\n",
    "\n",
    "# IR_cutoff:\n",
    "#     type: Number\n",
    "#     description: Highest frequency with a non-zero IR coefficient\n",
    "\n",
    "# dielectric constant:\n",
    "#     type: Number\n",
    "#     description: Dielectric constant, computed in the PHonon code of QE, in units of [[TODO]]\n",
    "\n",
    "## TODO: we want some other metric of convergence of the spectra (number of negative frequencies?)"
   ]
  },
  {
   "cell_type": "code",
   "execution_count": null,
   "metadata": {
    "tags": [
     "FILES"
    ]
   },
   "outputs": [],
   "source": [
    "EXTRA_FILES = [\"./pseudo\", \"./backend.py\"]"
   ]
  },
  {
   "cell_type": "markdown",
   "metadata": {},
   "source": [
    "## define simtool dependencies"
   ]
  },
  {
   "cell_type": "code",
   "execution_count": null,
   "metadata": {},
   "outputs": [],
   "source": [
    "import logging\n",
    "logfmt = '[%(levelname)s] %(asctime)s - %(message)s'\n",
    "logging.basicConfig(filename='run.log', level=logging.debug, datefmt=\"%Y-%m-%d %H:%M:%S\", format=logfmt)"
   ]
  },
  {
   "cell_type": "code",
   "execution_count": null,
   "metadata": {},
   "outputs": [],
   "source": [
    "#cli utilities\n",
    "import io\n",
    "import shutil\n",
    "import subprocess\n",
    "\n",
    "#nanohub utilities\n",
    "import hublib.use\n",
    "import fileinput\n",
    "from simtool import DB, parse\n",
    "\n",
    "#automate retreival of crystal structures and pseudopotentials from Materials Project\n",
    "from pymatgen.core import Structure, Lattice, Element, Composition\n",
    "import openbabel # automates translation of pymatgen structs to useful file formats\n",
    "#process and categorize crystal structures\n",
    "\n",
    "#misc tools\n",
    "import os\n",
    "import re\n",
    "import math\n",
    "import pandas as pd\n",
    "import numpy as np\n",
    "np.set_printoptions(formatter={'float': '{: 0.16f}'.format}, suppress=False)\n",
    "\n",
    "#%use espresso-6.2.1\n",
    "#Apparently not functioning? sufficient to declare espresso-6.8 in submit call\n",
    "from backend import *"
   ]
  },
  {
   "cell_type": "code",
   "execution_count": null,
   "metadata": {
    "tags": [
     "parameters"
    ]
   },
   "outputs": [],
   "source": [
    "from simtool import getValidatedInputs\n",
    "\n",
    "defaultInputs = getValidatedInputs(INPUTS)\n",
    "if defaultInputs:\n",
    "    globals().update(defaultInputs)\n",
    "#papermill adds injected parameters cell after this cell containing run settings\n",
    "#Don't intake passwords/keys/private info they cannot be deleted from RUNS"
   ]
  },
  {
   "cell_type": "markdown",
   "metadata": {},
   "source": [
    "## Create Global Database Sessions"
   ]
  },
  {
   "cell_type": "code",
   "execution_count": null,
   "metadata": {},
   "outputs": [],
   "source": [
    "db = DB(OUTPUTS)\n",
    "pp_file_names = os.listdir(f\"./pseudo/pseudo_{pp_class}/\")\n",
    "ppdb = {re.split('\\.|\\_',pp)[0]:pp for pp in pp_file_names}\n",
    "logging.info(f'used pseudo-potentials of type {pp_class} to construct ppdb')"
   ]
  },
  {
   "cell_type": "markdown",
   "metadata": {},
   "source": [
    "## Derive Control Parameters from Inputs\n"
   ]
  },
  {
   "cell_type": "code",
   "execution_count": null,
   "metadata": {},
   "outputs": [],
   "source": [
    "# Define simulation settings compatible with Raman calculation\n",
    "pp_class = 'ONCV'\n",
    "\n",
    "# Define logging and queue settings\n",
    "numCPUs = 1 # Number of processors for MPI execution\n",
    "walltime = \"01:00:00\" # Maximum time to wait for reduced job load on cluster in HH:MM:SS time format\n",
    "storage = 'none' # Set the ammount of disk activity. higher settings require more ram. Only change this if you need wavefunctions or the xml output from scf executions. the high setting is not provided. debug your wavefunctions elsewhere.\n",
    "\n",
    "# Define simulation settings\n",
    "epsil = True # Calculate dielectric constant for non-metal where q=0\n",
    "lraman = True # Calculate non-resonant Raman coefficients\n",
    "smearing = 'fixed' # Setting the extent to which there is metal-like sharing of electrons\n",
    "\n",
    "# Define ecutrho based on ecutwfc and the class of pseudopotential selected\n",
    "# ecutrho: kinetic energy cutoff for charge density and potential\n",
    "if pp_class == 'USPP':\n",
    "    ecutrho = 8*ecutwfc\n",
    "else:\n",
    "    ecutrho = 4*ecutwfc"
   ]
  },
  {
   "cell_type": "markdown",
   "metadata": {},
   "source": [
    "## Validating/Correcting User Defined Inputs"
   ]
  },
  {
   "cell_type": "code",
   "execution_count": null,
   "metadata": {},
   "outputs": [],
   "source": [
    "struct = Structure.from_dict(struct_dict)\n",
    "logging.debug(f\"the struct is made! {struct.sites}\")\n",
    "verify_site_fidelity(struct)"
   ]
  },
  {
   "cell_type": "markdown",
   "metadata": {},
   "source": [
    "## Prepare input files to simulation pipline in quantum espresso .in format\n",
    "\n",
    "#### insert validated inputs into the predetermined format strings:\n",
    "- TODO:  set nosym=True as a setting?"
   ]
  },
  {
   "cell_type": "code",
   "execution_count": null,
   "metadata": {},
   "outputs": [],
   "source": [
    "bp = BlockPrinter(struct, pp_class)"
   ]
  },
  {
   "cell_type": "code",
   "execution_count": null,
   "metadata": {},
   "outputs": [],
   "source": [
    "ph_input = f\"\"\"\n",
    "Normal modes for {vcomp.reduced_formula}\n",
    " &inputph\n",
    "  tr2_ph=1.0d-14,\n",
    "  prefix='{vcomp.reduced_formula}',\n",
    "  {amass_block}outdir='./'\n",
    "  epsil=.{epsil}.,\n",
    "  lraman=.{lraman}.,\n",
    "  trans=.true.,\n",
    "  asr=.true.,\n",
    "  fildyn='dmat.{vcomp.reduced_formula}'\n",
    "  ! ldisp=.true.\n",
    " /\n",
    " 0.0 0.0 0.0\n",
    "\"\"\"\n",
    "\n",
    "dm_input = f\"\"\"\n",
    "&input fildyn='dmat.{vcomp.reduced_formula}', asr='zero-dim' /\n",
    "\"\"\"\n",
    "logging.debug(f\"{ph_input}\")"
   ]
  },
  {
   "cell_type": "markdown",
   "metadata": {},
   "source": [
    "## Write Input Files. Name Output Files. Prepare to Assign Validated Outputs"
   ]
  },
  {
   "cell_type": "code",
   "execution_count": null,
   "metadata": {},
   "outputs": [],
   "source": [
    "# fixed starting point input file generation\n",
    "ph_input_file = open(f\"{vcomp.reduced_formula}.ph.in\", \"w\")\n",
    "dm_input_file = open(f\"{vcomp.reduced_formula}.dm.in\", \"w\")\n",
    "\n",
    "ph_input_file.write(ph_input)\n",
    "dm_input_file.write(dm_input)\n",
    "\n",
    "ph_input_file.close()\n",
    "dm_input_file.close()"
   ]
  },
  {
   "cell_type": "code",
   "execution_count": null,
   "metadata": {},
   "outputs": [],
   "source": [
    "# output file generation\n",
    "vcr_output_file = open(f\"{vcomp.reduced_formula}.vc-relax.out\", \"w\")\n",
    "scf_output_file = open(f\"{vcomp.reduced_formula}.scf.out\", \"w\")\n",
    "ph_output_file = open(f\"{vcomp.reduced_formula}.ph.out\", \"w\")\n",
    "#dmat_file = open(f\"dmat.{vcomp.reduced_formula}\", \"w\")\n",
    "dm_output_file = open(f\"{vcomp.reduced_formula}.dm.out\", \"w\")"
   ]
  },
  {
   "cell_type": "markdown",
   "metadata": {},
   "source": [
    "## Prepare Psudopotential args for Run"
   ]
  },
  {
   "cell_type": "code",
   "execution_count": null,
   "metadata": {},
   "outputs": [],
   "source": [
    "pp_args = \"\"\n",
    "for pp in pps:\n",
    "    pp_args += f\"-i pseudo/pseudo_{pp_class}/{pp} \""
   ]
  },
  {
   "cell_type": "markdown",
   "metadata": {},
   "source": [
    "## Assemble Job Commands and Sequentially Submit to Cluster\n",
    "#### First perform variable cell relaxation and receive optimized structure"
   ]
  },
  {
   "cell_type": "code",
   "execution_count": null,
   "metadata": {},
   "outputs": [],
   "source": [
    "COMMANDvcr = f\"espresso-6.8_pw > {vcr_output_file.name}\"\n",
    "SUBMITvcr = f\"submit -n {numCPUs} -w {walltime} -e QE_DISABLE_GGA_PBE=0 --runName {vcomp.reduced_formula}vcr {COMMANDvcr} {pp_args} -i {vcr_input_file.name} \"\n",
    "logging.info(\"reached cell relaxation...\")\n",
    "spvcr = subprocess.run(SUBMITvcr.split(), capture_output=True, text=True)\n",
    "spvcr_out = \"\"\"\"\"\".join(spvcr.stdout)\n",
    "spvcr_err = \"\"\"\"\"\".join(spvcr.stderr)\n",
    "logging.debug(\" \".join(spvcr.args))\n",
    "logging.info(f\"\"\"\\nprocess output:\\n{spvcr_out}\\n\"\"\")\n",
    "logging.debug(f\"\"\"\\nprocess err out:\\n{spvcr_err}\\n\"\"\")\n",
    "vcr_output_file.close()\n",
    "#db.save('vcrstdout', spvcr) #cannot save artbitrary objects as outputs."
   ]
  },
  {
   "cell_type": "code",
   "execution_count": null,
   "metadata": {},
   "outputs": [],
   "source": [
    "matrix = [[16.714103908  ,    -0.000106536      , 0.000000012 ],\n",
    "                [-0.000106465      ,16.713831819  ,     0.000000009 ],\n",
    "                [ 0.000000012    ,   0.000000009    ,  16.713839428 ]]\n",
    "np.linalg.eig(matrix)"
   ]
  },
  {
   "cell_type": "markdown",
   "metadata": {},
   "source": [
    "# Extract the new structure from the vc-relax calculation"
   ]
  },
  {
   "cell_type": "code",
   "execution_count": null,
   "metadata": {},
   "outputs": [],
   "source": [
    "# extract structure data from vc-relax.out and save to scf input\n",
    "matrix_start = \"CELL_PARAMETERS\"\n",
    "atpos_start = \"ATOMIC_POSITIONS\"\n",
    "atpos_end = \"End final coordinates\"\n",
    "matrix_inds = []\n",
    "atpos_inds = []\n",
    "with open(f\"{vcr_output_file.name}\", \"rt\") as vcrout:\n",
    "    vcr_lines = vcrout.readlines()\n",
    "    \n",
    "#raise exception for bad file\n",
    "if not vcr_lines:\n",
    "    raise IndexError(\"vcrelax calculation did not output anything to file. It probably failed to run\")\n",
    "else:\n",
    "    preamble = \"\".join(vcr_lines[14:40])\n",
    "    logging.debug(f\"\"\"The first meaningful lines of vc relaxation output are: {preamble}\\n\"\"\")\n",
    "\n",
    "try:\n",
    "    # Getting structure block line locations in the file\n",
    "    for ind, line in enumerate(vcr_lines):\n",
    "        if matrix_start in line:\n",
    "            logging.debug(f\"adding line {ind} to cell matrix reference locations\")\n",
    "            matrix_inds.append(ind)  \n",
    "        if atpos_start in line:\n",
    "            logging.debug(f\"adding line {ind} to site reference locations\")\n",
    "            atpos_inds.append(ind)\n",
    "        if atpos_end in line:\n",
    "            logging.debug(f\"line {ind} is the end of structure info\")\n",
    "            end = ind\n",
    "    \n",
    "    # get the new cell parameters\n",
    "    relaxed_cell_parameters_block = \"\"\"\"\"\"\n",
    "    for line in [lines for lines in vcr_lines[matrix_inds[-1]+1:atpos_inds[-1]-1]]:\n",
    "        logging.debug(\"looping though final cell matrix lines\")\n",
    "        relaxed_cell_parameters_block += line\n",
    "    \n",
    "    # get the new atomic positions\n",
    "    if end:\n",
    "        relaxed_atomic_positions_block = \"\"\"\"\"\"\n",
    "        for line in [lines for lines in vcr_lines[atpos_inds[-1]+1:end]]:\n",
    "            logging.debug(\"looping though final atomic sites lines\")\n",
    "            relaxed_atomic_positions_block += line\n",
    "    else:\n",
    "        logging.error(\"Variable Cell Relaxation Failed to Converge! Try increasing ecutwfc to at least 100. The calculation is proceeding with most relaxed structure found.\")\n",
    "        end_lines_list = [line for line in vcr_lines[atpos_inds[-1]+1:-1]]\n",
    "        relaxed_atomic_positions_block = \"\"\"\"\"\"\n",
    "        for line in end_lines_list:\n",
    "            if line != \"\\n\" :\n",
    "                logging.debug(\"looping though final atomic sites lines\")\n",
    "                relaxed_atomic_positions_block += line                 \n",
    "                 \n",
    "    logging.info(f\"\"\"The Lattice Parameters after relaxation are:\n",
    "    {relaxed_cell_parameters_block}\"\"\")\n",
    "    logging.info(f\"\"\"The atomic sites after relaxation are:\n",
    "    {relaxed_atomic_positions_block}\"\"\")\n",
    "except:\n",
    "    raise ValueError(f\"{vcr_output_file.name} contains lines, but no reference to a relaxed structure. pw.x failed for some reason\")\n",
    "\n",
    "scf_input = f\"\"\"\n",
    "&CONTROL\n",
    "  calculation  = \"scf\",\n",
    "  prefix       = \"{vcomp.reduced_formula}\",\n",
    "  pseudo_dir   = \"./\",\n",
    "  outdir       = \"./\",\n",
    "  tstress      = .TRUE.,\n",
    "  tprnfor      = .TRUE.,\n",
    "/\n",
    "&SYSTEM\n",
    "  ibrav=0, celldm(1) =1, nat = {nat_num}, ntyp= {ntyp_num},\n",
    "  occupations={smearing}, {\"smearing='marzari-vanderbilt', degauss=0.02,\" if smearing == 'smearing' else \"\"}\n",
    "  ecutwfc ={ecutwfc}, ecutrho = {ecutrho},\n",
    "  input_dft = {xc_functional},\n",
    "/\n",
    "&ELECTRONS\n",
    "  mixing_mode='plain'\n",
    "  mixing_beta = 0.5,\n",
    "  startingwfc='random',\n",
    "  conv_thr =  1.0d-8\n",
    "/\n",
    "CELL_PARAMETERS (alat= 1.00000000)\n",
    "{relaxed_cell_parameters_block}\n",
    "ATOMIC_SPECIES\n",
    "{atomic_species_block}\n",
    "ATOMIC_POSITIONS (crystal)\n",
    "{relaxed_atomic_positions_block}\n",
    "K_POINTS (automatic)\n",
    "{kpoints_block}\n",
    "\"\"\"\n",
    "\n",
    "# write to the file\n",
    "scf_input_file = open(f\"{vcomp.reduced_formula}.scf.in\", \"w\")\n",
    "scf_input_file.write(scf_input)\n",
    "scf_input_file.close()"
   ]
  },
  {
   "cell_type": "markdown",
   "metadata": {},
   "source": [
    "#### Next perform self consistent field calculation with new structure to optimize wavefunction"
   ]
  },
  {
   "cell_type": "code",
   "execution_count": null,
   "metadata": {},
   "outputs": [],
   "source": [
    "COMMANDscf = f\"espresso-6.8_pw > {scf_output_file.name}\"\n",
    "SUBMITscf = f\"submit -n {numCPUs} -w {walltime} -e QE_DISABLE_GGA_PBE=0 --runName {vcomp.reduced_formula}scf {COMMANDscf} {pp_args} -i {scf_input_file.name}\"\n",
    "logging.info(\"reached self consistent field calculation...\")\n",
    "spscf = subprocess.run(SUBMITscf.split(), capture_output=True, text=True)\n",
    "spscf_out = \"\"\"\"\"\".join(spscf.stdout)\n",
    "spscf_err = \"\"\"\"\"\".join(spscf.stderr)\n",
    "logging.debug(\" \".join(spscf.args))\n",
    "logging.info(f\"\"\"\\nprocess output:\\n{spscf_out}\\n\"\"\")\n",
    "logging.debug(f\"\"\"\\nprocess err out:\\n{spscf_err}\\n\"\"\")\n",
    "scf_output_file.close()\n",
    "#db.save('scfstdout', spscf)"
   ]
  },
  {
   "cell_type": "markdown",
   "metadata": {},
   "source": [
    "#### Next compute vibrational frequencies\n",
    "ph.x takes as inputs:\n",
    "1. compound.ph.in file\n",
    "2. compound.scf.out file\n",
    "\n",
    "produces outputs:\n",
    "1. compound.ph.out file\n",
    "2. dmat.compound file"
   ]
  },
  {
   "cell_type": "code",
   "execution_count": null,
   "metadata": {},
   "outputs": [],
   "source": [
    "COMMANDph = f\"espresso-6.8_ph > {ph_output_file.name}\"\n",
    "extra_inargs = f\"-i {vcomp.reduced_formula}.xml -i {vcomp.reduced_formula}.save\"\n",
    "SUBMITph = f\"submit -n {numCPUs} -w {walltime} -e QE_DISABLE_GGA_PBE=0 --runName {vcomp.reduced_formula}ph {extra_inargs} {COMMANDph} -in {ph_input_file.name} {pp_args}\"\n",
    "logging.info(\"reached phonon calculation...\")\n",
    "spph = subprocess.run(SUBMITph.split(), capture_output=True, text=True)\n",
    "spph_out = \"\"\"\"\"\".join(spph.stdout)\n",
    "spph_err = \"\"\"\"\"\".join(spph.stderr)\n",
    "logging.debug(\" \".join(spph.args))\n",
    "logging.info(f\"\"\"\\nprocess output:\\n{spph_out}\\n\"\"\")\n",
    "logging.debug(f\"\"\"\\nprocess err out:\\n{spph_err}\\n\"\"\")\n",
    "ph_output_file.close()\n",
    "#db.save('phstdout', spph)"
   ]
  },
  {
   "cell_type": "markdown",
   "metadata": {},
   "source": [
    "#### Next extract phonon spectra\n",
    "dynmat.x takes as inputs:\n",
    "1. compound.dm.in\n",
    "2. dmat.compound\n",
    "\n",
    "dmat.compound may be malformed... Why this happens, even amongst compositoins in the same spacegroup simply with variably defined unit cells is unknown to me.\n",
    "\n",
    "produces output:\n",
    "1. compound.dm.out\n",
    "\n",
    "This output contains the spectrum tensor and can be used to plot the spectrum"
   ]
  },
  {
   "cell_type": "code",
   "execution_count": null,
   "metadata": {},
   "outputs": [],
   "source": [
    "try:\n",
    "    with open(f\"dmat.{vcomp.reduced_formula}\", 'r') as dynmat:\n",
    "        dmtext = dynmat.read()\n",
    "    logging.info(dmtext)\n",
    "except:\n",
    "    logging.critical(f\"dmat.{vcomp.reduced_formula} is empty. ph.x likely crashed\")"
   ]
  },
  {
   "cell_type": "code",
   "execution_count": null,
   "metadata": {},
   "outputs": [],
   "source": [
    "COMMANDdm = f\"espresso-6.8_dynmat > {dm_output_file.name}\"\n",
    "extra_inargs = f\"-i dmat.{vcomp.reduced_formula}\"\n",
    "SUBMITdm = f\"submit -n {numCPUs} -w {walltime} -e QE_DISABLE_GGA_PBE=0 --runName {vcomp.reduced_formula}dm {extra_inargs} {COMMANDdm} -in {dm_input_file.name}\" \n",
    "logging.info(\"reached dynamical matrix calculation...\")\n",
    "spdm = subprocess.run(SUBMITdm.split(), capture_output=True, text=True)\n",
    "spdm_out = \"\"\"\"\"\".join(spdm.stdout)\n",
    "spdm_err = \"\"\"\"\"\".join(spdm.stderr)\n",
    "logging.debug(\" \".join(spdm.args))\n",
    "logging.info(f\"\"\"\\nprocess output:\\n{spdm_out}\\n\"\"\")\n",
    "logging.debug(f\"\"\"\\nprocess err out:\\n{spdm_err}\\n\"\"\")\n",
    "#dmat_file.close() #might be overwritting the qe's attempt to output this file automatically?\n",
    "dm_output_file.close()\n",
    "#db.save('dmstdout', spdm)"
   ]
  },
  {
   "cell_type": "markdown",
   "metadata": {},
   "source": [
    "## Parse Output Files for Declared Results"
   ]
  },
  {
   "cell_type": "code",
   "execution_count": null,
   "metadata": {},
   "outputs": [],
   "source": [
    "with open(f\"{dm_output_file.name}\", \"rt\") as resultfile:\n",
    "    results = resultfile.readlines()\n",
    "\n",
    "try:\n",
    "    results_start = \"mode\"\n",
    "    results_end = \"DYNMAT\"\n",
    "    for ind, line in enumerate(results):\n",
    "        if results_start in line:\n",
    "            start = ind\n",
    "        if results_end in line:\n",
    "            end = ind\n",
    "    \n",
    "    spectra_data = \"\".join(results[start:end]).replace(\"#\",\" \")\n",
    "\n",
    "    logging.info(f\"\"\"The Predicted Spectrographs for {sa.get_crystal_system()} {vcomp.reduced_formula} are: {spectra_data}\"\"\")\n",
    "except:\n",
    "    logging.error(f\"{dm_output_file.name} may not contain a modes and frequencies card. dynmat.x likely failed to produce it. dmat.{vcomp.reduced_formula} may be malformed\")\n",
    "    pass\n"
   ]
  },
  {
   "cell_type": "code",
   "execution_count": null,
   "metadata": {},
   "outputs": [],
   "source": [
    "with open(f\"ZnS-Copy1.dm.out\", \"rt\") as resultfile:\n",
    "    results = resultfile.readlines()\n",
    "\n",
    "try:\n",
    "    results_start = \"mode\"\n",
    "    results_end = \"DYNMAT\"\n",
    "    for ind, line in enumerate(results):\n",
    "        if results_start in line:\n",
    "            start = ind\n",
    "        if results_end in line:\n",
    "            end = ind\n",
    "    \n",
    "    spectra_data = \"\".join(results[start:end]).replace(\"#\",\" \")\n",
    "\n",
    "    logging.info(f\"\"\"The Predicted Spectrographs for {sa.get_crystal_system()} {vcomp.reduced_formula} are: {spectra_data}\"\"\")\n",
    "except:\n",
    "    logging.error(f\"{dm_output_file.name} may not contain a modes and frequencies card. dynmat.x likely failed to produce it. dmat.{vcomp.reduced_formula} may be malformed\")\n",
    "    pass\n"
   ]
  },
  {
   "cell_type": "code",
   "execution_count": null,
   "metadata": {},
   "outputs": [],
   "source": [
    "# Build pymatgen relaxed structure object\n",
    "lattice_matrix = [float(s)*0.52917612569 for s in relaxed_cell_parameters_block.split()]\n",
    "lattice = Lattice(matrix=lattice_matrix)\n",
    "atom_list = relaxed_atomic_positions_block.split()[::4]\n",
    "position_list = relaxed_atomic_positions_block.split()\n",
    "del position_list[0::4]\n",
    "site_list = [float(a) for a in position_list]\n",
    "site_matrix = [site_list[i:i + 3] for i in range(0, len(site_list), 3)]\n",
    "relaxed_struct_object = Structure(lattice, atom_list, site_matrix)\n",
    "\n",
    "# Extract sim2L outputs\n",
    "relaxed_struct = relaxed_struct_object.as_dict()\n",
    "formula = relaxed_struct_object.formula\n"
   ]
  },
  {
   "cell_type": "code",
   "execution_count": null,
   "metadata": {},
   "outputs": [],
   "source": [
    "# Extract SCF outputs\n",
    "scf_output_file = open(f\"{vcomp.reduced_formula}.scf.out\", \"r\")\n",
    "lines = scf_output_file.readlines()\n",
    "scf_output_file.close()\n",
    "for i, line in enumerate(lines):\n",
    "    if '!' in line:\n",
    "        total_energy = float(line.split()[4])\n",
    "    elif 'kbar' in line:\n",
    "        stress_tensor = np.array([lines[i+1].split()[3:6],lines[i+2].split()[3:6],lines[i+3].split()[3:6]]).astype(float)\n",
    "    elif 'Forces' in line:\n",
    "        force_matrix = []\n",
    "        for atom in range(nat_num):\n",
    "            force_matrix.append(lines[i+2+atom].split()[6:9])\n",
    "        atomic_forces = np.array(force_matrix).astype(float)"
   ]
  },
  {
   "cell_type": "code",
   "execution_count": null,
   "metadata": {},
   "outputs": [],
   "source": [
    "# Extract Raman and IR Cutoffs, and dielectric constant\n"
   ]
  },
  {
   "cell_type": "markdown",
   "metadata": {},
   "source": [
    "### Remove unwanted directories"
   ]
  },
  {
   "cell_type": "code",
   "execution_count": null,
   "metadata": {},
   "outputs": [],
   "source": [
    "# clear directories which take up a lot of storage\n",
    "# clear directories which take up a lot of storage\n",
    "# os.system('rm -r pseudo/') -- This doesn't work, kat. It just deletes the pseudo repository \n",
    "# os.system('rm -r *.save')"
   ]
  },
  {
   "cell_type": "markdown",
   "metadata": {},
   "source": [
    "### Assign results to output variables/hardcopy plot files"
   ]
  },
  {
   "cell_type": "code",
   "execution_count": null,
   "metadata": {},
   "outputs": [],
   "source": [
    "try:\n",
    "    result_stream = io.StringIO(spectra_data)\n",
    "    result_stream.seek(0)\n",
    "    spectradf = pd.read_csv(result_stream, error_bad_lines=False, sep=\"\\s+|\\t+|\\s+\\t+|\\t+\\s\")\n",
    "except:\n",
    "    pass"
   ]
  },
  {
   "cell_type": "code",
   "execution_count": null,
   "metadata": {},
   "outputs": [],
   "source": [
    "with open(\"run.log\", 'r') as logfile:\n",
    "    logtext = logfile.read()\n",
    "db.save('logreport', logtext)"
   ]
  },
  {
   "cell_type": "code",
   "execution_count": null,
   "metadata": {},
   "outputs": [],
   "source": [
    "try: \n",
    "    db.save('spectra', spectradf.to_dict())\n",
    "except:\n",
    "    raise ValueError(f\"No spectra dataframe was produced from processing {dm_output_file.name}\")"
   ]
  }
 ],
 "metadata": {
  "celltoolbar": "Tags",
  "kernelspec": {
   "display_name": "Python 3",
   "language": "python",
   "name": "python3"
  },
  "language_info": {
   "codemirror_mode": {
    "name": "ipython",
    "version": 3
   },
   "file_extension": ".py",
   "mimetype": "text/x-python",
   "name": "python",
   "nbconvert_exporter": "python",
   "pygments_lexer": "ipython3",
   "version": "3.8.10"
  }
 },
 "nbformat": 4,
 "nbformat_minor": 2
}
