{
 "cells": [
  {
   "cell_type": "code",
   "execution_count": 1,
   "metadata": {},
   "outputs": [],
   "source": [
    "DESCRIPTION = \"\"\"Computes IR spectrum using pseudopotentials from Quantum Espresso\"\"\"\n",
    "#Created by Tanmoy & Yuxuan"
   ]
  },
  {
   "cell_type": "code",
   "execution_count": 2,
   "metadata": {},
   "outputs": [],
   "source": [
    "%load_ext yamlmagic\n",
    "import numpy as np\n",
    "import sys\n",
    "from simtool import DB\n",
    "from scipy.optimize import curve_fit\n",
    "import subprocess"
   ]
  },
  {
   "cell_type": "code",
   "execution_count": 3,
   "metadata": {},
   "outputs": [
    {
     "name": "stdout",
     "output_type": "stream",
     "text": [
      "Success\n"
     ]
    }
   ],
   "source": [
    "import os, stat\n",
    "from IPython.display import clear_output\n",
    "\n",
    "try:\n",
    "    user = str(input())\n",
    "    clear_output()\n",
    "    if not user.isalnum():\n",
    "        raise TypeError('Wrong Key')\n",
    "    if user == None:\n",
    "        raise TypeError('Empty')\n",
    "    with open(os.path.expanduser('~/.mpkey.txt'), 'w') as keyfile:\n",
    "        keyfile.write(user)\n",
    "    os.chmod(os.path.expanduser('~/.mpkey.txt'), stat.S_IREAD | stat.S_IWRITE)\n",
    "    del user\n",
    "    print(\"Success\")\n",
    "except:\n",
    "    print(\"Something seems wrong with your key\")"
   ]
  },
  {
   "cell_type": "code",
   "execution_count": 4,
   "metadata": {},
   "outputs": [],
   "source": [
    "# These lines import both libraries and then define an array with elements to be used below\n",
    "\n",
    "#Pymatgen and sub-libraries\n",
    "import pymatgen\n",
    "from pymatgen import MPRester, Composition, Element, Structure\n",
    "\n",
    "\n",
    "#Misc. Tools\n",
    "import matplotlib.pyplot as plt\n",
    "import pandas as pd\n",
    "import numpy as np\n",
    "#Import API Key\n",
    "file = open(os.path.expanduser('~/.mpkey.txt'),\"r+\")\n",
    "apikey = file.readline()\n",
    "file.close()\n",
    "rester = MPRester(apikey)"
   ]
  },
  {
   "cell_type": "code",
   "execution_count": 3,
   "metadata": {},
   "outputs": [
    {
     "name": "stderr",
     "output_type": "stream",
     "text": [
      "UsageError: Cell magic `%%yaml` not found.\n"
     ]
    }
   ],
   "source": [
    "%%yaml INPUTS\n",
    "\n",
    "material:\n",
    "    type: Text\n",
    "    value: SnS\n",
    "    description: Semiconductor to be simulated\n",
    "        \n",
    "crystal_spacegroup:\n",
    "    type: Text\n",
    "    value: Pnma\n",
    "    description: Crystal spacegroup   \n",
    "\n",
    "Energy_cutoff:\n",
    "    type: Number\n",
    "    description: Cut off for energy in Ry\n",
    "    value: 60\n",
    "    min: 40\n",
    "    max: 120\n",
    "    units: rydberg\n",
    "        \n",
    "k_points:\n",
    "    type: Number\n",
    "    description: Number of k points along a\n",
    "    value: 2\n",
    "    min: 1\n",
    "    max: 10\n",
    "    \n",
    "q_points:\n",
    "    type: Number\n",
    "    description: Number of q points for DOS calculation\n",
    "    value: 2\n",
    "    min: 1\n",
    "    max: 10\n",
    "\n",
    "pseudopotential:\n",
    "    type: List\n",
    "    value: ['Sn.pbesol-dn-kjpaw_psl.1.0.0.UPF','S.pbesol-n-kjpaw_psl.1.0.0.UPF']\n",
    "    description: Name of the pseudopotentials"
   ]
  },
  {
   "cell_type": "code",
   "execution_count": 2,
   "metadata": {},
   "outputs": [
    {
     "name": "stderr",
     "output_type": "stream",
     "text": [
      "UsageError: Cell magic `%%yaml` not found.\n"
     ]
    }
   ],
   "source": [
    "%%yaml OUTPUTS\n",
    "IR_file:\n",
    "    type: Text\n",
    "    description: Name of the IR spectrum output file written by QE\n",
    "Eigenmodes_file:\n",
    "    type: Text\n",
    "    description: Name of the Eigen Modes output file written by QE\n",
    "Disp_file:\n",
    "    type: Text\n",
    "    description: Name of the Dispersion output file written by QE\n",
    "phDOS_file:\n",
    "    type: Text\n",
    "    description: Name of the phonon DOS output file written by QE\n",
    "IR_list:\n",
    "    type: Array\n",
    "    description: IR values with Frequency"
   ]
  },
  {
   "cell_type": "code",
   "execution_count": null,
   "metadata": {},
   "outputs": [],
   "source": [
    "EXTRA_FILES = [\"/home/nanohub/paul115/src/irspec/simtool/pseudo\"]"
   ]
  },
  {
   "cell_type": "code",
   "execution_count": null,
   "metadata": {
    "tags": [
     "parameters"
    ]
   },
   "outputs": [],
   "source": [
    "#parameters: define default values which can be overwritten at runtime\n",
    "#-- parameters should NOT be interdependent\n",
    "from simtool import getValidatedInputs\n",
    "\n",
    "defaultInputs = getValidatedInputs(INPUTS)\n",
    "if defaultInputs:\n",
    "     globals().update(defaultInputs)"
   ]
  },
  {
   "cell_type": "code",
   "execution_count": null,
   "metadata": {},
   "outputs": [],
   "source": [
    "from numpy import *\n",
    "data = rester.query({\"pretty_formula\": material,\"spacegroup.symbol\": crystal_spacegroup},\n",
    "                    [\"task_id\",\"pretty_formula\",\"nelements\",\"elements\",\"unit_cell_formula\",\"spacegroup.symbol\",\"structure\",\"e_above_hull\"])\n",
    "df= pd.DataFrame.from_dict(data)\n",
    "sort1 = df.sort_values([\"e_above_hull\"])\n",
    "Material_info = sort1.drop_duplicates([\"pretty_formula\", \"spacegroup.symbol\"])\n",
    "Material_info['elements'][0].sort()\n",
    "pseudopotential[0].sort()\n",
    "\n",
    "lat1 = data[0]['structure'].as_dict().get('lattice').get('matrix')[0]\n",
    "lat2 = data[0]['structure'].as_dict().get('lattice').get('matrix')[1]\n",
    "lat3 = data[0]['structure'].as_dict().get('lattice').get('matrix')[2]\n",
    "\n",
    "A = data[0]['structure'].as_dict().get('lattice').get('a')\n",
    "B = data[0]['structure'].as_dict().get('lattice').get('b')\n",
    "C = data[0]['structure'].as_dict().get('lattice').get('c')\n",
    "\n",
    "atomconfig_list = []\n",
    "for i in range(len(data[0]['structure'].as_dict().get('sites'))):\n",
    "    temp_list = []\n",
    "    temp_list.append(data[0]['structure'].as_dict().get('sites')[i].get('label'))\n",
    "    temp_list.extend(data[0]['structure'].as_dict().get('sites')[i].get('abc'))\n",
    "    atomconfig_list.append(temp_list)\n",
    "atomconfig = array(atomconfig_list)\n",
    "\n",
    "numatom=atomconfig.shape[0] #number of atoms in one unit cell\n",
    "natom=Material_info['nelements'] #Type of atoms\n",
    "amass=np.zeros(natom[0])\n",
    "for i in range(natom[0]):\n",
    "    amass[i]=Element(Material_info['elements'][0][i]).atomic_mass\n",
    "E_threshold=\"1.0d-8\""
   ]
  },
  {
   "cell_type": "code",
   "execution_count": null,
   "metadata": {},
   "outputs": [],
   "source": [
    "#Write input files for quantum espresso\n",
    "\n",
    "import hublib.use\n",
    "\n",
    "\n",
    "#These values have to be extracted from structure data of materials project\n",
    "\n",
    "\n",
    "#Write vcrelax input file for qe\n",
    "f = open(\"vcrelax.in\", \"w\")\n",
    "f.write('&CONTROL\\n')\n",
    "f.write('  calculation = \"vc-relax\"\\n')\n",
    "f.write('  prefix = \"{matname}\" \\n'.format(matname=material))\n",
    "f.write('  pseudo_dir = \"./\"\\n')\n",
    "f.write('  outdir = \"./\"\\n')\n",
    "f.write('  tstress = .true.\\n')\n",
    "f.write('  tprnfor = .true.\\n')\n",
    "f.write('  nstep = 200\\n')\n",
    "f.write('/\\n')\n",
    "f.write('&SYSTEM\\n')\n",
    "f.write('  ibrav = 0, nat = {atom_num}, ntyp = {atom_type}\\n'.format(atom_num=numatom,atom_type=natom[0]))\n",
    "f.write('  occupations = \"fixed\", \\n')\n",
    "f.write('  ecutwfc = {ecut}\\n'.format(ecut=Energy_cutoff))\n",
    "f.write('/\\n')\n",
    "f.write('&ELECTRONS\\n')\n",
    "f.write('  mixing_mode = \"plain\"\\n')\n",
    "f.write('  mixing_beta = 0.5\\n')\n",
    "f.write('  startingwfc = \"random\"\\n')\n",
    "f.write('  conv_thr = {thr}\\n'.format(thr=E_threshold))\n",
    "f.write('/\\n')\n",
    "f.write('&IONS\\n')\n",
    "f.write('/\\n')\n",
    "f.write('&CELL\\n')\n",
    "f.write('  cell_dofree = \"all\"\\n')\n",
    "f.write('/\\n')\n",
    "f.write('CELL_PARAMETERS angstrom\\n')\n",
    "f.write('  {a1} {a2} {a3}\\n'.format(a1=lat1[0],a2=lat1[1],a3=lat1[2]))\n",
    "f.write('  {b1} {b2} {b3}\\n'.format(b1=lat2[0],b2=lat2[1],b3=lat2[2]))\n",
    "f.write('  {c1} {c2} {c3}\\n'.format(c1=lat3[0],c2=lat3[1],c3=lat3[2]))\n",
    "f.write('ATOMIC_SPECIES\\n')\n",
    "for i in range(natom[0]):\n",
    "    f.write('  {el} {am} {pp}\\n'.format(el=Material_info['elements'][0][i],am=amass[i],pp=pseudopotential[0][i]))\n",
    "f.write('ATOMIC_POSITIONS (crystal)\\n')\n",
    "f.write('{atcon}\\n'.format(atcon=atomconfig))\n",
    "f.write('K_POINTS (automatic)\\n')\n",
    "f.write('  {kpx} {kpy} {kpz} 0 0 0\\n'.format(kpx=k_points,kpy=round(k_points*A/B),kpz=round(k_points*A/C)))\n",
    "f.close()\n",
    "\n",
    "#Write ph input file for qe\n",
    "f = open(\"phonon.in\", \"w\")\n",
    "f.write('!Normal modes \\n')\n",
    "f.write('&inputph\\n')\n",
    "f.write('   tr2_ph = 1.0d-14 \\n')\n",
    "f.write('   prefix = \"{matname}\" \\n'.format(matname=material))\n",
    "for i in range(natom[0]):\n",
    "    f.write('   amass({ind})='.format(ind=i+1))\n",
    "    f.write('   {val}\\n'.format(val=amass[i]))\n",
    "f.write('   outdir = \"./\"\\n')\n",
    "f.write('   epsil = .true.\\n')\n",
    "f.write('   trans = .true.\\n')\n",
    "f.write('   search_sym=.FALSE.\\n')\n",
    "f.write('   asr = .true.\\n')\n",
    "f.write('   fildyn = \"dmat.{matname}\" \\n'.format(matname=material))\n",
    "f.write('/\\n')\n",
    "f.write('0.0 0.0 0.0\\n')\n",
    "f.close()\n",
    "\n",
    "#Write dynmat input file for qe\n",
    "f = open(\"ircal.in\", \"w\")\n",
    "f.write('&input fildyn=\"dmat.{matname}\" \\n'.format(matname=material))\n",
    "f.write('  asr=\"simple\" \\n')\n",
    "f.write('/\\n')\n",
    "f.close()"
   ]
  },
  {
   "cell_type": "code",
   "execution_count": null,
   "metadata": {},
   "outputs": [],
   "source": [
    "#Remove unwanted characters from the input files\n",
    "import re\n",
    "with open('vcrelax.in', 'r') as f:\n",
    "    text = f.read()\n",
    "    pattern = re.sub(r\"[\\[''\\]]\", ' ', text)\n",
    "with open('vcrelax.in', 'w') as my_file:\n",
    "    my_file.write(pattern)\n",
    "    f.close()"
   ]
  },
  {
   "cell_type": "code",
   "execution_count": 1,
   "metadata": {},
   "outputs": [
    {
     "ename": "NameError",
     "evalue": "name 'material' is not defined",
     "output_type": "error",
     "traceback": [
      "\u001b[0;31m---------------------------------------------------------------------------\u001b[0m",
      "\u001b[0;31mNameError\u001b[0m                                 Traceback (most recent call last)",
      "\u001b[0;32m<ipython-input-1-822425ca941f>\u001b[0m in \u001b[0;36m<module>\u001b[0;34m\u001b[0m\n\u001b[1;32m      1\u001b[0m \u001b[0;31m#Run vcrelax, phonon and dynamt calculation in quantum espresso\u001b[0m\u001b[0;34m\u001b[0m\u001b[0;34m\u001b[0m\u001b[0;34m\u001b[0m\u001b[0m\n\u001b[0;32m----> 2\u001b[0;31m \u001b[0mdmatfile\u001b[0m\u001b[0;34m=\u001b[0m\u001b[0;34m'dmat.%s'\u001b[0m \u001b[0;34m%\u001b[0m\u001b[0mmaterial\u001b[0m\u001b[0;34m\u001b[0m\u001b[0;34m\u001b[0m\u001b[0m\n\u001b[0m\u001b[1;32m      3\u001b[0m \u001b[0mxmlfile\u001b[0m\u001b[0;34m=\u001b[0m\u001b[0;34m'%s.xml'\u001b[0m \u001b[0;34m%\u001b[0m\u001b[0mmaterial\u001b[0m\u001b[0;34m\u001b[0m\u001b[0;34m\u001b[0m\u001b[0m\n\u001b[1;32m      4\u001b[0m \u001b[0msavefile\u001b[0m\u001b[0;34m=\u001b[0m\u001b[0;34m'%s.save'\u001b[0m \u001b[0;34m%\u001b[0m\u001b[0mmaterial\u001b[0m\u001b[0;34m\u001b[0m\u001b[0;34m\u001b[0m\u001b[0m\n\u001b[1;32m      5\u001b[0m \u001b[0;34m\u001b[0m\u001b[0m\n",
      "\u001b[0;31mNameError\u001b[0m: name 'material' is not defined"
     ]
    }
   ],
   "source": [
    "#Run vcrelax, phonon and dynamt calculation in quantum espresso\n",
    "dmatfile='dmat.%s' %material\n",
    "xmlfile='%s.xml' %material\n",
    "savefile='%s.save' %material\n",
    "pseudo_list = \"\"\n",
    "for i in range(natom[0]):\n",
    "    pseudo_list += '-i /home/nanohub/paul115/src/irspec/simtool/pseudo/%s ' %pseudopotential[0][i]\n",
    "pseudo_listp = \"\"\n",
    "for i in range(natom[0]):\n",
    "    pseudo_listp += '/home/nanohub/paul115/src/irspec/simtool/pseudo/%s ' %pseudopotential[0][i]\n",
    "print(pseudo_list)\n",
    "\n",
    "import hublib.use\n",
    "%use espresso-6.2.1\n",
    "nodes = 4\n",
    "walltime = '70:00:00'\n",
    "!submit -n $nodes -w $walltime --runName vcrelax espresso-6.2.1_pw {pseudo_list} -in vcrelax.in"
   ]
  },
  {
   "cell_type": "code",
   "execution_count": null,
   "metadata": {},
   "outputs": [],
   "source": [
    "!submit -n $nodes -w $walltime --runName phonon -i {xmlfile} -i {savefile} espresso-6.2.1_ph -in phonon.in {pseudo_listp}"
   ]
  },
  {
   "cell_type": "code",
   "execution_count": null,
   "metadata": {},
   "outputs": [],
   "source": [
    "nodes = 1\n",
    "walltime = '01:00:00'\n",
    "!submit -n $nodes -w $walltime --runName ircal -i {dmatfile} espresso-6.2.1_dynmat -in ircal.in"
   ]
  },
  {
   "cell_type": "code",
   "execution_count": null,
   "metadata": {},
   "outputs": [],
   "source": [
    "def search_string_in_file(file_name, string_to_search):\n",
    "    \"\"\"Search for the given string in file and return lines containing that string,\n",
    "    along with line numbers\"\"\"\n",
    "    line_number = 0\n",
    "    list_of_results = []\n",
    "    # Open the file in read only mode\n",
    "    with open(file_name, 'r') as read_obj:\n",
    "        # Read all lines in the file one by one\n",
    "        for line in read_obj:\n",
    "            # For each line, check if line contains the string\n",
    "            line_number += 1\n",
    "            if string_to_search in line:\n",
    "                # If yes, then add the line number & line as a tuple in the list\n",
    "                list_of_results.append((line_number, line.rstrip()))\n",
    "    # Return list of tuples containing line numbers and lines where string is found\n",
    "    return list_of_results\n",
    "\n",
    "#Delete .xml and .save file from vcrelax\n",
    "import shutil\n",
    "os.remove(xmlfile)\n",
    "shutil.rmtree(savefile)"
   ]
  },
  {
   "cell_type": "code",
   "execution_count": null,
   "metadata": {},
   "outputs": [],
   "source": [
    "#Write scf input file for qe\n",
    "f = open(\"scf.in\", \"w\")\n",
    "f.write('&CONTROL\\n')\n",
    "f.write('  calculation = \"scf\"\\n')\n",
    "f.write('  prefix = \"{matname}\" \\n'.format(matname=material))\n",
    "f.write('  pseudo_dir = \"./\"\\n')\n",
    "f.write('  outdir = \"./\"\\n')\n",
    "f.write('  tstress = .true.\\n')\n",
    "f.write('  tprnfor = .true.\\n')\n",
    "f.write('/\\n')\n",
    "f.write('&SYSTEM\\n')\n",
    "f.write('  ibrav = 0, nat = {atom_num}, ntyp = {atom_type}\\n'.format(atom_num=numatom,atom_type=natom[0]))\n",
    "#f.write('  ibrav = 0, celldm(1) = {lat_par}, nat = {atom_num}, ntyp = {atom_type}\\n'.format(lat_par=lat1[0]*1.88973,atom_num=numatom,atom_type=natom[0]))\n",
    "f.write('  occupations = \"fixed\", \\n')\n",
    "f.write('  ecutwfc = {ecut}\\n'.format(ecut=Energy_cutoff))\n",
    "f.write('/\\n')\n",
    "f.write('&ELECTRONS\\n')\n",
    "f.write('  mixing_mode = \"plain\"\\n')\n",
    "f.write('  mixing_beta = 0.5\\n')\n",
    "f.write('  startingwfc = \"random\"\\n')\n",
    "f.write('  conv_thr = {thr}\\n'.format(thr=E_threshold))\n",
    "f.write('/\\n')\n",
    "a=search_string_in_file(\"vcrelax.stdout\",\"Begin final coordinates\")\n",
    "frel = open(\"vcrelax.stdout\", \"r\")\n",
    "listItems = frel.read().splitlines()\n",
    "f.write('CELL_PARAMETERS angstrom\\n')\n",
    "for i in range(3):\n",
    "    f.write(listItems[i+a[0][0]+4])\n",
    "    f.write('\\n')\n",
    "f.write('ATOMIC_SPECIES\\n')\n",
    "for i in range(natom[0]):\n",
    "    f.write('  {el} {am} {pp}\\n'.format(el=Material_info['elements'][0][i],am=amass[i],pp=pseudopotential[0][i]))\n",
    "f.write('ATOMIC_POSITIONS (crystal)\\n')\n",
    "for i in range(numatom):\n",
    "    f.write(listItems[i+a[0][0]+9])\n",
    "    f.write('\\n')\n",
    "f.write('K_POINTS (automatic)\\n')\n",
    "f.write('  {kpx} {kpy} {kpz} 0 0 0\\n'.format(kpx=k_points,kpy=round(k_points*A/B),kpz=round(k_points*A/C)))\n",
    "f.close()\n",
    "\n",
    "#Write ph input file for DOS & dispersion\n",
    "f = open(\"phonon2.in\", \"w\")\n",
    "f.write('!Normal modes \\n')\n",
    "f.write('&inputph\\n')\n",
    "f.write('   tr2_ph = 1.0d-14 \\n')\n",
    "f.write('   prefix = \"{matname}\" \\n'.format(matname=material))\n",
    "for i in range(natom[0]):\n",
    "    f.write('   amass({ind})='.format(ind=i+1))\n",
    "    f.write('   {val}\\n'.format(val=amass[i]))\n",
    "f.write('   outdir = \"./\"\\n')\n",
    "f.write('   ldisp = .true.\\n')\n",
    "f.write('   search_sym=.FALSE.\\n')\n",
    "f.write('   nq1 = {qp}, nq2 = {qp}, nq3= {qp}\\n'.format(qp=q_points))\n",
    "f.write('   fildyn = \"{matname}.dyn\" \\n'.format(matname=material))\n",
    "f.write('/\\n')\n",
    "f.close()\n",
    "\n",
    "#Write q2r input file for dos and dispersion\n",
    "f = open(\"q2r.in\", \"w\")\n",
    "f.write('&input fildyn=\"{matname}.dyn\", zasr=\"simple\", flfrc=\"{matname}.fc\" \\n'.format(matname=material))\n",
    "f.write('/\\n')\n",
    "f.close()\n",
    "\n",
    "#Write matdyn input file for dispersion calculation\n",
    "f = open(\"matdyn.in\", \"w\")\n",
    "f.write('&input \\n')\n",
    "f.write(' asr = \"simple\",  \\n')\n",
    "for i in range(natom[0]):\n",
    "    f.write(' amass({ind})='.format(ind=i+1))\n",
    "    f.write(' {val}\\n'.format(val=amass[i]))\n",
    "f.write(' flfrc=\"{matname}.fc\", flfrq=\"{matname}.freq\", q_in_band_form=.true. \\n'.format(matname=material))\n",
    "f.write(' q_in_cryst_coord = .true.  \\n')\n",
    "f.write('/\\n')\n",
    "f.write('5 \\n')\n",
    "f.write(' 0.0000 0.0000 0.0000 30 !Gamma \\n')\n",
    "f.write(' -0.500 0.0000 -0.500 10 !X \\n')\n",
    "f.write(' 0.0000 0.3750 -0.375 20 \\n')\n",
    "f.write(' 0.0000 0.0000 0.0000 30 \\n')\n",
    "f.write(' 0.0000 0.5000 0.0000 1 \\n')\n",
    "f.write('/\\n')\n",
    "f.close()\n",
    "\n",
    "#Write matdyn input file for phdos calculation \n",
    "f = open(\"phdos.in\", \"w\")\n",
    "f.write('&input \\n')\n",
    "f.write(' asr = \"simple\", dos=.true. \\n')\n",
    "for i in range(natom[0]):\n",
    "    f.write(' amass({ind})='.format(ind=i+1))\n",
    "    f.write(' {val}\\n'.format(val=amass[i]))\n",
    "f.write(' flfrc=\"{matname}.fc\", fldos=\"{matname}.phdos\", nk1=40,nk2=40,nk3=40 \\n'.format(matname=material))\n",
    "f.write('/\\n')\n",
    "f.close()\n",
    "\n",
    "#remove unwanted character from scf file\n",
    "import re\n",
    "with open('scf.in', 'r') as f:\n",
    "    text = f.read()\n",
    "    pattern = re.sub(r\"[\\[''\\]]\", ' ', text)\n",
    "with open('scf.in', 'w') as my_file:\n",
    "    my_file.write(pattern)\n",
    "    f.close()"
   ]
  },
  {
   "cell_type": "code",
   "execution_count": null,
   "metadata": {},
   "outputs": [],
   "source": [
    "import hublib.use\n",
    "%use espresso-6.2.1\n",
    "nodes = 4\n",
    "walltime = '70:00:00'\n",
    "!submit -n $nodes -w $walltime --runName scf espresso-6.2.1_pw {pseudo_list} -in scf.in"
   ]
  },
  {
   "cell_type": "code",
   "execution_count": null,
   "metadata": {},
   "outputs": [],
   "source": [
    "!submit -n $nodes -w $walltime --runName phonon2 -i {xmlfile} -i {savefile} espresso-6.2.1_ph -in phonon2.in {pseudo_listp}"
   ]
  },
  {
   "cell_type": "code",
   "execution_count": null,
   "metadata": {},
   "outputs": [],
   "source": [
    "a=search_string_in_file(\"phonon2.stdout\",\"Calculation of q\")\n",
    "qsize=array(a).shape[0]\n",
    "dyn_list = \"\"\n",
    "for i in range(qsize+1):\n",
    "    dyn_list += '-i %s.dyn' %material\n",
    "    dyn_list += '%s ' %i\n",
    "\n",
    "walltime = '06:00:00'\n",
    "nodes = 1\n",
    "!submit -n $nodes -w $walltime --runName  q2r {dyn_list} espresso-6.2.1_q2r -in q2r.in"
   ]
  },
  {
   "cell_type": "code",
   "execution_count": null,
   "metadata": {},
   "outputs": [],
   "source": [
    "fc_file='%s.fc'%material\n",
    "!submit -n $nodes -w $walltime --runName  matdyn -i {fc_file} espresso-6.2.1_matdyn -in matdyn.in"
   ]
  },
  {
   "cell_type": "code",
   "execution_count": null,
   "metadata": {},
   "outputs": [],
   "source": [
    "!submit -n $nodes -w $walltime --runName  phdos -i {fc_file} espresso-6.2.1_matdyn -in phdos.in"
   ]
  },
  {
   "cell_type": "code",
   "execution_count": null,
   "metadata": {},
   "outputs": [],
   "source": [
    "line=search_string_in_file(\"ircal.stdout\",\"# mode\")\n",
    "f = open(\"ircal.stdout\", \"r\")\n",
    "listItems = f.read().splitlines()\n",
    "IRlist=np.zeros([3*numatom, 4])\n",
    "for i in range(3*numatom):\n",
    "   IRlist[i]=listItems[i+line[0][0]].split()\n",
    "f.close()"
   ]
  },
  {
   "cell_type": "code",
   "execution_count": null,
   "metadata": {},
   "outputs": [],
   "source": [
    "db = DB(OUTPUTS)\n",
    "with open(\"ircal.stdout\") as fp:\n",
    "    db.save('IR_file', fp.read())\n",
    "with open(\"dynmat.axsf\") as fp:\n",
    "    db.save('Eigenmodes_file', fp.read())\n",
    "with open(\"%s.freq\" %material) as fp:\n",
    "    db.save('Disp_file', fp.read())\n",
    "with open(\"%s.phdos\" %material) as fp:\n",
    "    db.save('phDOS_file', fp.read())\n",
    "    \n",
    "db.save('IR_list', IRlist)"
   ]
  },
  {
   "cell_type": "code",
   "execution_count": null,
   "metadata": {},
   "outputs": [],
   "source": []
  }
 ],
 "metadata": {
  "celltoolbar": "Tags",
  "kernelspec": {
   "display_name": "Python 3",
   "language": "python",
   "name": "python3"
  },
  "language_info": {
   "codemirror_mode": {
    "name": "ipython",
    "version": 3
   },
   "file_extension": ".py",
   "mimetype": "text/x-python",
   "name": "python",
   "nbconvert_exporter": "python",
   "pygments_lexer": "ipython3",
   "version": "3.7.7"
  }
 },
 "nbformat": 4,
 "nbformat_minor": 2
}
