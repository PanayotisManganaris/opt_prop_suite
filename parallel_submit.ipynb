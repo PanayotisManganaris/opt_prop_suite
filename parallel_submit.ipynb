{
 "cells": [
  {
   "cell_type": "code",
   "execution_count": 1,
   "metadata": {},
   "outputs": [],
   "source": [
    "import os\n",
    "import io\n",
    "import numpy as np\n",
    "import multiprocessing as mp\n",
    "import shutil\n",
    "import subprocess\n",
    "\n",
    "from pymatgen.ext.matproj import MPRester\n",
    "from pymatgen.core import Structure, Composition, Element"
   ]
  },
  {
   "cell_type": "code",
   "execution_count": 2,
   "metadata": {},
   "outputs": [],
   "source": [
    "with open(os.path.expanduser(\"~/.mpkey.txt\"), \"r+\") as file:\n",
    "    apikey = file.readline()\n",
    "rester = MPRester(apikey)\n",
    "struct1 = rester.get_structure_by_material_id(\"mp-2133\", final = False, conventional_unit_cell=True)\n",
    "struct2 = rester.get_structure_by_material_id(\"mp-1986\", final = False, conventional_unit_cell=True)"
   ]
  },
  {
   "cell_type": "code",
   "execution_count": 3,
   "metadata": {},
   "outputs": [],
   "source": [
    "vcomp1 = Composition(struct1.formula)\n",
    "vcomp2 = Composition(struct2.formula)\n",
    "\n",
    "pps = [\"Zn.pbe.upf\", \"O.pbe.upf\"]"
   ]
  },
  {
   "cell_type": "code",
   "execution_count": 4,
   "metadata": {},
   "outputs": [],
   "source": [
    "#cell_params\n",
    "#struct1\n",
    "bio = io.BytesIO()\n",
    "np.savetxt(bio, struct1.lattice.matrix, fmt=\"%0.8f\")# to much precision in the input files causes convergence issues. to little causes symmetry issues.\n",
    "cell_parameters_block1 = bio.getvalue().decode('latin1')\n",
    "#struct2\n",
    "np.savetxt(bio, struct2.lattice.matrix, fmt=\"%0.8f\")# to much precision in the input files causes convergence issues. to little causes symmetry issues.\n",
    "cell_parameters_block2 = bio.getvalue().decode('latin1')"
   ]
  },
  {
   "cell_type": "code",
   "execution_count": 5,
   "metadata": {},
   "outputs": [],
   "source": [
    "#prepare ordered species \n",
    "\n",
    "# extract element key from pps\n",
    "pppart_list = []\n",
    "for pp in pps:\n",
    "    ppparts = pp.split('.')\n",
    "    pppart_list.append(ppparts[0])\n",
    "    \n",
    "#sort formula elements and atomic mass by decending atomic mass\n",
    "amass_ar = np.array([Element(el).atomic_mass for el in vcomp1.to_reduced_dict.keys()])\n",
    "massive_first = np.argsort(amass_ar).tolist()[::-1]\n",
    "amass_falling = amass_ar[massive_first]\n",
    "el_falling = np.array([el for el in vcomp1.to_reduced_dict.keys()])[massive_first]\n",
    "\n",
    "#sort pps to match\n",
    "pps_amass_ar = np.array([Element(el).atomic_mass for el in pppart_list])\n",
    "pps_massive_first = np.argsort(pps_amass_ar).tolist()[::-1]\n",
    "pps_falling = np.array(pps)[pps_massive_first]\n"
   ]
  },
  {
   "cell_type": "code",
   "execution_count": 6,
   "metadata": {},
   "outputs": [],
   "source": [
    "#atomic species\n",
    "atomic_species_block1 = \"\"\"\"\"\"\n",
    "for pp, amass, species in zip(pps_falling, amass_falling, el_falling):\n",
    "    block_line = f\"{species} {amass} {pp}\\n\"\n",
    "    atomic_species_block1 += block_line\n",
    "    \n",
    "atomic_species_block2 = \"\"\"\"\"\"\n",
    "for pp, amass, species in zip(pps_falling, amass_falling, el_falling):\n",
    "    block_line = f\"{species} {amass} {pp}\\n\"\n",
    "    atomic_species_block2 += block_line"
   ]
  },
  {
   "cell_type": "code",
   "execution_count": 7,
   "metadata": {},
   "outputs": [],
   "source": [
    "#atomic positions\n",
    "def get_fractional_coords_as_qe_array(periodicsitesobj):\n",
    "    at_site = np.array([str(*periodicsitesobj.species.to_reduced_dict.keys()), periodicsitesobj.a, periodicsitesobj.b, periodicsitesobj.c])\n",
    "    # str might break if the species has whitespaces in it... I think. Or maybe that's just for unpacked lists\n",
    "    return at_site\n",
    "\n",
    "atomic_positions_block1 = np.array(list(map(lambda x: get_fractional_coords_as_qe_array(x), struct1.sites)))\n",
    "bio = io.BytesIO()\n",
    "np.savetxt(bio, atomic_positions_block1, fmt=\"%s\", encoding=\"latin1\")\n",
    "atomic_positions_block1 = bio.getvalue().decode('latin1')\n",
    "\n",
    "atomic_positions_block2 = np.array(list(map(lambda x: get_fractional_coords_as_qe_array(x), struct2.sites)))\n",
    "bio = io.BytesIO()\n",
    "np.savetxt(bio, atomic_positions_block2, fmt=\"%s\", encoding=\"latin1\")\n",
    "atomic_positions_block2 = bio.getvalue().decode('latin1')"
   ]
  },
  {
   "cell_type": "code",
   "execution_count": 8,
   "metadata": {},
   "outputs": [],
   "source": [
    "vcrelax_input1 = f\"\"\"\n",
    " &control\n",
    "    calculation='vc-relax',\n",
    "    restart_mode='from_scratch',\n",
    "    prefix='{vcomp1.reduced_formula}',\n",
    "    outdir='./',\n",
    "    pseudo_dir = './simtool/pseudo/',\n",
    "    etot_conv_thr=1.0d-6,\n",
    "    forc_conv_thr=1.0d-6,\n",
    "    nstep=100,\n",
    "/\n",
    " &system    \n",
    "    ibrav= 0, celldm(1)=1 ,nat= 4, ntyp= 2,\n",
    "    ecutwfc = 50, ecutrho = 200,\n",
    "    occupations=\"fixed\",\n",
    "    nosym = TRUE,\n",
    "/\n",
    " &electrons\n",
    "    mixing_beta =0.7,\n",
    "    conv_thr =1.0d-8,\n",
    "/\n",
    " &ions\n",
    "    ion_dynamics='bfgs'\n",
    "/\n",
    "&cell\n",
    "    cell_dynamics='bfgs',\n",
    "    press=0.0,\n",
    "    cell_factor=4.0,\n",
    "    press_conv_thr=0.5,\n",
    "/\n",
    "CELL_PARAMETERS (alat= 1.00000000)\n",
    "{cell_parameters_block1}\n",
    "ATOMIC_SPECIES\n",
    "{atomic_species_block1}\n",
    "ATOMIC_POSITIONS (crystal)\n",
    "{atomic_positions_block1}\n",
    "K_POINTS (automatic)\n",
    "3 2 2 0 0 0\n",
    "\"\"\"\n",
    "\n",
    "vcrelax_input2 = f\"\"\"\n",
    " &control\n",
    "    calculation='vc-relax',\n",
    "    restart_mode='from_scratch',\n",
    "    prefix='{vcomp2.reduced_formula}',\n",
    "    outdir='./',\n",
    "    pseudo_dir = './simtool/pseudo/',\n",
    "    etot_conv_thr=1.0d-6,\n",
    "    forc_conv_thr=1.0d-6,\n",
    "    nstep=100,\n",
    "/\n",
    " &system    \n",
    "    ibrav= 0, celldm(1)=1 ,nat= 4, ntyp= 2,\n",
    "    ecutwfc = 50, ecutrho = 200,\n",
    "    occupations=\"fixed\",\n",
    "    nosym = TRUE,\n",
    "/\n",
    " &electrons\n",
    "    mixing_beta =0.7,\n",
    "    conv_thr =1.0d-8,\n",
    "/\n",
    " &ions\n",
    "    ion_dynamics='bfgs'\n",
    "/\n",
    "&cell\n",
    "    cell_dynamics='bfgs',\n",
    "    press=0.0,\n",
    "    cell_factor=4.0,\n",
    "    press_conv_thr=0.5,\n",
    "/\n",
    "CELL_PARAMETERS (alat= 1.00000000)\n",
    "{cell_parameters_block2}\n",
    "ATOMIC_SPECIES\n",
    "{atomic_species_block2}\n",
    "ATOMIC_POSITIONS (crystal)\n",
    "{atomic_positions_block2}\n",
    "K_POINTS (automatic)\n",
    "3 2 2 0 0 0\n",
    "\"\"\""
   ]
  },
  {
   "cell_type": "code",
   "execution_count": 9,
   "metadata": {},
   "outputs": [
    {
     "data": {
      "text/plain": [
       "'\\n &control\\n    calculation=\\'vc-relax\\',\\n    restart_mode=\\'from_scratch\\',\\n    prefix=\\'ZnO\\',\\n    outdir=\\'./\\',\\n    pseudo_dir = \\'./simtool/pseudo/\\',\\n    etot_conv_thr=1.0d-6,\\n    forc_conv_thr=1.0d-6,\\n    nstep=100,\\n/\\n &system    \\n    ibrav= 0, celldm(1)=1 ,nat= 4, ntyp= 2,\\n    ecutwfc = 50, ecutrho = 200,\\n    occupations=\"fixed\",\\n    nosym = TRUE,\\n/\\n &electrons\\n    mixing_beta =0.7,\\n    conv_thr =1.0d-8,\\n/\\n &ions\\n    ion_dynamics=\\'bfgs\\'\\n/\\n&cell\\n    cell_dynamics=\\'bfgs\\',\\n    press=0.0,\\n    cell_factor=4.0,\\n    press_conv_thr=0.5,\\n/\\nCELL_PARAMETERS (alat= 1.00000000)\\n1.59205000 -2.75751149 0.00000000\\n1.59205000 2.75751149 0.00000000\\n0.00000000 0.00000000 5.15510000\\n\\nATOMIC_SPECIES\\nZn 65.409 Zn.pbe.upf\\nO 15.9994 O.pbe.upf\\n\\nATOMIC_POSITIONS (crystal)\\nZn 0.6666666666666666 0.3333333333333333 0.5\\nZn 0.3333333333333333 0.6666666666666666 0.0\\nO 0.6666666666666666 0.3333333333333333 0.8803099999999999\\nO 0.3333333333333333 0.6666666666666666 0.3803099999999999\\n\\nK_POINTS (automatic)\\n3 2 2 0 0 0\\n'"
      ]
     },
     "execution_count": 9,
     "metadata": {},
     "output_type": "execute_result"
    }
   ],
   "source": [
    "vcrelax_input1"
   ]
  },
  {
   "cell_type": "code",
   "execution_count": 10,
   "metadata": {},
   "outputs": [],
   "source": [
    "vcr_input_file1 = open(f\"{vcomp1.reduced_formula}.vc-relax1.in\", \"w\")\n",
    "vcr_input_file1.write(vcrelax_input1)\n",
    "vcr_input_file1.close()\n",
    "\n",
    "vcr_input_file2 = open(f\"{vcomp2.reduced_formula}.vc-relax2.in\", \"w\")\n",
    "vcr_input_file2.write(vcrelax_input2)\n",
    "vcr_input_file2.close()\n",
    "\n",
    "vcr_output_file1 = open(f\"{vcomp1.reduced_formula}.vc-relax1.out\", \"w\")\n",
    "vcr_output_file2 = open(f\"{vcomp2.reduced_formula}.vc-relax2.out\", \"w\")"
   ]
  },
  {
   "cell_type": "code",
   "execution_count": 11,
   "metadata": {},
   "outputs": [],
   "source": [
    "pp_args = \"\"\n",
    "for pp in pps:\n",
    "    pp_args += f\"-i pseudo/{pp} \""
   ]
  },
  {
   "cell_type": "code",
   "execution_count": 12,
   "metadata": {},
   "outputs": [],
   "source": [
    "subargs1 = (\"4\", \"01:00:00\", vcomp1, vcr_output_file1, vcr_input_file1, pp_args, \"1\")\n",
    "subargs2 = (\"4\", \"01:00:00\", vcomp2, vcr_output_file2, vcr_input_file2, pp_args, \"2\")\n",
    "\n",
    "def vcrsubmit(numnodes, walltime, vcomp, vcr_output_file, vcr_input_file, pp_args, run_num):\n",
    "    COMMANDvcr = f\"espresso-6.8_pw > {vcr_output_file.name}\"\n",
    "    SUBMITvcr = f\"submit -n {numnodes} -w {walltime} -e QE_DISABLE_GGA_PBE=0 --runName {vcomp.reduced_formula}{run_num}vcr {COMMANDvcr} {pp_args} -i {vcr_input_file.name} \"\n",
    "    spvcr = subprocess.run(SUBMITvcr.split(), capture_output=True, text=True)\n",
    "    vcr_output_file.close()"
   ]
  },
  {
   "cell_type": "code",
   "execution_count": 13,
   "metadata": {},
   "outputs": [],
   "source": [
    "p1 = mp.Process(target=vcrsubmit, args=subargs1)\n",
    "p2 = mp.Process(target=vcrsubmit, args=subargs2)"
   ]
  },
  {
   "cell_type": "code",
   "execution_count": 14,
   "metadata": {},
   "outputs": [],
   "source": [
    "p1.run() #submit command cannot pull the necessary pps to the cluster?\n",
    "p2.run()"
   ]
  },
  {
   "cell_type": "code",
   "execution_count": null,
   "metadata": {},
   "outputs": [],
   "source": []
  }
 ],
 "metadata": {
  "kernelspec": {
   "display_name": "Python 3",
   "language": "python",
   "name": "python3"
  },
  "language_info": {
   "codemirror_mode": {
    "name": "ipython",
    "version": 3
   },
   "file_extension": ".py",
   "mimetype": "text/x-python",
   "name": "python",
   "nbconvert_exporter": "python",
   "pygments_lexer": "ipython3",
   "version": "3.7.7"
  }
 },
 "nbformat": 4,
 "nbformat_minor": 2
}
