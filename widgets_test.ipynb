{
 "cells": [
  {
   "cell_type": "markdown",
   "metadata": {},
   "source": [
    "# Widget Testing Notebook\n",
    "## Kat Nykiel\n",
    "- just a basic notebook to test the functionality of jupyter widgets"
   ]
  },
  {
   "cell_type": "code",
   "execution_count": null,
   "metadata": {},
   "outputs": [],
   "source": [
    "for filename in os.listdir(\"./simtool/pseudo/\"):\n",
    "\n",
    "    f = os.path.join(\"./simtool/pseudo/\",filename)\n",
    "\n",
    "    # get a list of all the PPs\n",
    "    if os.path.isfile(f):\n",
    "        print(filename)"
   ]
  },
  {
   "cell_type": "code",
   "execution_count": 31,
   "metadata": {},
   "outputs": [],
   "source": [
    "import ipywidgets as widgets\n",
    "from IPython.display import display"
   ]
  },
  {
   "cell_type": "code",
   "execution_count": 32,
   "metadata": {},
   "outputs": [
    {
     "data": {
      "application/vnd.jupyter.widget-view+json": {
       "model_id": "90a5b26913084c9daa1575dda97074b1",
       "version_major": 2,
       "version_minor": 0
      },
      "text/plain": [
       "IntSlider(value=0)"
      ]
     },
     "metadata": {},
     "output_type": "display_data"
    }
   ],
   "source": [
    "w = widgets.IntSlider()\n",
    "display(w)"
   ]
  },
  {
   "cell_type": "code",
   "execution_count": 33,
   "metadata": {},
   "outputs": [
    {
     "data": {
      "application/vnd.jupyter.widget-view+json": {
       "model_id": "90a5b26913084c9daa1575dda97074b1",
       "version_major": 2,
       "version_minor": 0
      },
      "text/plain": [
       "IntSlider(value=0)"
      ]
     },
     "metadata": {},
     "output_type": "display_data"
    }
   ],
   "source": [
    "# widgets stay in sync\n",
    "display(w)"
   ]
  },
  {
   "cell_type": "code",
   "execution_count": 34,
   "metadata": {},
   "outputs": [
    {
     "data": {
      "text/plain": [
       "0"
      ]
     },
     "execution_count": 34,
     "metadata": {},
     "output_type": "execute_result"
    }
   ],
   "source": [
    "w.value"
   ]
  },
  {
   "cell_type": "code",
   "execution_count": 35,
   "metadata": {},
   "outputs": [
    {
     "data": {
      "application/vnd.jupyter.widget-view+json": {
       "model_id": "88f08309bf1d474c8cc53bc2e0ada446",
       "version_major": 2,
       "version_minor": 0
      },
      "text/plain": [
       "Text(value='Hello World!')"
      ]
     },
     "metadata": {},
     "output_type": "display_data"
    }
   ],
   "source": [
    "t = widgets.Text(value = 'Hello World!')\n",
    "display(t)"
   ]
  },
  {
   "cell_type": "code",
   "execution_count": 36,
   "metadata": {
    "scrolled": true
   },
   "outputs": [
    {
     "data": {
      "application/vnd.jupyter.widget-view+json": {
       "model_id": "269ac5d09eaf418eb6574ae99c336e40",
       "version_major": 2,
       "version_minor": 0
      },
      "text/plain": [
       "IntSlider(value=120, continuous_update=False, description='ecutwfc:', max=400, min=50, step=10)"
      ]
     },
     "metadata": {},
     "output_type": "display_data"
    },
    {
     "data": {
      "application/vnd.jupyter.widget-view+json": {
       "model_id": "adb1639eef7542918a9fa6dba5329fb1",
       "version_major": 2,
       "version_minor": 0
      },
      "text/plain": [
       "IntSlider(value=480, description='ecutwfc:', max=1600, min=200, step=40)"
      ]
     },
     "metadata": {},
     "output_type": "display_data"
    }
   ],
   "source": [
    "ecutwfc = widgets.IntSlider(\n",
    "    value=120,\n",
    "    min=50,\n",
    "    max=400,\n",
    "    step=10,\n",
    "    description='ecutwfc:',\n",
    "    disabled=False,\n",
    "    continuous_update=False,\n",
    "    orientation='horizontal',\n",
    "    readout=True,\n",
    "    readout_format='d'\n",
    ")\n",
    "\n",
    "ecutrho = widgets.IntSlider(\n",
    "    value=4*ecutwfc.value,\n",
    "    min=200,\n",
    "    max=1600,\n",
    "    step=40,\n",
    "    description='ecutwfc:',\n",
    "    disabled=False,\n",
    "    continuous_update=True,\n",
    "    orientation='horizontal',\n",
    "    readout=True,\n",
    "    readout_format='d'\n",
    ")\n",
    "\n",
    "display(ecutwfc,ecutrho)"
   ]
  },
  {
   "cell_type": "code",
   "execution_count": 37,
   "metadata": {
    "scrolled": true
   },
   "outputs": [
    {
     "data": {
      "application/vnd.jupyter.widget-view+json": {
       "model_id": "481fd12165b244569e4294eae2a91cfc",
       "version_major": 2,
       "version_minor": 0
      },
      "text/plain": [
       "Select(description='OS:', index=2, options=('Linux', 'Windows', 'macOS'), value='macOS')"
      ]
     },
     "metadata": {},
     "output_type": "display_data"
    }
   ],
   "source": [
    "widgets.Select(\n",
    "    options=['Linux', 'Windows', 'macOS'],\n",
    "    value='macOS',\n",
    "    # rows=10,\n",
    "    description='OS:',\n",
    "    disabled=False)"
   ]
  },
  {
   "cell_type": "code",
   "execution_count": 38,
   "metadata": {},
   "outputs": [
    {
     "data": {
      "application/vnd.jupyter.widget-view+json": {
       "model_id": "13caa93d61aa4c508e7ce5582b494b4e",
       "version_major": 2,
       "version_minor": 0
      },
      "text/plain": [
       "Text(value='Hello World', description='String:', placeholder='Type something')"
      ]
     },
     "metadata": {},
     "output_type": "display_data"
    }
   ],
   "source": [
    "widgets.Text(\n",
    "    value='Hello World',\n",
    "    placeholder='Type something',\n",
    "    description='String:',\n",
    "    disabled=False\n",
    ")"
   ]
  },
  {
   "cell_type": "markdown",
   "metadata": {},
   "source": [
    "###  possible ideas\n",
    "- numeric sliders for walltime, energy cutoff, sim parameters\n",
    "- checkboxes for outputs"
   ]
  },
  {
   "cell_type": "markdown",
   "metadata": {},
   "source": [
    "### set up sim2l"
   ]
  },
  {
   "cell_type": "code",
   "execution_count": 39,
   "metadata": {},
   "outputs": [
    {
     "name": "stdout",
     "output_type": "stream",
     "text": [
      "notebookPath = /home/nanohub/nykiel.4/opt_prop/opt_prop_suite/simtool/670raman.ipynb\n",
      "simToolName = 670raman\n",
      "simToolRevision = None\n",
      "published = False\n",
      "670raman:\n",
      "   installed:\n",
      "      r152: '\n",
      "           Panos Manganaris, Kat Nykiel\n",
      "           Simtool for the automated generation of Raman and IR Spectra from QE vc-relax>scf>ph>dynmat\n",
      "         pipeline\n",
      "           '\n"
     ]
    }
   ],
   "source": [
    "#simtool loading and interface\n",
    "from simtool import findInstalledSimToolNotebooks,searchForSimTool\n",
    "from simtool import getSimToolInputs,getSimToolOutputs,Run\n",
    "\n",
    "simToolName = \"670raman\"\n",
    "simToolLocation = searchForSimTool(simToolName)\n",
    "for key in simToolLocation.keys():\n",
    "    print(f\"{key} = {simToolLocation[key]}\")\n",
    "    \n",
    "installedSimToolNotebooks = findInstalledSimToolNotebooks(simToolName,returnString=True)\n",
    "print(installedSimToolNotebooks)\n",
    "\n",
    "#Enter your values with units! The simtool will make sure you know what you're talking about.\n",
    "inputs = getSimToolInputs(simToolLocation)\n",
    "\n",
    "outputs = getSimToolOutputs(simToolLocation)"
   ]
  },
  {
   "cell_type": "code",
   "execution_count": 2,
   "metadata": {
    "scrolled": false
   },
   "outputs": [
    {
     "data": {
      "application/vnd.jupyter.widget-view+json": {
       "model_id": "24419a2c0a9742ad8d4168064f442c37",
       "version_major": 2,
       "version_minor": 0
      },
      "text/plain": [
       "VBox(children=(Accordion(children=(VBox(children=(Text(value='ZnO', description='Compound:', placeholder='chem…"
      ]
     },
     "metadata": {},
     "output_type": "display_data"
    }
   ],
   "source": [
    "compound = widgets.Text(\n",
    "    value='ZnO',\n",
    "    placeholder='chemical formula',\n",
    "    description='Compound:',\n",
    "    disabled=False\n",
    ")\n",
    "spacegroup = widgets.IntText(\n",
    "    value=186,\n",
    "    placeholder='space group',\n",
    "    description='Space group:',\n",
    "    disabled=False\n",
    ") \n",
    "\n",
    "widgets.IntSlider(\n",
    "    value=7,\n",
    "    min=0,\n",
    "    max=10,\n",
    "    step=1,\n",
    "    description='Test:',\n",
    "    disabled=False,\n",
    "    continuous_update=False,\n",
    "    orientation='horizontal',\n",
    "    readout=True,\n",
    "    readout_format='d'\n",
    ")\n",
    "\n",
    "ecutwfc = widgets.BoundedFloatText(\n",
    "    value=120,\n",
    "    min=50,\n",
    "    max=400,\n",
    "    step=10,\n",
    "    description='ecutwfc:',\n",
    "    disabled=False\n",
    ")\n",
    "\n",
    "ecutrho = widgets.BoundedFloatText(\n",
    "    value=480,\n",
    "    min=200,\n",
    "    max=1600,\n",
    "    step=40,\n",
    "    description='ecutrho:',\n",
    "    disabled=False\n",
    ")\n",
    "\n",
    "widgets.IntText(\n",
    "    value=7,\n",
    "    description='Any:',\n",
    "    disabled=False\n",
    ")\n",
    "\n",
    "button = widgets.Button(\n",
    "    description='run simtool',\n",
    "    disabled=False,\n",
    "    button_style='', # 'success', 'info', 'warning', 'danger' or ''\n",
    "    tooltip='run to submit qe simtool'\n",
    ")\n",
    "\n",
    "log = widgets.Select(\n",
    "    options=[\"DEBUG\", \"INFO\", \"WARNING\", \"ERROR\", \"CRITICAL\"],\n",
    "    value='DEBUG',\n",
    "    # rows=10,\n",
    "    description='Log Level:',\n",
    "    disabled=False\n",
    ")\n",
    "\n",
    "walltime = widgets.Text(\n",
    "    value='01:00:00',\n",
    "    placeholder='walltime',\n",
    "    description='walltime:',\n",
    "    disabled=False\n",
    ")\n",
    "\n",
    "numnodes = widgets.IntText(\n",
    "    value=8,\n",
    "    placeholder='nodes',\n",
    "    description='nodes:',\n",
    "    disabled=False\n",
    ") \n",
    "\n",
    "pps1 = widgets.Text(\n",
    "    value='O.pbe-hgh.UPF',\n",
    "    placeholder='pseudopotential 1',\n",
    "    description='pseudopotential 1:',\n",
    "    disabled=False\n",
    ") \n",
    "\n",
    "pps2 = widgets.Text(\n",
    "    value='Zn.pbe-d-hgh.UPF',\n",
    "    placeholder='pseudopotential 2',\n",
    "    description='pseudopotential 2:',\n",
    "    disabled=False\n",
    ")\n",
    "\n",
    "smearing = widgets.Text(\n",
    "    value='fixed',\n",
    "    placeholder='smearing',\n",
    "    description='smearing:',\n",
    "    disabled=False\n",
    ") \n",
    "\n",
    "smearing = widgets.Select(\n",
    "    options=['smearing','fixed'],\n",
    "    value='fixed',\n",
    "    rows = 2,\n",
    "    description='smearing:',\n",
    "    disabled=False\n",
    ")\n",
    "    \n",
    "output = widgets.Output()\n",
    "\n",
    "\n",
    "\n",
    "# display(c, s, button, output)\n",
    "\n",
    "def runSim2l():\n",
    "    inputs['loglevel'].value = log.value\n",
    "    inputs['walltime'].value = walltime.value\n",
    "    inputs['numnodes'].value = numnodes.value\n",
    "    inputs['compound'].value = compound.value\n",
    "    inputs['ecutwfc'].value = ecutwfc.value\n",
    "    inputs['ecutrho'].value = ecutrho.value\n",
    "    inputs['spacegroup_international'].value = spacegroup.value\n",
    "    inputs['pps'].value = [pps1.value, pps2.value]\n",
    "    inputs['smearing'].value = smearing.value\n",
    "\n",
    "def on_button_clicked(b):\n",
    "    with output:\n",
    "        print(\"submitting sim2l run with formula\" , compound.value, spacegroup.value)\n",
    "        runSim2l()\n",
    "        r = Run(simToolLocation,inputs)\n",
    "        print(r.read('spectra'))\n",
    "        # return r\n",
    "        \n",
    "button.on_click(on_button_clicked)\n",
    "\n",
    "structure = widgets.VBox([compound,spacegroup])\n",
    "simulation = widgets.VBox([ecutrho, ecutwfc, smearing, pps1, pps2])\n",
    "run_details = widgets.VBox([walltime, numnodes, log])\n",
    "\n",
    "accordion = widgets.VBox([widgets.Accordion(children=[structure,simulation,run_details]),button,output])\n",
    "display(accordion)"
   ]
  },
  {
   "cell_type": "code",
   "execution_count": 56,
   "metadata": {
    "tags": [
     "hide-input"
    ]
   },
   "outputs": [
    {
     "name": "stdout",
     "output_type": "stream",
     "text": [
      "C.UPF\n",
      "C.pbe-hgh.UPF\n",
      "C_3.98148.UPF\n",
      "O.pbe-hgh.UPF\n",
      "O_US.van\n",
      "S.pbe-hgh.UPF\n",
      "Zn.pbe-d-hgh.UPF\n",
      "Al.pbe.upf\n",
      "Ag.pbe.upf\n",
      "Au.pbe.upf\n",
      "As.pbe.upf\n",
      "Ar.pbe.upf\n",
      "B.pbe.upf\n",
      "Ba.pbe.upf\n",
      "Be.pbe.upf\n",
      "Bi.pbe.upf\n",
      "Br.pbe.upf\n",
      "Zr.pbe.upf\n",
      "C.pbe.upf\n",
      "Zn.pbe.upf\n",
      "Ca.pbe.upf\n",
      "Y.pbe.upf\n",
      "Cd.pbe.upf\n",
      "Xe.pbe.upf\n",
      "Cl.pbe.upf\n",
      "W.pbe.upf\n",
      "Cr.pbe.upf\n",
      "Co.pbe.upf\n",
      "V.pbe.upf\n",
      "Ti.pbe.upf\n",
      "Cs.pbe.upf\n",
      "Te.pbe.upf\n",
      "Tc.pbe.upf\n",
      "Cu.pbe.upf\n",
      "F.pbe.upf\n",
      "Fe.pbe.upf\n",
      "Ta.pbe.upf\n",
      "Sn.pbe.upf\n",
      "Ga.pbe.upf\n",
      "Si.pbe.upf\n",
      "Sr.pbe.upf\n",
      "H.pbe.upf\n",
      "Ge.pbe.upf\n",
      "Se.pbe.upf\n",
      "He.pbe.upf\n",
      "Sb.pbe.upf\n",
      "Hf.pbe.upf\n",
      "Sc.pbe.upf\n",
      "Hg.pbe.upf\n",
      "S.pbe.upf\n",
      "I.pbe.upf\n",
      "Ru.pbe.upf\n",
      "In.pbe.upf\n",
      "Re.pbe.upf\n",
      "Rh.pbe.upf\n",
      "Ir.pbe.upf\n",
      "K.pbe.upf\n",
      "Kr.pbe.upf\n",
      "Rb.pbe.upf\n",
      "La.pbe.upf\n",
      "Pt.pbe.upf\n",
      "Pd.pbe.upf\n",
      "Pb.pbe.upf\n",
      "Li.pbe.upf\n",
      "Mg.pbe.upf\n",
      "Mn.pbe.upf\n",
      "P.pbe.upf\n",
      "Os.pbe.upf\n",
      "Mo.pbe.upf\n",
      "O.pbe.upf\n",
      "N.pbe.upf\n",
      "Na.pbe.upf\n",
      "Ni.pbe.upf\n",
      "Ne.pbe.upf\n",
      "Nb.pbe.upf\n"
     ]
    }
   ],
   "source": [
    "import os\n",
    "\n",
    "for filename in os.listdir(\"./simtool/pseudo/\"):\n",
    "\n",
    "    f = os.path.join(\"./simtool/pseudo/\",filename)\n",
    "\n",
    "    # get a list of all the PPs\n",
    "    if os.path.isfile(f):\n",
    "        print(filename)"
   ]
  },
  {
   "cell_type": "markdown",
   "metadata": {},
   "source": [
    "## 3d plot script\n",
    "- input: .xyz file\n",
    "- output: interactive crystal image"
   ]
  },
  {
   "cell_type": "markdown",
   "metadata": {},
   "source": [
    "### outputs"
   ]
  },
  {
   "cell_type": "code",
   "execution_count": 42,
   "metadata": {
    "scrolled": false
   },
   "outputs": [
    {
     "ename": "NameError",
     "evalue": "name 'r' is not defined",
     "output_type": "error",
     "traceback": [
      "\u001b[0;31m---------------------------------------------------------------------------\u001b[0m",
      "\u001b[0;31mNameError\u001b[0m                                 Traceback (most recent call last)",
      "\u001b[0;32m<ipython-input-42-df7e55687ca2>\u001b[0m in \u001b[0;36m<module>\u001b[0;34m\u001b[0m\n\u001b[0;32m----> 1\u001b[0;31m \u001b[0mr\u001b[0m\u001b[0;34m.\u001b[0m\u001b[0mread\u001b[0m\u001b[0;34m(\u001b[0m\u001b[0;34m'spectra'\u001b[0m\u001b[0;34m)\u001b[0m\u001b[0;34m\u001b[0m\u001b[0;34m\u001b[0m\u001b[0m\n\u001b[0m",
      "\u001b[0;31mNameError\u001b[0m: name 'r' is not defined"
     ]
    }
   ],
   "source": [
    "r.read('spectra')"
   ]
  },
  {
   "cell_type": "code",
   "execution_count": null,
   "metadata": {},
   "outputs": [],
   "source": [
    "from IPython.display import display\n",
    "button = widgets.Button(description=\"Click Me!\")\n",
    "output = widgets.Output()\n",
    "\n",
    "display(button, output)\n",
    "\n",
    "def on_button_clicked(b):\n",
    "    with output:\n",
    "        print(\"Button clicked.\")\n",
    "\n",
    "button.on_click(on_button_clicked)"
   ]
  },
  {
   "cell_type": "code",
   "execution_count": null,
   "metadata": {
    "scrolled": false
   },
   "outputs": [],
   "source": [
    "%%html\n",
    "<style>\n",
    "div.input {\n",
    "    display:none;\n",
    "}\n",
    "</style>"
   ]
  },
  {
   "cell_type": "code",
   "execution_count": null,
   "metadata": {},
   "outputs": [],
   "source": []
  }
 ],
 "metadata": {
  "kernelspec": {
   "display_name": "Python 3",
   "language": "python",
   "name": "python3"
  },
  "language_info": {
   "codemirror_mode": {
    "name": "ipython",
    "version": 3
   },
   "file_extension": ".py",
   "mimetype": "text/x-python",
   "name": "python",
   "nbconvert_exporter": "python",
   "pygments_lexer": "ipython3",
   "version": "3.7.7"
  }
 },
 "nbformat": 4,
 "nbformat_minor": 2
}
