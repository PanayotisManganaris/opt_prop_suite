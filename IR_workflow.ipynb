{
 "cells": [
  {
   "cell_type": "code",
   "execution_count": 1,
   "metadata": {},
   "outputs": [],
   "source": [
    "#%load_ext yamlmagic\n",
    "\n",
    "from simtool import findInstalledSimToolNotebooks, searchForSimTool\n",
    "from simtool import getSimToolInputs, getSimToolOutputs, Run\n",
    "\n",
    "import pymatgen as pymat\n",
    "import mendeleev as mendel\n",
    "import urllib\n",
    "import requests\n",
    "import json\n",
    "import re\n",
    "import os\n",
    "import plotly.graph_objs as go\n",
    "import numpy as np"
   ]
  },
  {
   "cell_type": "code",
   "execution_count": 2,
   "metadata": {},
   "outputs": [
    {
     "data": {
      "text/plain": [
       "{'notebookPath': '/home/nanohub/paul115/src/irspec/simtool/IRspec.ipynb',\n",
       " 'simToolName': 'IRspec',\n",
       " 'simToolRevision': None,\n",
       " 'published': False}"
      ]
     },
     "execution_count": 2,
     "metadata": {},
     "output_type": "execute_result"
    }
   ],
   "source": [
    "IRspectrum = searchForSimTool('IRspec')\n",
    "IRspectrum"
   ]
  },
  {
   "cell_type": "code",
   "execution_count": 3,
   "metadata": {},
   "outputs": [
    {
     "name": "stdout",
     "output_type": "stream",
     "text": [
      "material:\n",
      "    type: Text\n",
      "    description: Semiconductor to be simulated\n",
      "    value: SnS\n",
      "\n",
      "crystal_spacegroup:\n",
      "    type: Text\n",
      "    description: Crystal spacegroup\n",
      "    value: Pnma\n",
      "\n",
      "Energy_cutoff:\n",
      "    units: rydberg\n",
      "    min: 40\n",
      "    max: 120\n",
      "    type: Number\n",
      "    description: Cut off for energy in Ry\n",
      "    value: 60\n",
      "\n",
      "k_points:\n",
      "    min: 1\n",
      "    max: 10\n",
      "    type: Number\n",
      "    description: Number of k points along a\n",
      "    value: 2\n",
      "\n",
      "q_points:\n",
      "    min: 1\n",
      "    max: 10\n",
      "    type: Number\n",
      "    description: Number of q points for DOS calculation\n",
      "    value: 2\n",
      "\n",
      "pseudopotential:\n",
      "    type: List\n",
      "    description: Name of the pseudopotentials\n",
      "    value: ['Sn.pbesol-dn-kjpaw_psl.1.0.0.UPF', 'S.pbesol-n-kjpaw_psl.1.0.0.UPF']\n",
      "\n"
     ]
    }
   ],
   "source": [
    "# get the list of inputs\n",
    "inputs = getSimToolInputs(IRspectrum)\n",
    "print(inputs)"
   ]
  },
  {
   "cell_type": "code",
   "execution_count": 4,
   "metadata": {},
   "outputs": [
    {
     "data": {
      "text/plain": [
       "IR_file:\n",
       "    type: Text\n",
       "    description: Name of the IR spectrum output file written by QE\n",
       "\n",
       "Eigenmodes_file:\n",
       "    type: Text\n",
       "    description: Name of the Eigen Modes output file written by QE\n",
       "\n",
       "Disp_file:\n",
       "    type: Text\n",
       "    description: Name of the Dispersion output file written by QE\n",
       "\n",
       "phDOS_file:\n",
       "    type: Text\n",
       "    description: Name of the phonon DOS output file written by QE\n",
       "\n",
       "IR_list:\n",
       "    min: None\n",
       "    max: None\n",
       "    type: Array\n",
       "    description: IR values with Frequency"
      ]
     },
     "execution_count": 4,
     "metadata": {},
     "output_type": "execute_result"
    }
   ],
   "source": [
    "getSimToolOutputs(IRspectrum)"
   ]
  },
  {
   "cell_type": "code",
   "execution_count": 5,
   "metadata": {},
   "outputs": [],
   "source": [
    "inputs.material.value = 'SnSe2'\n",
    "inputs.crystal_spacegroup.value = 'P-3m1'\n",
    "inputs.Energy_cutoff.value = 60\n",
    "inputs.k_points.value = 6\n",
    "inputs.q_points.value = 4\n",
    "inputs.pseudopotential.value=[['Sn.pbesol-dn-kjpaw_psl.1.0.0.UPF','Se.pbesol-dn-kjpaw_psl.1.0.0.UPF']]"
   ]
  },
  {
   "cell_type": "code",
   "execution_count": 6,
   "metadata": {},
   "outputs": [
    {
     "name": "stdout",
     "output_type": "stream",
     "text": [
      "runname   = 1c2e4e1419244a70b4638ae572602a8e\n",
      "outdir    = RUNS/1c2e4e1419244a70b4638ae572602a8e\n",
      "cached    = False\n",
      "submit --local papermill -f inputs.yaml\n",
      "       /home/nanohub/paul115/src/irspec/simtool/IRspec.ipynb IRspec.ipynb\n"
     ]
    },
    {
     "name": "stderr",
     "output_type": "stream",
     "text": [
      "Input Notebook:  /home/nanohub/paul115/src/irspec/simtool/IRspec.ipynb\n",
      "Output Notebook: IRspec.ipynb\n",
      "Executing: 100%|██████████| 25/25 [4:03:23<00:00, 584.14s/cell]   \n"
     ]
    }
   ],
   "source": [
    "r = Run(IRspectrum, inputs)"
   ]
  },
  {
   "cell_type": "code",
   "execution_count": 7,
   "metadata": {},
   "outputs": [
    {
     "data": {
      "text/html": [
       "<div>\n",
       "<style scoped>\n",
       "    .dataframe tbody tr th:only-of-type {\n",
       "        vertical-align: middle;\n",
       "    }\n",
       "\n",
       "    .dataframe tbody tr th {\n",
       "        vertical-align: top;\n",
       "    }\n",
       "\n",
       "    .dataframe thead th {\n",
       "        text-align: right;\n",
       "    }\n",
       "</style>\n",
       "<table border=\"1\" class=\"dataframe\">\n",
       "  <thead>\n",
       "    <tr style=\"text-align: right;\">\n",
       "      <th></th>\n",
       "      <th>name</th>\n",
       "      <th>data</th>\n",
       "      <th>encoder</th>\n",
       "      <th>display</th>\n",
       "      <th>filename</th>\n",
       "    </tr>\n",
       "  </thead>\n",
       "  <tbody>\n",
       "    <tr>\n",
       "      <th>0</th>\n",
       "      <td>simToolSaveErrorOccurred</td>\n",
       "      <td>0</td>\n",
       "      <td>text</td>\n",
       "      <td>None</td>\n",
       "      <td>IRspec.ipynb</td>\n",
       "    </tr>\n",
       "    <tr>\n",
       "      <th>1</th>\n",
       "      <td>simToolAllOutputsSaved</td>\n",
       "      <td>1</td>\n",
       "      <td>text</td>\n",
       "      <td>None</td>\n",
       "      <td>IRspec.ipynb</td>\n",
       "    </tr>\n",
       "    <tr>\n",
       "      <th>2</th>\n",
       "      <td>IR_file</td>\n",
       "      <td>\"\\n     Program DYNMAT v.6.2 (svn rev. 14038) ...</td>\n",
       "      <td>text</td>\n",
       "      <td>None</td>\n",
       "      <td>IRspec.ipynb</td>\n",
       "    </tr>\n",
       "    <tr>\n",
       "      <th>3</th>\n",
       "      <td>Eigenmodes_file</td>\n",
       "      <td>\"ANIMSTEPS   9\\nCRYSTAL\\nPRIMVEC\\n    1.896981...</td>\n",
       "      <td>text</td>\n",
       "      <td>None</td>\n",
       "      <td>IRspec.ipynb</td>\n",
       "    </tr>\n",
       "    <tr>\n",
       "      <th>4</th>\n",
       "      <td>Disp_file</td>\n",
       "      <td>\" &amp;plot nbnd=   9, nks=  91 /\\n            0.0...</td>\n",
       "      <td>text</td>\n",
       "      <td>None</td>\n",
       "      <td>IRspec.ipynb</td>\n",
       "    </tr>\n",
       "    <tr>\n",
       "      <th>5</th>\n",
       "      <td>phDOS_file</td>\n",
       "      <td>\" -3.0022E+00  0.0000E+00\\n -2.0022E+00  9.916...</td>\n",
       "      <td>text</td>\n",
       "      <td>None</td>\n",
       "      <td>IRspec.ipynb</td>\n",
       "    </tr>\n",
       "    <tr>\n",
       "      <th>6</th>\n",
       "      <td>IR_list</td>\n",
       "      <td>[[1.0, 0.0, 0.0, 0.0], [2.0, 0.0, 0.0, 0.0], [...</td>\n",
       "      <td>text</td>\n",
       "      <td>None</td>\n",
       "      <td>IRspec.ipynb</td>\n",
       "    </tr>\n",
       "  </tbody>\n",
       "</table>\n",
       "</div>"
      ],
      "text/plain": [
       "                       name  \\\n",
       "0  simToolSaveErrorOccurred   \n",
       "1    simToolAllOutputsSaved   \n",
       "2                   IR_file   \n",
       "3           Eigenmodes_file   \n",
       "4                 Disp_file   \n",
       "5                phDOS_file   \n",
       "6                   IR_list   \n",
       "\n",
       "                                                data encoder display  \\\n",
       "0                                                  0    text    None   \n",
       "1                                                  1    text    None   \n",
       "2  \"\\n     Program DYNMAT v.6.2 (svn rev. 14038) ...    text    None   \n",
       "3  \"ANIMSTEPS   9\\nCRYSTAL\\nPRIMVEC\\n    1.896981...    text    None   \n",
       "4  \" &plot nbnd=   9, nks=  91 /\\n            0.0...    text    None   \n",
       "5  \" -3.0022E+00  0.0000E+00\\n -2.0022E+00  9.916...    text    None   \n",
       "6  [[1.0, 0.0, 0.0, 0.0], [2.0, 0.0, 0.0, 0.0], [...    text    None   \n",
       "\n",
       "       filename  \n",
       "0  IRspec.ipynb  \n",
       "1  IRspec.ipynb  \n",
       "2  IRspec.ipynb  \n",
       "3  IRspec.ipynb  \n",
       "4  IRspec.ipynb  \n",
       "5  IRspec.ipynb  \n",
       "6  IRspec.ipynb  "
      ]
     },
     "execution_count": 7,
     "metadata": {},
     "output_type": "execute_result"
    }
   ],
   "source": [
    "r.getResultSummary()"
   ]
  },
  {
   "cell_type": "code",
   "execution_count": 8,
   "metadata": {},
   "outputs": [
    {
     "name": "stdout",
     "output_type": "stream",
     "text": [
      "mode   [cm-1]    [THz]      IR [[1.0, 0.0, 0.0, 0.0], [2.0, 0.0, 0.0, 0.0], [3.0, 0.0, 0.0, 0.0], [4.0, 119.04, 3.5688, 0.0], [5.0, 119.04, 3.5688, 0.0], [6.0, 148.76, 4.4597, 9.5958], [7.0, 148.76, 4.4597, 9.5958], [8.0, 185.67, 5.5664, 0.0], [9.0, 248.03, 7.4358, 2.0341]]\n"
     ]
    }
   ],
   "source": [
    "print (\"mode   [cm-1]    [THz]      IR\", (r.read('IR_list')))"
   ]
  },
  {
   "cell_type": "code",
   "execution_count": null,
   "metadata": {},
   "outputs": [],
   "source": []
  }
 ],
 "metadata": {
  "kernelspec": {
   "display_name": "Python 3",
   "language": "python",
   "name": "python3"
  },
  "language_info": {
   "codemirror_mode": {
    "name": "ipython",
    "version": 3
   },
   "file_extension": ".py",
   "mimetype": "text/x-python",
   "name": "python",
   "nbconvert_exporter": "python",
   "pygments_lexer": "ipython3",
   "version": "3.7.7"
  }
 },
 "nbformat": 4,
 "nbformat_minor": 2
}
