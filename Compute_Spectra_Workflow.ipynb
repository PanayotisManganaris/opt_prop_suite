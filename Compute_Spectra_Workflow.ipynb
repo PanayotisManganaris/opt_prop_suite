{
 "cells": [
  {
   "cell_type": "markdown",
   "metadata": {},
   "source": [
    "# Import Dependencies"
   ]
  },
  {
   "cell_type": "code",
   "execution_count": null,
   "metadata": {},
   "outputs": [],
   "source": [
    "#data tools\n",
    "import pandas as pd\n",
    "from pymatgen.ext.matproj import MPRester\n",
    "from pymatgen.core import Structure\n",
    "#from pymatgen.vis import structure_chemview as viz\n",
    "\n",
    "#simtool loading and interface\n",
    "from simtool import findInstalledSimToolNotebooks,searchForSimTool\n",
    "from simtool import getSimToolInputs,getSimToolOutputs,Run\n",
    "\n",
    "#user interface utilities \n",
    "import os, stat\n",
    "import ipywidgets as widgets\n",
    "from IPython.display import display\n",
    "from IPython.display import clear_output"
   ]
  },
  {
   "cell_type": "markdown",
   "metadata": {},
   "source": [
    "### User Create ~/.mpkey.txt if it doesn't already exist"
   ]
  },
  {
   "cell_type": "code",
   "execution_count": null,
   "metadata": {},
   "outputs": [],
   "source": [
    "#key security\n",
    "try:\n",
    "    user = str(input('Paste MP API key: '))\n",
    "    clear_output()\n",
    "    if not user.isalnum():\n",
    "        raise TypeError('Wrong Key')\n",
    "    if user is None:\n",
    "        raise TypeError('Empty')\n",
    "    with open(os.path.expanduser('~/.mpkey.txt'), 'w') as keyfile:\n",
    "        keyfile.write(user)\n",
    "    os.chmod(os.path.expanduser('~/.mpkey.txt'), stat.S_IREAD | stat.S_IWRITE)\n",
    "    del user\n",
    "    print(\"Success\")\n",
    "except:\n",
    "    print(\"Something seems wrong with your key\")"
   ]
  },
  {
   "cell_type": "markdown",
   "metadata": {},
   "source": [
    "## User Prompted To pick their SemiConductor of Choice\n",
    "### Choice (a): query MP and fliter on properties. Dataframe is updated with each selection."
   ]
  },
  {
   "cell_type": "code",
   "execution_count": null,
   "metadata": {
    "scrolled": true
   },
   "outputs": [],
   "source": [
    "with open(os.path.expanduser(\"~/.mpkey.txt\"), \"r+\") as file:\n",
    "    apikey = file.readline()\n",
    "rester = MPRester(apikey)\n",
    "sc_dicts = rester.query({ \"crystal_system\": \"cubic\"},\n",
    "                        [\"task_id\",\"pretty_formula\",\"formula\",\"elements\",\"e_above_hull\", \"spacegroup.number\", \"band_gap\", \"crystal_system\"])\n",
    "sc_df = pd.DataFrame(sc_dicts)"
   ]
  },
  {
   "cell_type": "code",
   "execution_count": null,
   "metadata": {},
   "outputs": [],
   "source": [
    "#if you don't, search for your structure by filtering\n"
   ]
  },
  {
   "cell_type": "code",
   "execution_count": null,
   "metadata": {
    "scrolled": false
   },
   "outputs": [],
   "source": [
    "# if you know the mp-id: give it here to get a structure object\n",
    "mpid = widgets.IntText(\n",
    "        value=2133,\n",
    "        description='MPID:',\n",
    "        disabled=False\n",
    ")\n",
    "\n",
    "display(mpid)"
   ]
  },
  {
   "cell_type": "code",
   "execution_count": null,
   "metadata": {},
   "outputs": [],
   "source": [
    "struct = rester.get_structure_by_material_id(\"mp-\"+str(mpid.value), final = False, conventional_unit_cell=True)"
   ]
  },
  {
   "cell_type": "code",
   "execution_count": null,
   "metadata": {},
   "outputs": [],
   "source": [
    "#debugging struct\n",
    "type(struct.sites[0].a)"
   ]
  },
  {
   "cell_type": "code",
   "execution_count": null,
   "metadata": {},
   "outputs": [],
   "source": [
    "# if you're just hunting for something we display the structure for you.\n",
    "mv = viz.quick_view(struct)\n",
    "mv.ball_and_stick()"
   ]
  },
  {
   "cell_type": "code",
   "execution_count": null,
   "metadata": {},
   "outputs": [],
   "source": [
    "# This is passed to the simtool to perform simulations\n",
    "# structure objects obtained directly from remote database queries must be passed to simtool as dictionaries to preserve maximum numerical precision\n",
    "# quantum espresso is very sensitive to precision especially for relaxation calculations.\n",
    "struct_dict = struct.as_dict()#to(fmt=\"JSON\")\n",
    "struct_dict"
   ]
  },
  {
   "cell_type": "code",
   "execution_count": null,
   "metadata": {},
   "outputs": [],
   "source": [
    "#debug poscar conversion\n",
    "from pymatgen.core import Structure\n",
    "with open(\"./POSCAR\", \"w\") as f:\n",
    "    POSCAR = f.write(POSCAR_str)\n",
    "    f.close()\n",
    "\n",
    "struct2 = Structure.from_file(\"./POSCAR\")"
   ]
  },
  {
   "cell_type": "code",
   "execution_count": null,
   "metadata": {},
   "outputs": [],
   "source": [
    "struct2.sites[0].a"
   ]
  },
  {
   "cell_type": "markdown",
   "metadata": {},
   "source": [
    "### Choice (b): upload your own poscar directly. No query necessary."
   ]
  },
  {
   "cell_type": "code",
   "execution_count": null,
   "metadata": {},
   "outputs": [],
   "source": [
    "#users can pass their own structure as a poscar. the simtool will take the file contents as a dictionary which is produced here\n",
    "struct = Structure.from_file(\"./POSCAR\")\n",
    "struct_dict = struct.as_dict()\n",
    "struct_dict"
   ]
  },
  {
   "cell_type": "markdown",
   "metadata": {},
   "source": [
    "# Perform Structure Relaxation and SCF and Phonon computation and spectra extraction using simtool"
   ]
  },
  {
   "cell_type": "markdown",
   "metadata": {},
   "source": [
    "### Find 670raman simtool notebook and confirm"
   ]
  },
  {
   "cell_type": "code",
   "execution_count": null,
   "metadata": {},
   "outputs": [],
   "source": [
    "#simToolName = \"670raman\"\n",
    "simToolName = \"relax_sim\"\n",
    "simToolLocation = searchForSimTool(simToolName)\n",
    "for key in simToolLocation.keys():\n",
    "    print(f\"{key} = {simToolLocation[key]}\")"
   ]
  },
  {
   "cell_type": "code",
   "execution_count": null,
   "metadata": {},
   "outputs": [],
   "source": [
    "installedSimToolNotebooks = findInstalledSimToolNotebooks(simToolName,returnString=True)\n",
    "print(installedSimToolNotebooks)"
   ]
  },
  {
   "cell_type": "markdown",
   "metadata": {},
   "source": [
    "### User Set Validated Inputs\n",
    "670raman will automatically activate your rest api interface to Materials Project\n",
    "if you have the dotfile \".mpkey.txt\" in your home directory.\n",
    "\n",
    "Otherwise, it will attempt to generate a realistic crystal structure from your chemical discription"
   ]
  },
  {
   "cell_type": "code",
   "execution_count": null,
   "metadata": {},
   "outputs": [],
   "source": [
    "#Enter your values with units! The simtool will make sure you know what you're talking about.\n",
    "inputs = getSimToolInputs(simToolLocation)"
   ]
  },
  {
   "cell_type": "code",
   "execution_count": null,
   "metadata": {},
   "outputs": [],
   "source": [
    "inputs"
   ]
  },
  {
   "cell_type": "code",
   "execution_count": null,
   "metadata": {},
   "outputs": [],
   "source": [
    "# skip this: reimplementing widget definitions wip\n",
    "class ToolSet():\n",
    "    def __init__(self, inputs, struct_dict): #users_pp_file_list\n",
    "        self.pp_list = []\n",
    "        for filename in os.listdir(\"./simtool/pseudo/\"):\n",
    "            f = os.path.join(\"./simtool/pseudo/\", filename)\n",
    "            # get a list of all the PPs -- is this best instatiated here or globally?\n",
    "            # if instanced here, the user could probably pass their own PPs to the constructor as well\n",
    "            if os.path.isfile(f):\n",
    "                self.pp_list.append(filename)\n",
    "\n",
    "        # TODO: filter by selected compound compositions\n",
    "        self.filtered_pp_list = self.pp_list\n",
    "\n",
    "    def _create_widgets(self):\n",
    "        self.log = widgets.Select(\n",
    "            options=[\"DEBUG\", \"INFO\", \"WARNING\", \"ERROR\", \"CRITICAL\"],\n",
    "            value='DEBUG',\n",
    "            # rows=10,\n",
    "            description='Log Level:',\n",
    "            disabled=False\n",
    "        )\n",
    "        self.walltime = widgets.Text(\n",
    "            value='01:00:00',\n",
    "            placeholder='walltime',\n",
    "            description='walltime:',\n",
    "            disabled=False\n",
    "        )\n",
    "        self.numnodes = widgets.IntText(\n",
    "            value=8,\n",
    "            placeholder='nodes',\n",
    "            description='nodes:',\n",
    "            disabled=False\n",
    "        ) \n",
    "        self.button = widgets.Button(\n",
    "            description='run simtool',\n",
    "            disabled=False,\n",
    "            button_style='', # 'success', 'info', 'warning', 'danger' or ''\n",
    "            tooltip='run to submit qe simtool'\n",
    "        )\n",
    "        self.button.on_click(self._on_button_clicked)\n",
    "        self.ecutwfc = widgets.BoundedFloatText(\n",
    "            value=50,\n",
    "            min=50,\n",
    "            max=400,\n",
    "            step=10,\n",
    "            description='ecutwfc:',\n",
    "            disabled=False\n",
    "        )\n",
    "        self.ecutrho = widgets.BoundedFloatText(\n",
    "            value=200,\n",
    "            min=200,\n",
    "            max=1600,\n",
    "            step=40,\n",
    "            description='ecutrho:',\n",
    "            disabled=False\n",
    "        )\n",
    "        self.smearing = widgets.Select(\n",
    "            options=['smearing','fixed'],\n",
    "            value='fixed',\n",
    "            rows = 2,\n",
    "            description='smearing:',\n",
    "            disabled=False\n",
    "        )\n",
    "        self.pp_menu1 = widgets.Combobox(\n",
    "            placeholder=\"choose a pseudopotential\",\n",
    "            options=filtered_pp_list,\n",
    "            description='pseudopotential 1:',\n",
    "            disabled=False\n",
    "        )\n",
    "        self.pp_menu2 = widgets.Combobox(\n",
    "            placeholder=\"choose a pseudopotential\",\n",
    "            options=filtered_pp_list,\n",
    "            description='pseudopotential 2:',\n",
    "            disabled=False\n",
    "        )\n",
    "        self.output = widgets.Output()\n",
    "        def _on_button_clicked(self, change):\n",
    "            with output:\n",
    "                print(\"submitting sim2l run with formula\" , self.compound.value, self.spacegroup.value)\n",
    "                runSim2l()\n",
    "                r = Run(simToolLocation,inputs)\n",
    "\n",
    "        # display(c, s, button, output)\n",
    "        def runSim2l():\n",
    "            inputs['loglevel'].value = log.value\n",
    "            inputs['walltime'].value = walltime.value\n",
    "            inputs['numnodes'].value = numnodes.value\n",
    "            inputs['ecutwfc'].value = ecutwfc.value\n",
    "            inputs['ecutrho'].value = ecutrho.value\n",
    "            inputs['pps'].value = [pp_menu1.value, pp_menu2.value]\n",
    "            inputs['smearing'].value = smearing.value\n",
    "            inputs['struct_dict'].value = struct_dict"
   ]
  },
  {
   "cell_type": "code",
   "execution_count": null,
   "metadata": {},
   "outputs": [],
   "source": [
    "log = widgets.Select(\n",
    "    options=[\"DEBUG\", \"INFO\", \"WARNING\", \"ERROR\", \"CRITICAL\"],\n",
    "    value='DEBUG',\n",
    "    # rows=10,\n",
    "    description='Log Level:',\n",
    "\n",
    "compound = widgets.Text(\n",
    "    value='ZnO',\n",
    "    placeholder='chemical formula',\n",
    "    description='Compound:',\n",
    "    disabled=False\n",
    ")\n",
    "\n",
    "walltime = widgets.Text(\n",
    "    value='01:00:00',\n",
    "    placeholder='walltime',\n",
    "    description='walltime:',\n",
    "    disabled=False\n",
    ")\n",
    "numnodes = widgets.IntText(\n",
    "    value=8,\n",
    "    placeholder='nodes',\n",
    "    description='nodes:',\n",
    "    disabled=False\n",
    ") \n",
    "button = widgets.Button(\n",
    "    description='run simtool',\n",
    "    disabled=False,\n",
    "    button_style='', # 'success', 'info', 'warning', 'danger' or ''\n",
    "    tooltip='run to submit qe simtool'\n",
    ")\n",
    "ecutwfc = widgets.BoundedFloatText(\n",
    "    value=50,\n",
    "    min=50,\n",
    "    max=400,\n",
    "    step=10,\n",
    "    description='ecutwfc:',\n",
    "    disabled=False\n",
    ")\n",
    "ecutrho = widgets.BoundedFloatText(\n",
    "    value=200,\n",
    "    min=200,\n",
    "    max=1600,\n",
    "    step=40,\n",
    "    description='ecutrho:',\n",
    "    disabled=False\n",
    ")\n",
    "smearing = widgets.Select(\n",
    "    options=['smearing','fixed'],\n",
    "    value='fixed',\n",
    "    rows = 2,\n",
    "    description='smearing:',\n",
    "    disabled=False\n",
    ")\n",
    "pp_menu1 = widgets.Combobox(\n",
    "    placeholder=\"choose a pseudopotential\",\n",
    "    options=filtered_pp_list,\n",
    "    description='pseudopotential 1:',\n",
    "    disabled=False\n",
    ")\n",
    "pp_menu2 = widgets.Combobox(\n",
    "    placeholder=\"choose a pseudopotential\",\n",
    "    options=filtered_pp_list,\n",
    "    description='pseudopotential 2:',\n",
    "    disabled=False\n",
    ")\n",
    "\n",
    "output = widgets.Output()\n",
    "\n",
    "def runSim2l():\n",
    "    inputs['loglevel'].value = log.value\n",
    "    inputs['walltime'].value = walltime.value\n",
    "    inputs['numnodes'].value = numnodes.value\n",
    "    inputs['ecutwfc'].value = ecutwfc.value\n",
    "    inputs['ecutrho'].value = ecutrho.value\n",
    "    inputs['pps'].value = [pp_menu1.value, pp_menu2.value]\n",
    "    inputs['smearing'].value = smearing.value\n",
    "    inputs['struct_dict'].value = struct_dict\n",
    "\n",
    "def on_button_clicked(b):\n",
    "    with output:\n",
    "        print(\"submitting sim2l run with formula\" , compound.value)\n",
    "        runSim2l()\n",
    "        r = Run(simToolLocation,inputs)\n",
    "        r.getResultSummary()\n",
    "        print(r.read('spectra'))\n",
    "        \n",
    "        \n",
    "button.on_click(on_button_clicked)\n",
    "\n",
    "structure = widgets.VBox([compound,spacegroup])\n",
    "simulation = widgets.VBox([ecutrho, ecutwfc, smearing, pp_menu1, pp_menu2])\n",
    "run_details = widgets.VBox([walltime, numnodes, log])\n",
    "\n",
    "accordion = widgets.VBox([widgets.Accordion(children=[simulation,run_details]),button,output])\n",
    "display(accordion)"
   ]
  },
  {
   "cell_type": "markdown",
   "metadata": {},
   "source": [
    "### Show User Predetermined Outputs and their Explainations"
   ]
  },
  {
   "cell_type": "code",
   "execution_count": null,
   "metadata": {
    "scrolled": true
   },
   "outputs": [],
   "source": [
    "outputs = getSimToolOutputs(simToolLocation)"
   ]
  },
  {
   "cell_type": "code",
   "execution_count": null,
   "metadata": {},
   "outputs": [],
   "source": [
    "outputs"
   ]
  },
  {
   "cell_type": "markdown",
   "metadata": {},
   "source": [
    "### Run simtool to obtain Predicted Raman Tensor and Spectrum Graph"
   ]
  },
  {
   "cell_type": "code",
   "execution_count": null,
   "metadata": {},
   "outputs": [],
   "source": [
    "r.getResultSummary()"
   ]
  },
  {
   "cell_type": "code",
   "execution_count": null,
   "metadata": {},
   "outputs": [],
   "source": [
    "print(r.read('logreport'))"
   ]
  },
  {
   "cell_type": "code",
   "execution_count": null,
   "metadata": {},
   "outputs": [],
   "source": [
    "r.read('spectra')"
   ]
  },
  {
   "cell_type": "code",
   "execution_count": null,
   "metadata": {},
   "outputs": [],
   "source": [
    "#check inputs\n",
    "r.input_dict"
   ]
  },
  {
   "cell_type": "code",
   "execution_count": null,
   "metadata": {},
   "outputs": [],
   "source": [
    "#find output location\n",
    "print(r.outdir)"
   ]
  },
  {
   "cell_type": "code",
   "execution_count": null,
   "metadata": {},
   "outputs": [],
   "source": []
  }
 ],
 "metadata": {
  "celltoolbar": "Tags",
  "kernelspec": {
   "display_name": "Python 3",
   "language": "python",
   "name": "python3"
  },
  "language_info": {
   "codemirror_mode": {
    "name": "ipython",
    "version": 3
   },
   "file_extension": ".py",
   "mimetype": "text/x-python",
   "name": "python",
   "nbconvert_exporter": "python",
   "pygments_lexer": "ipython3",
   "version": "3.7.7"
  }
 },
 "nbformat": 4,
 "nbformat_minor": 2
}
