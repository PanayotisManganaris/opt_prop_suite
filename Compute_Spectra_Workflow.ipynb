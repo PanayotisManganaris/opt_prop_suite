{
 "cells": [
  {
   "cell_type": "markdown",
   "metadata": {},
   "source": [
    "\n",
    "# Compute Spectra Workflow\n",
    "\n",
    "### Welcome to Optical Property Suite! Built on QuantumEspresso v6.8 and Hublib via SimTool v0.3.3\n",
    "#### To begin computationally exploring the optical properties of a material of interest simply:\n",
    "1. Identify material system of interest. Options:\n",
    "  - Choose from an online crystals database\n",
    "  - Write or enter your own crystal file(s)\n",
    "2. Specify simulation parameters\n",
    "3. Run simulation\n",
    "4. View standard summary of results\n",
    "\n",
    "To more thoroughly explore the data aggregated by the users of this tool on nanoHUB, go the the *Analyze Spectra Workflow* app."
   ]
  },
  {
   "cell_type": "code",
   "execution_count": null,
   "metadata": {},
   "outputs": [
    {
     "name": "stderr",
     "output_type": "stream",
     "text": [
      "/apps/share64/debian7/anaconda/anaconda-6/lib/python3.7/site-packages/xarray/core/merge.py:10: FutureWarning: The Panel class is removed from pandas. Accessing it from the top-level namespace will also be removed in the next version\n",
      "  PANDAS_TYPES = (pd.Series, pd.DataFrame, pd.Panel)\n"
     ]
    }
   ],
   "source": [
    "%load_ext autoreload\n",
    "%autoreload 2"
   ]
  },
  {
   "cell_type": "code",
   "execution_count": 1,
   "metadata": {},
   "outputs": [
    {
     "name": "stderr",
     "output_type": "stream",
     "text": [
      "/apps/share64/debian10/anaconda/anaconda-7/lib/python3.8/site-packages/scrapbook/__init__.py:8: FutureWarning: 'nteract-scrapbook' package has been renamed to `scrapbook`. No new releases are going out for this old package name.\n",
      "  warnings.warn(\"'nteract-scrapbook' package has been renamed to `scrapbook`. No new releases are going out for this old package name.\", FutureWarning)\n"
     ]
    },
    {
     "data": {
      "application/javascript": [
       "\n",
       "requirejs.undef('filepicker');\n",
       "\n",
       "define('filepicker', [\"@jupyter-widgets/base\"], function(widgets) {\n",
       "\n",
       "    var FilePickerView = widgets.DOMWidgetView.extend({\n",
       "        render: function(){\n",
       "            this.file = document.createElement('input');\n",
       "            this.file.setAttribute('class', 'fileinput');\n",
       "            this.file.setAttribute('id', this.cid);\n",
       "            this.file.multiple = this.model.get('multiple');\n",
       "            this.file.required = true;\n",
       "            this.file.setAttribute('type', 'file');\n",
       "            this.file.setAttribute('style', 'display:none');\n",
       "\n",
       "            this.label = document.createElement('label');\n",
       "            this.label.setAttribute('for', this.cid);\n",
       "            this.label.setAttribute('style', 'border: 1px solid; border-radius: 5px; display: inline-block; padding: 6px 12px');\n",
       "\n",
       "            this.icon = document.createElement('i');\n",
       "            this.icon.setAttribute(\"class\", \"fa fa-upload\");\n",
       "\n",
       "            if (this.file.multiple) {\n",
       "                this.labelstr = \"  Upload Files\";\n",
       "            } else {\n",
       "                this.labelstr = \"  Upload File\";\n",
       "            }\n",
       "            this.label.innerHTML = this.labelstr;\n",
       "            this.label.prepend(this.icon);\n",
       "            this.el.appendChild(this.label);\n",
       "            this.el.appendChild(this.file);\n",
       "            this.listenTo(this.model, 'change:send', this._send_changed, this);\n",
       "            this.listenTo(this.model, 'change:reset', this._reset, this);\n",
       "            this.update();\n",
       "        },\n",
       "\n",
       "        events: {\n",
       "            // List of events and their handlers.\n",
       "            'change': 'handle_file_change'\n",
       "        },\n",
       "\n",
       "        _reset: function() {\n",
       "            this.label.innerHTML = this.labelstr;\n",
       "            this.label.prepend(this.icon);\n",
       "            this.file.removeAttribute(\"disabled\");\n",
       "        },\n",
       "\n",
       "        _send_changed: function() {\n",
       "            var that = this;\n",
       "            var send = this.model.get('send');\n",
       "            var fnum = send[0];\n",
       "            var offset = send[1];\n",
       "            var chunk_size=64*1024;\n",
       "            var reader;\n",
       "\n",
       "            if (fnum == -1) {\n",
       "                // ignore\n",
       "                return\n",
       "            }\n",
       "\n",
       "            if (offset == 0) {\n",
       "                this.model.set('sent', -1);\n",
       "                this.touch();\n",
       "            }\n",
       "\n",
       "            // console.log('send: ' + fnum + ' ' + offset);\n",
       "            function tob64( buffer ) {\n",
       "                var binary = '';\n",
       "                var bytes = new Uint8Array( buffer );\n",
       "                var len = bytes.byteLength;\n",
       "                for (var i = 0; i < len; i++) {\n",
       "                    binary += String.fromCharCode( bytes[ i ] );\n",
       "                }\n",
       "                return window.btoa( binary );\n",
       "            }\n",
       "\n",
       "            var reader_done = function (event) {\n",
       "                // chunk is finished.  Send to python\n",
       "                if (event.target.error == null) {\n",
       "                    var b64 = tob64(event.target.result);\n",
       "                    that.model.set('data', b64);\n",
       "                    that.model.set('sent', offset);\n",
       "                    that.touch();\n",
       "                } else {\n",
       "                    console.log(\"Read error: \" + event.target.error);\n",
       "                    that.model.set('data', '');\n",
       "                    that.model.set('sent', -2);\n",
       "                    that.touch();\n",
       "                }\n",
       "                that.touch();\n",
       "            }\n",
       "        \n",
       "            var chunk_reader = function (_offset, _f) {\n",
       "                // console.log('CR' + ' ' + _f + ' ' + _offset);\n",
       "                reader = new FileReader();\n",
       "                var chunk = _f.slice(_offset, chunk_size + _offset);            \n",
       "                reader.readAsArrayBuffer(chunk);\n",
       "                reader.onload = reader_done;\n",
       "            }\n",
       "    \n",
       "            // OK. request next chunk\n",
       "            chunk_reader(offset, this.files[fnum]);\n",
       "        },\n",
       "        \n",
       "        \n",
       "        handle_file_change: function(evt) {\n",
       "\n",
       "            var _files = evt.target.files;\n",
       "            var filenames = [];\n",
       "            var file_readers = [];\n",
       "            this.files = [];\n",
       "\n",
       "            for (var i = 0; i < _files.length; i++) {\n",
       "                var file = _files[i];\n",
       "                console.log(\"Filename: \" + file.name);\n",
       "                console.log(\"Type: \" + file.type);\n",
       "                console.log(\"Size: \" + file.size + \" bytes\");\n",
       "                this.files.push(file);\n",
       "                filenames.push([file.name, file.size]);\n",
       "            };\n",
       "            \n",
       "            // Set the filenames of the files.\n",
       "            this.model.set('filenames', filenames);\n",
       "            this.touch();\n",
       "\n",
       "            // update the label\n",
       "            if (filenames.length == 0) {\n",
       "                this.label.innerHTML = this.labelstr;\n",
       "                this.file.removeAttribute(\"disabled\");\n",
       "            } else if (filenames.length == 1) {\n",
       "                this.label.innerHTML = \"  \" + filenames[0][0];\n",
       "                this.file.setAttribute('disabled', 'true');\n",
       "            } else {\n",
       "                this.label.innerHTML = \"  \" + filenames.length + \" files selected\";\n",
       "                this.file.setAttribute('disabled', 'true');           \n",
       "            };\n",
       "            this.label.prepend(this.icon);\n",
       "        },\n",
       "    });\n",
       "\n",
       "    // Register the FilePickerView with the widget manager.\n",
       "    return {\n",
       "        FilePickerView: FilePickerView\n",
       "    };\n",
       "});\n"
      ],
      "text/plain": [
       "<IPython.core.display.Javascript object>"
      ]
     },
     "metadata": {},
     "output_type": "display_data"
    }
   ],
   "source": [
    "#user interface utilities \n",
    "import pandas as pd\n",
    "\n",
    "from simtool import findInstalledSimToolNotebooks,searchForSimTool\n",
    "from simtool import getSimToolInputs,getSimToolOutputs,Run\n",
    "\n",
    "from hublib.ui import Tab, Form\n",
    "from frontend import *"
   ]
  },
  {
   "cell_type": "markdown",
   "metadata": {},
   "source": [
    " ### Authenticate to use remote materials databases \n",
    " You will be automatically authenticated to use a database if you have a corresponding keyfile in your nanohub home directory."
   ]
  },
  {
   "cell_type": "code",
   "execution_count": 2,
   "metadata": {},
   "outputs": [],
   "source": [
    "AU = Authenticate() #isolate instantiation for the renewal mechanism to function"
   ]
  },
  {
   "cell_type": "code",
   "execution_count": 3,
   "metadata": {},
   "outputs": [
    {
     "data": {
      "application/vnd.jupyter.widget-view+json": {
       "model_id": "99da33e2e41642aba411c0b17b99c604",
       "version_major": 2,
       "version_minor": 0
      },
      "text/plain": [
       "Group(children=(HTML(value=\"<p   style='background-color: #DCDCDC; font-size: 150%; padding: 5px'>Authenticate…"
      ]
     },
     "metadata": {},
     "output_type": "display_data"
    }
   ],
   "source": [
    "mpForm = Form([AU.mpkey()], name=\"Materials Project\")\n",
    "\n",
    "AuthTabs = Tab([mpForm], desc=\"Sign into given database servers to use their records\")\n",
    "Form([AuthTabs, AU.renew_button], name=\"Authenticate\")"
   ]
  },
  {
   "cell_type": "markdown",
   "metadata": {},
   "source": [
    "### Perform Remote Queries and Switch Between Them. Optional.\n",
    "You must be authenticate into each databases you wish to use."
   ]
  },
  {
   "cell_type": "code",
   "execution_count": 4,
   "metadata": {},
   "outputs": [
    {
     "data": {
      "application/vnd.jupyter.widget-view+json": {
       "model_id": "63ade1c8f31d43f386fe451473b9f534",
       "version_major": 2,
       "version_minor": 0
      },
      "text/plain": [
       "Group(children=(HTML(value=\"<p   style='background-color: #DCDCDC; font-size: 150%; padding: 5px'>Pick Data So…"
      ]
     },
     "metadata": {},
     "output_type": "display_data"
    }
   ],
   "source": [
    "qp = QueryPanel()\n",
    "Form([qp.toggles, qp.progressout], name=\"Pick Data Source\")"
   ]
  },
  {
   "cell_type": "code",
   "execution_count": 8,
   "metadata": {
    "scrolled": false
   },
   "outputs": [
    {
     "data": {
      "application/vnd.jupyter.widget-view+json": {
       "model_id": "5bdc6e6eabde4f058c4d4714526fce7c",
       "version_major": 2,
       "version_minor": 0
      },
      "text/plain": [
       "Group(children=(HTML(value=\"<p   style='background-color: #DCDCDC; font-size: 150%; padding: 5px'>Select or Pr…"
      ]
     },
     "metadata": {},
     "output_type": "display_data"
    }
   ],
   "source": [
    "ss = InputSuite(qp.Q)\n",
    "remoteform = Form([ss.remote_menu],\n",
    "                  name=\"Retrieve\",\n",
    "                  desc=\"Search for structures by ID in the toggled database\")\n",
    "textform = Form([ss.copybox, ss.plotbutton],\n",
    "                name=\"Write\",\n",
    "                desc='accepts POSCAR, cif, vasprun.xml, CSSR, Netcdf and pymatgen’s JSON-serialized structures')\n",
    "fileform = Form([ss.upload_button, ss.files_menu],\n",
    "                name=\"Upload\",\n",
    "                desc='accepts multiple of cif, poscar, cssr, json, yaml, xsf, mcsqs')\n",
    "InTabs = Tab([remoteform, textform, fileform], desc=\"Input a Structure to use in Simulations\")\n",
    "Form([InTabs, ss.plotout], name=\"Select or Provide a Semiconductor to Simulate\")"
   ]
  },
  {
   "cell_type": "code",
   "execution_count": 15,
   "metadata": {},
   "outputs": [
    {
     "data": {
      "text/plain": [
       "Structure Summary\n",
       "Lattice\n",
       "    abc : 4.110279 4.110279 4.110279\n",
       " angles : 90.0 90.0 90.0\n",
       " volume : 69.44067064750126\n",
       "      A : 4.110279 0.0 0.0\n",
       "      B : 0.0 4.110279 0.0\n",
       "      C : 0.0 0.0 4.110279\n",
       "PeriodicSite: Zr (0.0000, 0.0000, 0.0000) [0.0000, 0.0000, 0.0000]\n",
       "PeriodicSite: B (0.8179, 2.0551, 2.0551) [0.1990, 0.5000, 0.5000]\n",
       "PeriodicSite: B (2.0551, 2.0551, 3.2923) [0.5000, 0.5000, 0.8010]\n",
       "PeriodicSite: B (2.0551, 2.0551, 0.8179) [0.5000, 0.5000, 0.1990]\n",
       "PeriodicSite: B (2.0551, 0.8179, 2.0551) [0.5000, 0.1990, 0.5000]\n",
       "PeriodicSite: B (2.0551, 3.2923, 2.0551) [0.5000, 0.8010, 0.5000]\n",
       "PeriodicSite: B (3.2923, 2.0551, 2.0551) [0.8010, 0.5000, 0.5000]"
      ]
     },
     "execution_count": 15,
     "metadata": {},
     "output_type": "execute_result"
    }
   ],
   "source": [
    "ss.struct"
   ]
  },
  {
   "cell_type": "markdown",
   "metadata": {},
   "source": [
    "# Perform a series of simulations to obtain optical spectra"
   ]
  },
  {
   "cell_type": "markdown",
   "metadata": {},
   "source": [
    "### Find relax_sim simtool notebook and confirm"
   ]
  },
  {
   "cell_type": "code",
   "execution_count": 9,
   "metadata": {},
   "outputs": [
    {
     "name": "stdout",
     "output_type": "stream",
     "text": [
      "notebookPath = /home/nanohub/nykiel.4/opt_prop/opt_prop_suite/simtool/relax_sim.ipynb\n",
      "simToolName = relax_sim\n",
      "simToolRevision = None\n",
      "published = False\n"
     ]
    }
   ],
   "source": [
    "#simToolName = \"670raman\"\n",
    "simToolName = \"relax_sim\"\n",
    "simToolLocation = searchForSimTool(simToolName)\n",
    "for key in simToolLocation.keys():\n",
    "    print(f\"{key} = {simToolLocation[key]}\")"
   ]
  },
  {
   "cell_type": "code",
   "execution_count": null,
   "metadata": {
    "scrolled": true
   },
   "outputs": [],
   "source": [
    "ecutwfc_list = [50]\n",
    "ecutrho_list = []\n",
    "kpoints_list = [4]\n",
    "struct_dict_list = []\n",
    "results_list = []\n",
    "\n",
    "inputs['pp_class'].value = 'PAW'\n",
    "inputs['struct_dict'].value = struct_dict\n",
    "\n",
    "for ecutwfc in ecutwfc_list:\n",
    "    for kpoints in kpoints_list:\n",
    "        inputs['ecutwfc'].value = ecutwfc\n",
    "        inputs['kpoints'].value = kpoints\n",
    "        print(\"running sim with \",ecutwfc,\" and \",kpoints)\n",
    "        r = Run(simToolLocation,inputs)\n",
    "        results_list.append(r.getResultSummary())"
   ]
  },
  {
   "cell_type": "code",
   "execution_count": null,
   "metadata": {
    "scrolled": false
   },
   "outputs": [],
   "source": [
    "# get list of available pseudopotential files\n",
    "\n",
    "pp_list = []\n",
    "\n",
    "for filename in os.listdir(\"./simtool/pseudo/\"):\n",
    "    f = os.path.join(\"./simtool/pseudo/\", filename)\n",
    "    # get a list of all the PPs -- is this best instatiated here or globally?\n",
    "    # if instanced here, the user could probably pass their own PPs to the constructor as well\n",
    "    if os.path.isfile(f):\n",
    "        pp_list.append(filename)\n",
    "\n",
    "# filter by selected compound compositions\n",
    "elements = np.unique([''.join([i for i in str(i.species) if i.isalpha()]) for i in struct.sites])\n",
    "filtered_pp_list = [pp for pp in pp_list for e in elements if e in pp]\n",
    "\n",
    "# make widgets for sim2l parameters\n",
    "\n",
    "log = widgets.Select(\n",
    "    options=[\"DEBUG\", \"INFO\", \"WARNING\", \"ERROR\", \"CRITICAL\"],\n",
    "    value='DEBUG',\n",
    "    # rows=10,\n",
    "    description='Log Level:',\n",
    ")\n",
    "\n",
    "walltime = widgets.Text(\n",
    "    value='01:00:00',\n",
    "    placeholder='walltime',\n",
    "    description='walltime:',\n",
    "    disabled=False\n",
    ")\n",
    "numnodes = widgets.IntText(\n",
    "    value=8,\n",
    "    placeholder='nodes',\n",
    "    description='nodes:',\n",
    "    disabled=False\n",
    ") \n",
    "button = widgets.Button(\n",
    "    description='run simtool',\n",
    "    disabled=False,\n",
    "    button_style='', # 'success', 'info', 'warning', 'danger' or ''\n",
    "    tooltip='run to submit qe simtool'\n",
    ")\n",
    "storage = widgets.Select(\n",
    "    options=[\"none\", \"nowf\", \"low\", \"medium\"],\n",
    "    value=\"none\",\n",
    "    description='wfn + dat files to save:',\n",
    ")\n",
    "ecutwfc = widgets.BoundedFloatText(\n",
    "    value=50,\n",
    "    min=50,\n",
    "    max=400,\n",
    "    step=10,\n",
    "    description='ecutwfc:',\n",
    "    disabled=False\n",
    ")\n",
    "kpoints = widgets.BoundedFloatText(\n",
    "    value=6,\n",
    "    min=1,\n",
    "    max=20,\n",
    "    step=1,\n",
    "    description='kpoints:',\n",
    "    disabled=False\n",
    ")\n",
    "ecutrho = widgets.BoundedFloatText(\n",
    "    value=200,\n",
    "    min=200,\n",
    "    max=1600,\n",
    "    step=40,\n",
    "    description='ecutrho:',\n",
    "    disabled=False\n",
    ")\n",
    "smearing = widgets.Select(\n",
    "    options=['smearing','fixed'],\n",
    "    value='fixed',\n",
    "    rows = 2,\n",
    "    description='smearing:',\n",
    "    disabled=False\n",
    ")\n",
    "pp_menu1 = widgets.Combobox(\n",
    "    placeholder=\"choose a pseudopotential\",\n",
    "    options=filtered_pp_list,\n",
    "    description='pseudo 1:',\n",
    "    disabled=False\n",
    ")\n",
    "pp_menu2 = widgets.Combobox(\n",
    "    placeholder=\"choose a pseudopotential\",\n",
    "    options=filtered_pp_list,\n",
    "    description='pseudo 2:',\n",
    "    disabled=False\n",
    ")\n",
    "\n",
    "output = widgets.Output()\n",
    "\n",
    "def runSim2l():\n",
    "    inputs['loglevel'].value = log.value\n",
    "    inputs['walltime'].value = walltime.value\n",
    "    inputs['numnodes'].value = numnodes.value\n",
    "    inputs['storage'].value = storage.value\n",
    "    inputs['ecutwfc'].value = ecutwfc.value\n",
    "    inputs['ecutrho'].value = ecutrho.value\n",
    "    inputs['kpoints'].value = kpoints.value\n",
    "    inputs['pps'].value = [pp_menu1.value, pp_menu2.value]\n",
    "    inputs['smearing'].value = smearing.value\n",
    "    inputs['struct_dict'].value = struct_dict\n",
    "\n",
    "def on_button_clicked(b):\n",
    "    with output:\n",
    "        runSim2l()\n",
    "        r = Run(simToolLocation,inputs)\n",
    "        results = r.getResultSummary()\n",
    "        print(r.read('spectra'))\n",
    "    return results\n",
    "        \n",
    "        \n",
    "results = button.on_click(on_button_clicked)\n",
    "\n",
    "simulation = widgets.VBox([ecutrho, ecutwfc, kpoints, smearing, pp_menu1, pp_menu2])\n",
    "run_details = widgets.VBox([walltime, numnodes, log])\n",
    "\n",
    "accordion = widgets.VBox([widgets.Accordion(children=[simulation,run_details]),button,output])\n",
    "display(accordion)"
   ]
  },
  {
   "cell_type": "markdown",
   "metadata": {},
   "source": [
    "### Show User Predetermined Outputs and their Explainations"
   ]
  },
  {
   "cell_type": "code",
   "execution_count": null,
   "metadata": {
    "scrolled": true
   },
   "outputs": [],
   "source": [
    "outputs = getSimToolOutputs(simToolLocation)\n",
    "outputs"
   ]
  },
  {
   "cell_type": "markdown",
   "metadata": {},
   "source": [
    "### Run simtool to obtain Predicted Raman Tensor and Spectrum Graph"
   ]
  },
  {
   "cell_type": "code",
   "execution_count": null,
   "metadata": {},
   "outputs": [],
   "source": [
    "r.getResultSummary()"
   ]
  },
  {
   "cell_type": "code",
   "execution_count": null,
   "metadata": {},
   "outputs": [],
   "source": [
    "results.read('spectra')"
   ]
  },
  {
   "cell_type": "code",
   "execution_count": null,
   "metadata": {
    "scrolled": true
   },
   "outputs": [],
   "source": [
    "r.read('spectra')"
   ]
  },
  {
   "cell_type": "code",
   "execution_count": null,
   "metadata": {},
   "outputs": [],
   "source": [
    "print(r.read('logreport'))"
   ]
  },
  {
   "cell_type": "code",
   "execution_count": null,
   "metadata": {
    "scrolled": true
   },
   "outputs": [],
   "source": [
    "#check inputs\n",
    "r.input_dict"
   ]
  },
  {
   "cell_type": "code",
   "execution_count": null,
   "metadata": {},
   "outputs": [],
   "source": [
    "#find output location\n",
    "print(r.outdir)"
   ]
  }
 ],
 "metadata": {
  "kernelspec": {
   "display_name": "Python 3",
   "language": "python",
   "name": "python3"
  },
  "language_info": {
   "codemirror_mode": {
    "name": "ipython",
    "version": 3
   },
   "file_extension": ".py",
   "mimetype": "text/x-python",
   "name": "python",
   "nbconvert_exporter": "python",
   "pygments_lexer": "ipython3",
   "version": "3.8.10"
  }
 },
 "nbformat": 4,
 "nbformat_minor": 2
}
