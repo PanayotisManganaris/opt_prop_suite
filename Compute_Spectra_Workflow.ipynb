{
 "cells": [
  {
   "cell_type": "markdown",
   "metadata": {},
   "source": [
    "# Import Dependencies"
   ]
  },
  {
   "cell_type": "code",
   "execution_count": 20,
   "metadata": {},
   "outputs": [],
   "source": [
    "#data tools\n",
    "import pandas as pd\n",
    "from pymatgen import MPRester\n",
    "#from pymatgen.vis import structure_chemview as viz\n",
    "\n",
    "#simtool loading and interface\n",
    "from simtool import findInstalledSimToolNotebooks,searchForSimTool\n",
    "from simtool import getSimToolInputs,getSimToolOutputs,Run\n",
    "\n",
    "#user interface utilities \n",
    "import os, stat\n",
    "import ipywidgets as widgets\n",
    "from IPython.display import display\n",
    "from IPython.display import clear_output"
   ]
  },
  {
   "cell_type": "markdown",
   "metadata": {},
   "source": [
    "### User Create ~/.mpkey.txt if it doesn't already exist"
   ]
  },
  {
   "cell_type": "code",
   "execution_count": 1,
   "metadata": {},
   "outputs": [
    {
     "name": "stdout",
     "output_type": "stream",
     "text": [
      "Success\n"
     ]
    }
   ],
   "source": [
    "#key security\n",
    "try:\n",
    "    user = str(input('Paste MP API key: '))\n",
    "    clear_output()\n",
    "    if not user.isalnum():\n",
    "        raise TypeError('Wrong Key')\n",
    "    if user is None:\n",
    "        raise TypeError('Empty')\n",
    "    with open(os.path.expanduser('~/.mpkey.txt'), 'w') as keyfile:\n",
    "        keyfile.write(user)\n",
    "    os.chmod(os.path.expanduser('~/.mpkey.txt'), stat.S_IREAD | stat.S_IWRITE)\n",
    "    del user\n",
    "    print(\"Success\")\n",
    "except:\n",
    "    print(\"Something seems wrong with your key\")"
   ]
  },
  {
   "cell_type": "markdown",
   "metadata": {},
   "source": [
    "## User Prompted To pick their SemiConductor of Choice\n",
    "### Choice (a): query MP and fliter on properties. Dataframe is updated with each selection."
   ]
  },
  {
   "cell_type": "code",
   "execution_count": 6,
   "metadata": {},
   "outputs": [
    {
     "data": {
      "application/vnd.jupyter.widget-view+json": {
       "model_id": "0165bb3f1dc04b0687167f36cc17a1ce",
       "version_major": 2,
       "version_minor": 0
      },
      "text/plain": [
       "HBox(children=(FloatProgress(value=0.0, max=18494.0), HTML(value='')))"
      ]
     },
     "metadata": {},
     "output_type": "display_data"
    }
   ],
   "source": [
    "with open(os.path.expanduser(\"~/.mpkey.txt\"), \"r+\") as file:\n",
    "    apikey = file.readline()\n",
    "rester = MPRester(apikey)\n",
    "sc_dicts = rester.query({ \"crystal_system\": \"cubic\"},\n",
    "                        [\"task_id\",\"pretty_formula\",\"formula\",\"elements\",\"e_above_hull\", \"spacegroup.number\", \"band_gap\", \"crystal_system\"])\n",
    "sc_df = pd.DataFrame(sc_dicts)"
   ]
  },
  {
   "cell_type": "code",
   "execution_count": null,
   "metadata": {},
   "outputs": [],
   "source": [
    "#if you don't, search for your structure by filtering\n"
   ]
  },
  {
   "cell_type": "code",
   "execution_count": 10,
   "metadata": {},
   "outputs": [
    {
     "data": {
      "application/vnd.jupyter.widget-view+json": {
       "model_id": "920933833949492eb8b438be8c3e1436",
       "version_major": 2,
       "version_minor": 0
      },
      "text/plain": [
       "IntText(value=2133, description='MPID:')"
      ]
     },
     "metadata": {},
     "output_type": "display_data"
    }
   ],
   "source": [
    "#if you know the mp-id: give it here to get a structure object\n",
    "mpid = widgets.IntText(\n",
    "        value=2133,\n",
    "        description='MPID:',\n",
    "        disabled=False\n",
    ")\n",
    "\n",
    "display(mpid)"
   ]
  },
  {
   "cell_type": "code",
   "execution_count": 14,
   "metadata": {},
   "outputs": [],
   "source": [
    "struct = rester.get_structure_by_material_id(\"mp-\"+str(mpid.value), final = False, conventional_unit_cell=True)"
   ]
  },
  {
   "cell_type": "code",
   "execution_count": 21,
   "metadata": {},
   "outputs": [
    {
     "ename": "RuntimeError",
     "evalue": "To use quick_view, you need to have chemview installed.",
     "output_type": "error",
     "traceback": [
      "\u001b[0;31m---------------------------------------------------------------------------\u001b[0m",
      "\u001b[0;31mRuntimeError\u001b[0m                              Traceback (most recent call last)",
      "\u001b[0;32m<ipython-input-21-fc9d18e20ea9>\u001b[0m in \u001b[0;36m<module>\u001b[0;34m\u001b[0m\n\u001b[0;32m----> 1\u001b[0;31m \u001b[0mmv\u001b[0m \u001b[0;34m=\u001b[0m \u001b[0mviz\u001b[0m\u001b[0;34m.\u001b[0m\u001b[0mquick_view\u001b[0m\u001b[0;34m(\u001b[0m\u001b[0mstruct\u001b[0m\u001b[0;34m)\u001b[0m\u001b[0;34m\u001b[0m\u001b[0;34m\u001b[0m\u001b[0m\n\u001b[0m\u001b[1;32m      2\u001b[0m \u001b[0mmv\u001b[0m\u001b[0;34m.\u001b[0m\u001b[0mball_and_stick\u001b[0m\u001b[0;34m(\u001b[0m\u001b[0;34m)\u001b[0m\u001b[0;34m\u001b[0m\u001b[0;34m\u001b[0m\u001b[0m\n",
      "\u001b[0;32m/apps/share64/debian7/anaconda/anaconda-6/lib/python3.7/site-packages/monty/dev.py\u001b[0m in \u001b[0;36mdecorated\u001b[0;34m(*args, **kwargs)\u001b[0m\n\u001b[1;32m     94\u001b[0m         \u001b[0;32mdef\u001b[0m \u001b[0mdecorated\u001b[0m\u001b[0;34m(\u001b[0m\u001b[0;34m*\u001b[0m\u001b[0margs\u001b[0m\u001b[0;34m,\u001b[0m \u001b[0;34m**\u001b[0m\u001b[0mkwargs\u001b[0m\u001b[0;34m)\u001b[0m\u001b[0;34m:\u001b[0m\u001b[0;34m\u001b[0m\u001b[0;34m\u001b[0m\u001b[0m\n\u001b[1;32m     95\u001b[0m             \u001b[0;32mif\u001b[0m \u001b[0;32mnot\u001b[0m \u001b[0mself\u001b[0m\u001b[0;34m.\u001b[0m\u001b[0mcondition\u001b[0m\u001b[0;34m:\u001b[0m\u001b[0;34m\u001b[0m\u001b[0;34m\u001b[0m\u001b[0m\n\u001b[0;32m---> 96\u001b[0;31m                 \u001b[0;32mraise\u001b[0m \u001b[0mRuntimeError\u001b[0m\u001b[0;34m(\u001b[0m\u001b[0mself\u001b[0m\u001b[0;34m.\u001b[0m\u001b[0mmessage\u001b[0m\u001b[0;34m)\u001b[0m\u001b[0;34m\u001b[0m\u001b[0;34m\u001b[0m\u001b[0m\n\u001b[0m\u001b[1;32m     97\u001b[0m             \u001b[0;32mreturn\u001b[0m \u001b[0m_callable\u001b[0m\u001b[0;34m(\u001b[0m\u001b[0;34m*\u001b[0m\u001b[0margs\u001b[0m\u001b[0;34m,\u001b[0m \u001b[0;34m**\u001b[0m\u001b[0mkwargs\u001b[0m\u001b[0;34m)\u001b[0m\u001b[0;34m\u001b[0m\u001b[0;34m\u001b[0m\u001b[0m\n\u001b[1;32m     98\u001b[0m \u001b[0;34m\u001b[0m\u001b[0m\n",
      "\u001b[0;31mRuntimeError\u001b[0m: To use quick_view, you need to have chemview installed."
     ]
    }
   ],
   "source": [
    "# if you're just hunting for something we display the structure for you.\n",
    "mv = viz.quick_view(struct)\n",
    "mv.ball_and_stick()"
   ]
  },
  {
   "cell_type": "code",
   "execution_count": 17,
   "metadata": {},
   "outputs": [
    {
     "data": {
      "text/plain": [
       "'Zn2 O2\\n1.0\\n1.592050 -2.757511 0.000000\\n1.592050 2.757511 0.000000\\n0.000000 0.000000 5.155100\\nZn O\\n2 2\\ndirect\\n0.666667 0.333333 0.500000 Zn\\n0.333333 0.666667 0.000000 Zn\\n0.666667 0.333333 0.880310 O\\n0.333333 0.666667 0.380310 O\\n'"
      ]
     },
     "execution_count": 17,
     "metadata": {},
     "output_type": "execute_result"
    }
   ],
   "source": [
    "#This is passed to the simtool to perform simulations\n",
    "POSCAR_str = struct.to(fmt = \"poscar\")\n",
    "POSCAR_str"
   ]
  },
  {
   "cell_type": "markdown",
   "metadata": {},
   "source": [
    "### Choice (b): upload your own poscar directly. No query necessary."
   ]
  },
  {
   "cell_type": "code",
   "execution_count": null,
   "metadata": {},
   "outputs": [],
   "source": [
    "with open(os.Path.expanduser(\"~/we_know_this_dir/POSCAR\")) as file:\n",
    "    POSCAR_str = file.readlines()\n",
    "    "
   ]
  },
  {
   "cell_type": "markdown",
   "metadata": {},
   "source": [
    "# Perform Structure Relaxation and SCF and Phonon computation and spectra extraction using simtool"
   ]
  },
  {
   "cell_type": "markdown",
   "metadata": {},
   "source": [
    "### Find 670raman simtool notebook and confirm"
   ]
  },
  {
   "cell_type": "code",
   "execution_count": null,
   "metadata": {},
   "outputs": [],
   "source": [
    "simToolName = \"670raman\"\n",
    "simToolLocation = searchForSimTool(simToolName)\n",
    "for key in simToolLocation.keys():\n",
    "    print(f\"{key} = {simToolLocation[key]}\")"
   ]
  },
  {
   "cell_type": "code",
   "execution_count": null,
   "metadata": {},
   "outputs": [],
   "source": [
    "installedSimToolNotebooks = findInstalledSimToolNotebooks(simToolName,returnString=True)\n",
    "print(installedSimToolNotebooks)"
   ]
  },
  {
   "cell_type": "markdown",
   "metadata": {},
   "source": [
    "### User Set Validated Inputs\n",
    "670raman will automatically activate your rest api interface to Materials Project\n",
    "if you have the dotfile \".mpkey.txt\" in your home directory.\n",
    "\n",
    "Otherwise, it will attempt to generate a realistic crystal structure from your chemical discription"
   ]
  },
  {
   "cell_type": "code",
   "execution_count": null,
   "metadata": {},
   "outputs": [],
   "source": [
    "#Enter your values with units! The simtool will make sure you know what you're talking about.\n",
    "inputs = getSimToolInputs(simToolLocation)\n",
    "\n",
    "compound = widgets.Text(\n",
    "    value='ZnO',\n",
    "    placeholder='chemical formula',\n",
    "    description='Compound:',\n",
    "    disabled=False\n",
    ")\n",
    "spacegroup = widgets.IntText(\n",
    "    value=186,\n",
    "    placeholder='space group',\n",
    "    description='Space group:',\n",
    "    disabled=False\n",
    ") \n",
    "\n",
    "widgets.IntSlider(\n",
    "    value=7,\n",
    "    min=0,\n",
    "    max=10,\n",
    "    step=1,\n",
    "    description='Test:',\n",
    "    disabled=False,\n",
    "    continuous_update=False,\n",
    "    orientation='horizontal',\n",
    "    readout=True,\n",
    "    readout_format='d'\n",
    ")\n",
    "\n",
    "ecutwfc = widgets.BoundedFloatText(\n",
    "    value=120,\n",
    "    min=50,\n",
    "    max=400,\n",
    "    step=10,\n",
    "    description='ecutwfc:',\n",
    "    disabled=False\n",
    ")\n",
    "\n",
    "ecutrho = widgets.BoundedFloatText(\n",
    "    value=480,\n",
    "    min=200,\n",
    "    max=1600,\n",
    "    step=40,\n",
    "    description='ecutrho:',\n",
    "    disabled=False\n",
    ")\n",
    "\n",
    "widgets.IntText(\n",
    "    value=7,\n",
    "    description='Any:',\n",
    "    disabled=False\n",
    ")\n",
    "\n",
    "button = widgets.Button(\n",
    "    description='run simtool',\n",
    "    disabled=False,\n",
    "    button_style='', # 'success', 'info', 'warning', 'danger' or ''\n",
    "    tooltip='run to submit qe simtool'\n",
    ")\n",
    "\n",
    "log = widgets.Select(\n",
    "    options=[\"DEBUG\", \"INFO\", \"WARNING\", \"ERROR\", \"CRITICAL\"],\n",
    "    value='DEBUG',\n",
    "    # rows=10,\n",
    "    description='Log Level:',\n",
    "    disabled=False\n",
    ")\n",
    "\n",
    "walltime = widgets.Text(\n",
    "    value='01:00:00',\n",
    "    placeholder='walltime',\n",
    "    description='walltime:',\n",
    "    disabled=False\n",
    ")\n",
    "\n",
    "numnodes = widgets.IntText(\n",
    "    value=8,\n",
    "    placeholder='nodes',\n",
    "    description='nodes:',\n",
    "    disabled=False\n",
    ") \n",
    "\n",
    "# These are \n",
    "pp_menu1 = widgets.Combobox(\n",
    "    placeholder=\"choose a pseudopotential\"\n",
    "    options=filtered_pp_list\n",
    "    description='pseudopotential 1:',\n",
    "    disabled=False\n",
    ") \n",
    "\n",
    "pp_menu2 = widgets.Combobox(\n",
    "    placeholder=\"choose a pseudopotential\"\n",
    "    options=filtered_pp_list\n",
    "    description='pseudopotential 2:',\n",
    "    disabled=False\n",
    ")\n",
    "\n",
    "smearing = widgets.Text(\n",
    "    value='fixed',\n",
    "    placeholder='smearing',\n",
    "    description='smearing:',\n",
    "    disabled=False\n",
    ") \n",
    "\n",
    "smearing = widgets.Select(\n",
    "    options=['smearing','fixed'],\n",
    "    value='fixed',\n",
    "    rows = 2,\n",
    "    description='smearing:',\n",
    "    disabled=False\n",
    ")\n",
    "    \n",
    "output = widgets.Output()\n",
    "\n",
    "# display(c, s, button, output)\n",
    "\n",
    "def runSim2l():\n",
    "    inputs['loglevel'].value = log.value\n",
    "    inputs['walltime'].value = walltime.value\n",
    "    inputs['numnodes'].value = numnodes.value\n",
    "    inputs['compound'].value = compound.value\n",
    "    inputs['ecutwfc'].value = ecutwfc.value\n",
    "    inputs['ecutrho'].value = ecutrho.value\n",
    "    inputs['spacegroup_international'].value = spacegroup.value\n",
    "    inputs['pps'].value = [pps1.value, pps2.value]\n",
    "    inputs['smearing'].value = smearing.value\n",
    "\n",
    "def on_button_clicked(b):\n",
    "    with output:\n",
    "        print(\"submitting sim2l run with formula\" , compound.value, spacegroup.value)\n",
    "        runSim2l()\n",
    "        r = Run(simToolLocation,inputs)\n",
    "        \n",
    "button.on_click(on_button_clicked)\n",
    "\n",
    "structure = widgets.VBox([compound,spacegroup])\n",
    "simulation = widgets.VBox([ecutrho, ecutwfc, smearing, pps1, pps2])\n",
    "run_details = widgets.VBox([walltime, numnodes, log])\n",
    "\n",
    "accordion = widgets.VBox([widgets.Accordion(children=[structure,simulation,run_details]),button,output])\n",
    "display(accordion)"
   ]
  },
  {
   "cell_type": "code",
   "execution_count": null,
   "metadata": {},
   "outputs": [],
   "source": []
  },
  {
   "cell_type": "code",
   "execution_count": null,
   "metadata": {},
   "outputs": [],
   "source": [
    "inputs #request documentation of inputs  if desired"
   ]
  },
  {
   "cell_type": "code",
   "execution_count": null,
   "metadata": {},
   "outputs": [],
   "source": [
    "inputs['loglevel'].value = \"DEBUG\"\n",
    "inputs['walltime'].value = \"01:00:00\"\n",
    "inputs['numnodes'].value = 8\n",
    "inputs['compound'].value = \"ZnO\"\n",
    "inputs['ecutwfc'].value = 50\n",
    "inputs['ecutrho'].value = 200\n",
    "inputs['spacegroup_international'].value = 186\n",
    "inputs['pps'].value = ['O.pbe-hgh.UPF', 'Zn.pbe-d-hgh.UPF']\n",
    "inputs['smearing'].value = \"fixed\""
   ]
  },
  {
   "cell_type": "markdown",
   "metadata": {},
   "source": [
    "### Show User Predetermined Outputs and their Explainations"
   ]
  },
  {
   "cell_type": "code",
   "execution_count": null,
   "metadata": {
    "scrolled": true
   },
   "outputs": [],
   "source": [
    "outputs = getSimToolOutputs(simToolLocation)"
   ]
  },
  {
   "cell_type": "code",
   "execution_count": null,
   "metadata": {},
   "outputs": [],
   "source": [
    "outputs"
   ]
  },
  {
   "cell_type": "markdown",
   "metadata": {},
   "source": [
    "### Run simtool to obtain Predicted Raman Tensor and Spectrum Graph"
   ]
  },
  {
   "cell_type": "code",
   "execution_count": null,
   "metadata": {
    "scrolled": true
   },
   "outputs": [],
   "source": [
    "r = Run(simToolLocation,inputs)"
   ]
  },
  {
   "cell_type": "code",
   "execution_count": null,
   "metadata": {},
   "outputs": [],
   "source": [
    "r.getResultSummary()"
   ]
  },
  {
   "cell_type": "code",
   "execution_count": null,
   "metadata": {},
   "outputs": [],
   "source": [
    "print(r.read('logreport'))"
   ]
  },
  {
   "cell_type": "code",
   "execution_count": null,
   "metadata": {},
   "outputs": [],
   "source": [
    "r.read('spectra')"
   ]
  },
  {
   "cell_type": "code",
   "execution_count": null,
   "metadata": {},
   "outputs": [],
   "source": [
    "#check inputs\n",
    "r.input_dict"
   ]
  },
  {
   "cell_type": "code",
   "execution_count": null,
   "metadata": {},
   "outputs": [],
   "source": [
    "#find output location\n",
    "print(r.outdir)"
   ]
  },
  {
   "cell_type": "code",
   "execution_count": null,
   "metadata": {},
   "outputs": [],
   "source": []
  }
 ],
 "metadata": {
  "celltoolbar": "Tags",
  "kernelspec": {
   "display_name": "Python 3",
   "language": "python",
   "name": "python3"
  },
  "language_info": {
   "codemirror_mode": {
    "name": "ipython",
    "version": 3
   },
   "file_extension": ".py",
   "mimetype": "text/x-python",
   "name": "python",
   "nbconvert_exporter": "python",
   "pygments_lexer": "ipython3",
   "version": "3.7.7"
  }
 },
 "nbformat": 4,
 "nbformat_minor": 2
}
